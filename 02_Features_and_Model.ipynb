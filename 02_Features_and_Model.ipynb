{
 "cells": [
  {
   "cell_type": "markdown",
   "metadata": {},
   "source": [
    "# Features and Model\n",
    "\n",
    "For Study about DS_technical_test_tutorial\n",
    "\n",
    "This notebook shows : \n",
    "- prepare features\n",
    "- train models and test them in order to classify housing assistance requests thanks to the given datasets.\n",
    "\n",
    "- This is a multi-class classification task\n",
    "\n",
    "- The metric to optimize and the datasets description are explained in DS_technical_test_tutorial.ipynb Jupyter Notebook."
   ]
  },
  {
   "cell_type": "markdown",
   "metadata": {},
   "source": [
    "## import"
   ]
  },
  {
   "cell_type": "code",
   "execution_count": 592,
   "metadata": {},
   "outputs": [],
   "source": [
    "%matplotlib inline\n",
    "import matplotlib.pyplot as plt\n",
    "plt.style.use('seaborn-whitegrid')\n",
    "import seaborn as sns\n",
    "sns.set(color_codes=True, font_scale=1.33)\n",
    "\n",
    "# HELPERS\n",
    "import time\n",
    "import datetime\n",
    "import re\n",
    "# DATA\n",
    "import numpy as np\n",
    "import pandas as pd\n",
    "import json\n",
    "\n",
    "#SCIKIT LEARN\n",
    "from sklearn.metrics import accuracy_score, log_loss, make_scorer\n",
    "from sklearn.metrics import classification_report, confusion_matrix\n",
    "from sklearn.ensemble import RandomForestClassifier, GradientBoostingClassifier\n",
    "from sklearn import model_selection\n",
    "from sklearn import preprocessing\n",
    "\n",
    "from joblib import dump, load"
   ]
  },
  {
   "cell_type": "markdown",
   "metadata": {},
   "source": [
    "## Definitions"
   ]
  },
  {
   "cell_type": "code",
   "execution_count": 626,
   "metadata": {},
   "outputs": [],
   "source": [
    "# data cleaned\n",
    "PATH_REQ_TRAIN_CLEAN = 'data/requests_train_clean.csv'\n",
    "PATH_REQ_TEST_CLEAN = 'data/requests_test_clean.csv'\n",
    "\n",
    "# Features\n",
    "PATH_FS1_LIST = 'data/fs1_list.json'\n",
    "PATH_FS1_TRAIN = 'data/fs1_train.csv'\n",
    "PATH_FS1_TEST = 'data/fs1_test.csv'\n",
    "\n",
    "# dataFrame scores\n",
    "df_results=None"
   ]
  },
  {
   "cell_type": "markdown",
   "metadata": {},
   "source": [
    "## Useful functions"
   ]
  },
  {
   "cell_type": "code",
   "execution_count": 609,
   "metadata": {},
   "outputs": [],
   "source": [
    "# Define the test scorer\n",
    "def competition_scorer(y_true, y_pred):\n",
    "    return log_loss(y_true, y_pred, sample_weight=10**y_true)\n",
    "\n",
    "\n",
    "def display_missing(df):\n",
    "    '''\n",
    "    Function to display missing values into dataframe.\n",
    "    Creates a barplots figure and outputs values.\n",
    "\n",
    "    - input : \n",
    "        df : dataframe : data to check\n",
    "    - output : \n",
    "        df_missing : dataframe : table of missing values\n",
    "    '''\n",
    "    nb_lignes = df.shape[0]\n",
    "    nb_missing = df.isnull().sum()\n",
    "    nb_missing = nb_missing.sort_values()\n",
    "    df_missing = nb_missing.to_frame()\n",
    "    df_missing.rename(index=str, columns={0: \"nb_missing\"}, inplace=True)\n",
    "    df_missing[\"ratio\"] = 100*df_missing[\"nb_missing\"] / nb_lignes\n",
    "    fig = plt.figure(figsize=(7, 7))\n",
    "    liste_name_bars = df_missing.index.values\n",
    "    liste_name_bars_num = []\n",
    "    for name in liste_name_bars:\n",
    "        liste_name_bars_num.append(\"{} [{}]\".format(\n",
    "            name, df_missing.loc[name, \"nb_missing\"]))\n",
    "    ax = sns.barplot(y=liste_name_bars_num, x='ratio', data=df_missing)\n",
    "    plt.title('Missing lines Ratio over {} lines'.format(nb_lignes))\n",
    "    ax.set(xlabel='repartition [%]')\n",
    "    ax.set_xlim([0, 100])\n",
    "    return df_missing\n",
    "\n",
    "\n",
    "def plot_hist_cat(x, data, title):\n",
    "    '''\n",
    "    Plot histogram count of categorical data \n",
    "    Add proportional information\n",
    "    '''\n",
    "    ser_val = data[x].value_counts(dropna=False)\n",
    "    pc_val = ser_val.values / data[x].shape[0]\n",
    "\n",
    "    sns.catplot(x=x, kind=\"count\", palette=\"ch:.25\", data=data, \n",
    "                height=7, \n",
    "                aspect=1.7,\n",
    "                order=ser_val.index)\n",
    "    fig = plt.gcf()\n",
    "    ax = fig.gca()\n",
    "\n",
    "    for K, y_val in enumerate(ser_val.values):\n",
    "        ax.text(K, y_val, '{:.2f}'.format(pc_val[K]))\n",
    "    \n",
    "    ax.set_title(title)\n",
    "    \n",
    "    \n",
    "    plt.setp(ax.get_xticklabels(), rotation=45, ha=\"right\",\n",
    "             rotation_mode=\"anchor\")\n",
    "\n",
    "    \n",
    "def plot_cont(X,Y,data):\n",
    "    '''\n",
    "    Calculate Chi-2 heatmap into contingency table for \n",
    "    X event and Y event\n",
    "    '''\n",
    "    c = data[[X,Y]].pivot_table(index=X,columns=Y,aggfunc=len)\n",
    "    cont = c.copy()\n",
    "\n",
    "    tx = data[X].value_counts()\n",
    "    ty = data[Y].value_counts()\n",
    "\n",
    "    cont.loc[:,\"Total\"] = tx\n",
    "    cont.loc[\"total\",:] = ty\n",
    "    cont.loc[\"total\",\"Total\"] = len(data)\n",
    "    cont\n",
    "\n",
    "    tx = pd.DataFrame(tx)\n",
    "    ty = pd.DataFrame(ty)\n",
    "    tx.columns = [\"foo\"]\n",
    "    ty.columns = [\"foo\"]\n",
    "    n = len(data)\n",
    "    indep = tx.dot(ty.T) / n\n",
    "\n",
    "    c = c.fillna(0) # on remplace les valeurs nulles par des 0\n",
    "    mesure = (c-indep)**2/indep\n",
    "    xi_n = mesure.sum().sum()\n",
    "    # plot\n",
    "    fig = plt.figure(figsize = (5,11.75))\n",
    "    sns.heatmap(mesure/xi_n, annot=c, fmt=\".0f\")\n",
    "    plt.show()\n",
    "    \n",
    "def plot_confusion_matrix(y_true, y_pred, classes,\n",
    "                          normalize=False,\n",
    "                          title=None,\n",
    "                          cmap=plt.cm.Blues, size=16, fontsize=12, \n",
    "                          threshold=None):\n",
    "    \"\"\"\n",
    "    This function prints and plots the confusion matrix.\n",
    "    Normalization can be applied by setting `normalize=True`.\n",
    "    source : \n",
    "    https://scikit-learn.org/stable/auto_examples/model_selection/plot_confusion_matrix.html\n",
    "    \"\"\"\n",
    "    if not title:\n",
    "        if normalize:\n",
    "            title = 'Normalized confusion matrix'\n",
    "        else:\n",
    "            title = 'Confusion matrix, without normalization'\n",
    "\n",
    "    # Compute confusion matrix\n",
    "    cm = confusion_matrix(y_true, y_pred)\n",
    "    # Only use the labels that appear in the data\n",
    "    classes = classes[unique_labels(y_true, y_pred)]\n",
    "\n",
    "    # extract most important confusion if threshold\n",
    "    if threshold is not None:\n",
    "      list_idx=[]\n",
    "      for i in range(0, cm.shape[0]):\n",
    "        for j in range(0, cm.shape[1]):\n",
    "          if i != j:\n",
    "            if cm[i,j] > threshold:\n",
    "              list_idx.append(i)\n",
    "              list_idx.append(j)\n",
    "      list_idx = np.unique(list_idx)\n",
    "      cm = cm[np.ix_(list_idx, list_idx)]\n",
    "      classes = classes[list_idx]\n",
    "\n",
    "    if normalize:\n",
    "        cm = cm.astype('float') / cm.sum(axis=1)[:, np.newaxis]\n",
    "        print(\"Normalized confusion matrix\")\n",
    "    else:\n",
    "        print('Confusion matrix, without normalization')\n",
    "\n",
    "    print(cm)\n",
    "\n",
    "    fig, ax = plt.subplots()\n",
    "    im = ax.imshow(cm, interpolation='nearest', cmap=cmap)\n",
    "    #ax.figure.colorbar(im, ax=ax)\n",
    "    # We want to show all ticks...\n",
    "    ax.set(xticks=np.arange(cm.shape[1]),\n",
    "           yticks=np.arange(cm.shape[0]),\n",
    "           # ... and label them with the respective list entries\n",
    "           xticklabels=classes, yticklabels=classes,\n",
    "           title=title,\n",
    "           ylabel='True label',\n",
    "           xlabel='Predicted label')\n",
    " \n",
    "    \n",
    "    # Rotate the tick labels and set their alignment.\n",
    "    plt.setp(ax.get_xticklabels(), rotation=45, ha=\"right\",\n",
    "             rotation_mode=\"anchor\", fontsize=fontsize)\n",
    "    # resize y tick labels\n",
    "    plt.setp(ax.get_yticklabels(), fontsize=fontsize)\n",
    "    # Loop over data dimensions and create text annotations.\n",
    "    fmt = '.2f' if normalize else 'd'\n",
    "    thresh = cm.max() / 2.\n",
    "    for i in range(cm.shape[0]):\n",
    "        for j in range(cm.shape[1]):\n",
    "            ax.text(j, i, format(cm[i, j], fmt),\n",
    "                    ha=\"center\", va=\"center\",\n",
    "                    color=\"white\" if cm[i, j] > thresh else \"black\",\n",
    "                    fontsize=fontsize,\n",
    "                    fontweight=\"black\" if i==j else \"normal\")\n",
    "    fig.tight_layout()\n",
    "\n",
    "    fig.set_size_inches([size,size])\n",
    "    ax.set_ylim([cm.shape[1]-0.5,-0.5]);\n",
    "    ax.grid(linewidth=0)\n",
    "    return ax\n",
    "\n",
    "def plot_res_test_split(myDf, myScore, myX, myHue=None, y_min=None,\n",
    "                       myFixedParam=None, myFixedValue=None, cv_eval=None):\n",
    "    '''\n",
    "    Create multiple batplot to compare scorings result over gridsearchcv for \n",
    "    Test splits\n",
    "    - Add errorbar\n",
    "    - choice for x axis & hue.\n",
    "    \n",
    "    example: \n",
    "        plot_res_test_split(df_res_rf_multi_cv, \"accuracy\", \"param_max_depth\", \n",
    "                            \"param_min_samples_split\",\n",
    "                            y_min=0.15, \n",
    "                            myFixedParam=\"param_n_estimators\",\n",
    "                            myFixedValue=25)\n",
    "    '''\n",
    "    \n",
    "    def plot_max_value():\n",
    "        '''\n",
    "        errorbar min plot\n",
    "        '''\n",
    "        return sns.barplot(hue=myHue, \n",
    "                y=\"mean_test_\" + myScore + \"_max\",\n",
    "                x=myX,\n",
    "                data=df_cv_temp,\n",
    "                 alpha=0.5)\n",
    "    \n",
    "    def plot_value():\n",
    "        '''\n",
    "        normal plot\n",
    "        '''\n",
    "        return sns.barplot(hue=myHue, \n",
    "            y=\"mean_test_\" + myScore,\n",
    "            x=myX,\n",
    "            data=df_cv_temp, ci='sd')\n",
    "            \n",
    "    def plot_min_value():\n",
    "        '''\n",
    "        errorbar min plot\n",
    "        '''\n",
    "        return sns.barplot(hue=myHue, \n",
    "                y=\"mean_test_\" + myScore + \"_min\",\n",
    "                x=myX,\n",
    "                data=df_cv_temp,\n",
    "                 alpha=0.5)       \n",
    "        \n",
    "    if cv_eval is None:\n",
    "        cv_eval = cv\n",
    "        \n",
    "    if myFixedParam is None:\n",
    "        str_add_for_title=\"\"\n",
    "    else:\n",
    "        str_add_for_title=\" for \" + myFixedParam + \"={}\".format(myFixedValue)\n",
    "        \n",
    "    myTitle = myScore + \" on Test splits [%]\" + str_add_for_title\n",
    "    fig = plt.figure(figsize=(15, 8.5))\n",
    "    plt.title(myTitle)\n",
    "    \n",
    "    # work on data\n",
    "    df_cv_temp = myDf.copy()\n",
    "    # correct data by zeros value if None:\n",
    "    df_cv_temp.loc[df_cv_temp[myX].isna(), myX] = 0\n",
    "    if myHue is not None:\n",
    "        df_cv_temp.loc[df_cv_temp[myHue].isna(), myHue] = 0\n",
    "    if myFixedParam is not None:\n",
    "        df_cv_temp.loc[df_cv_temp[myFixedParam].isna(), myFixedParam] = 0\n",
    "    # select data : if Fixed Param\n",
    "    if myFixedParam is not None:\n",
    "        df_cv_temp = df_cv_temp[df_cv_temp[myFixedParam] == myFixedValue]\n",
    "    \n",
    "    # errorbar max : Xmax = X + 1.96 * STD(X) / sqrt(n_samples)\n",
    "    df_cv_temp[\"mean_test_\" + myScore +\"_max\"] = \\\n",
    "        df_cv_temp[\"mean_test_\" + myScore] + \\\n",
    "        1.96*df_cv_temp[\"std_test_\" + myScore]/math.sqrt(cv_eval.n_splits)  \n",
    "\n",
    "    # errorbar min : Xmin = X - 1.96 * STD(X) / sqrt(n_samples)\n",
    "    df_cv_temp[\"mean_test_\" + myScore + \"_min\"] = \\\n",
    "        df_cv_temp[\"mean_test_\" + myScore] - \\\n",
    "        1.96*df_cv_temp[\"std_test_\" + myScore]/math.sqrt(cv_eval.n_splits)\n",
    "    \n",
    "    # plots by order to show all min/normal/max values on barplot\n",
    "    if df_cv_temp[\"mean_test_\" + myScore].max() > 0:\n",
    "        # errorbar max plot\n",
    "        ax2 = plot_max_value()\n",
    "        # normal plot\n",
    "        ax = plot_value()\n",
    "        # errorbar min plot\n",
    "        ax3 = plot_min_value()\n",
    "    else:\n",
    "        # errorbar min plot\n",
    "        ax3 = plot_min_value()\n",
    "        # normal plot\n",
    "        ax = plot_value()\n",
    "        # errorbar max plot\n",
    "        ax2 = plot_max_value()\n",
    "        \n",
    "    # correct ylabel \n",
    "    ax.set_ylabel(\"mean_test_\" + myScore)\n",
    "    \n",
    "    # correct plot size\n",
    "    nb_x_plot = df_cv_temp[myX].nunique()\n",
    "    ax.set_xlim(right=nb_x_plot+1.5)\n",
    "    if y_min is not None:\n",
    "        if y_min >= 0:\n",
    "            ax.set_ylim(bottom=y_min)\n",
    "        else:\n",
    "            ax.set_ylim(top=y_min)\n",
    "    \n",
    "    # correct legend\n",
    "    if myHue is not None:\n",
    "        leg = ax.get_legend()\n",
    "        leg_title = leg.get_title().get_text()\n",
    "        leg.remove()\n",
    "        h,l = ax.get_legend_handles_labels()\n",
    "        nb_leg_max = df_cv_temp[myHue].nunique()\n",
    "        plt.legend(h[nb_leg_max:nb_leg_max*2], \n",
    "                   l[nb_leg_max:nb_leg_max*2], title=leg_title);\n",
    "        \n",
    "    # add maximum line\n",
    "    plt.plot([-0.5, nb_x_plot], \n",
    "         np.array([1,1])*df_cv_temp[\"mean_test_\" + myScore].max(),'r--')\n",
    "    plt.text(nb_x_plot, df_cv_temp[\"mean_test_\" + myScore].max(),\n",
    "         \"{:.4f}\".format(df_cv_temp[\"mean_test_\" + myScore].max()),\n",
    "             fontsize=14, color=\"r\")\n",
    "\n",
    "    return ax, fig\n",
    "\n",
    "def add_score(df_results, series_scores, model_name):\n",
    "    \"\"\"\n",
    "    Add score line into dataFrame of models scores\n",
    "    \n",
    "    series_scores : dictionnary : ex :  {mean_test_acc: 0.5, ...}\n",
    "    \"\"\"\n",
    "    df_results_add = pd.DataFrame(data=series_scores, columns=[model_name]).T\n",
    "    \n",
    "    if df_results is None: # create table\n",
    "        print('create df_results')\n",
    "        df_results = df_results_add.copy()\n",
    "    else: # update or add line\n",
    "        try:\n",
    "            # ligne existe alors on efface l'ancienne ligne  ?\n",
    "            df_results = df_results.drop(index=model_name)                                \n",
    "            print('update line')\n",
    "        except:\n",
    "            # n'existe pas\n",
    "            print('add line')\n",
    "            \n",
    "        # on ajoute la ligne\n",
    "        df_results = df_results.append(df_results_add)\n",
    "        \n",
    "    return df_results"
   ]
  },
  {
   "cell_type": "markdown",
   "metadata": {},
   "source": [
    "## Load data"
   ]
  },
  {
   "cell_type": "code",
   "execution_count": 4,
   "metadata": {},
   "outputs": [
    {
     "data": {
      "text/html": [
       "<div>\n",
       "<style scoped>\n",
       "    .dataframe tbody tr th:only-of-type {\n",
       "        vertical-align: middle;\n",
       "    }\n",
       "\n",
       "    .dataframe tbody tr th {\n",
       "        vertical-align: top;\n",
       "    }\n",
       "\n",
       "    .dataframe thead th {\n",
       "        text-align: right;\n",
       "    }\n",
       "</style>\n",
       "<table border=\"1\" class=\"dataframe\">\n",
       "  <thead>\n",
       "    <tr style=\"text-align: right;\">\n",
       "      <th></th>\n",
       "      <th>request_id</th>\n",
       "      <th>animal_presence</th>\n",
       "      <th>answer_creation_date</th>\n",
       "      <th>child_situation</th>\n",
       "      <th>child_to_come</th>\n",
       "      <th>district</th>\n",
       "      <th>granted_number_of_nights</th>\n",
       "      <th>group_composition_id</th>\n",
       "      <th>group_composition_label</th>\n",
       "      <th>group_creation_date</th>\n",
       "      <th>...</th>\n",
       "      <th>age_mean</th>\n",
       "      <th>disabled_worker_certification</th>\n",
       "      <th>nb_female</th>\n",
       "      <th>nb_male</th>\n",
       "      <th>married</th>\n",
       "      <th>request_creation_date_fmt</th>\n",
       "      <th>request_creation_day</th>\n",
       "      <th>request_creation_day_num</th>\n",
       "      <th>request_creation_month</th>\n",
       "      <th>child_situation_red</th>\n",
       "    </tr>\n",
       "  </thead>\n",
       "  <tbody>\n",
       "    <tr>\n",
       "      <th>0</th>\n",
       "      <td>130667d2964de43c511d0ead7ac66b33</td>\n",
       "      <td>f</td>\n",
       "      <td>2019-02-11 22:30:00</td>\n",
       "      <td>-1</td>\n",
       "      <td>unknown</td>\n",
       "      <td>85</td>\n",
       "      <td>1</td>\n",
       "      <td>10</td>\n",
       "      <td>man alone</td>\n",
       "      <td>2018-05-03 12:10:40.416</td>\n",
       "      <td>...</td>\n",
       "      <td>42.0</td>\n",
       "      <td>f</td>\n",
       "      <td>0.0</td>\n",
       "      <td>1.0</td>\n",
       "      <td>f</td>\n",
       "      <td>2019-02-11 22:30:00</td>\n",
       "      <td>Mon</td>\n",
       "      <td>1</td>\n",
       "      <td>2</td>\n",
       "      <td>0</td>\n",
       "    </tr>\n",
       "    <tr>\n",
       "      <th>1</th>\n",
       "      <td>b1cd62fcf24eebb0f685d5eaf55317a8</td>\n",
       "      <td>f</td>\n",
       "      <td>2019-02-12 09:00:00</td>\n",
       "      <td>-1</td>\n",
       "      <td>unknown</td>\n",
       "      <td>85</td>\n",
       "      <td>1</td>\n",
       "      <td>10</td>\n",
       "      <td>man alone</td>\n",
       "      <td>2019-03-07 12:11:08.545</td>\n",
       "      <td>...</td>\n",
       "      <td>39.0</td>\n",
       "      <td>f</td>\n",
       "      <td>0.0</td>\n",
       "      <td>1.0</td>\n",
       "      <td>f</td>\n",
       "      <td>2019-02-12 09:00:00</td>\n",
       "      <td>Tue</td>\n",
       "      <td>2</td>\n",
       "      <td>2</td>\n",
       "      <td>0</td>\n",
       "    </tr>\n",
       "    <tr>\n",
       "      <th>2</th>\n",
       "      <td>12cc0a18890bd4959fe42df3ae58838e</td>\n",
       "      <td>f</td>\n",
       "      <td>2019-02-01 21:00:00</td>\n",
       "      <td>-1</td>\n",
       "      <td>unknown</td>\n",
       "      <td>59</td>\n",
       "      <td>1</td>\n",
       "      <td>80</td>\n",
       "      <td>isolated child/underage</td>\n",
       "      <td>2019-03-13 12:54:15.887</td>\n",
       "      <td>...</td>\n",
       "      <td>16.0</td>\n",
       "      <td>f</td>\n",
       "      <td>0.0</td>\n",
       "      <td>1.0</td>\n",
       "      <td>f</td>\n",
       "      <td>2019-02-01 21:00:00</td>\n",
       "      <td>Fri</td>\n",
       "      <td>5</td>\n",
       "      <td>2</td>\n",
       "      <td>0</td>\n",
       "    </tr>\n",
       "    <tr>\n",
       "      <th>3</th>\n",
       "      <td>ae2d5b4dc181d29e430132f145da1556</td>\n",
       "      <td>f</td>\n",
       "      <td>2019-02-25 15:12:05.037</td>\n",
       "      <td>-1</td>\n",
       "      <td>unknown</td>\n",
       "      <td>50</td>\n",
       "      <td>2</td>\n",
       "      <td>20</td>\n",
       "      <td>woman alone</td>\n",
       "      <td>2018-10-09 14:37:29.773</td>\n",
       "      <td>...</td>\n",
       "      <td>33.0</td>\n",
       "      <td>f</td>\n",
       "      <td>1.0</td>\n",
       "      <td>0.0</td>\n",
       "      <td>f</td>\n",
       "      <td>2019-02-25 15:12:05</td>\n",
       "      <td>Mon</td>\n",
       "      <td>1</td>\n",
       "      <td>2</td>\n",
       "      <td>0</td>\n",
       "    </tr>\n",
       "    <tr>\n",
       "      <th>4</th>\n",
       "      <td>d13a17ce36c832514fda2464e11c4a9f</td>\n",
       "      <td>f</td>\n",
       "      <td>2019-02-20 09:59:20.603</td>\n",
       "      <td>-1</td>\n",
       "      <td>unknown</td>\n",
       "      <td>93</td>\n",
       "      <td>2</td>\n",
       "      <td>60</td>\n",
       "      <td>group with child(ren)</td>\n",
       "      <td>2018-10-02 10:47:36.931</td>\n",
       "      <td>...</td>\n",
       "      <td>32.0</td>\n",
       "      <td>f</td>\n",
       "      <td>2.0</td>\n",
       "      <td>1.0</td>\n",
       "      <td>f</td>\n",
       "      <td>2019-02-20 09:59:20</td>\n",
       "      <td>Wed</td>\n",
       "      <td>3</td>\n",
       "      <td>2</td>\n",
       "      <td>0</td>\n",
       "    </tr>\n",
       "  </tbody>\n",
       "</table>\n",
       "<p>5 rows × 41 columns</p>\n",
       "</div>"
      ],
      "text/plain": [
       "                         request_id animal_presence     answer_creation_date  \\\n",
       "0  130667d2964de43c511d0ead7ac66b33               f      2019-02-11 22:30:00   \n",
       "1  b1cd62fcf24eebb0f685d5eaf55317a8               f      2019-02-12 09:00:00   \n",
       "2  12cc0a18890bd4959fe42df3ae58838e               f      2019-02-01 21:00:00   \n",
       "3  ae2d5b4dc181d29e430132f145da1556               f  2019-02-25 15:12:05.037   \n",
       "4  d13a17ce36c832514fda2464e11c4a9f               f  2019-02-20 09:59:20.603   \n",
       "\n",
       "   child_situation child_to_come  district  granted_number_of_nights  \\\n",
       "0               -1       unknown        85                         1   \n",
       "1               -1       unknown        85                         1   \n",
       "2               -1       unknown        59                         1   \n",
       "3               -1       unknown        50                         2   \n",
       "4               -1       unknown        93                         2   \n",
       "\n",
       "   group_composition_id  group_composition_label      group_creation_date  \\\n",
       "0                    10                man alone  2018-05-03 12:10:40.416   \n",
       "1                    10                man alone  2019-03-07 12:11:08.545   \n",
       "2                    80  isolated child/underage  2019-03-13 12:54:15.887   \n",
       "3                    20              woman alone  2018-10-09 14:37:29.773   \n",
       "4                    60    group with child(ren)  2018-10-02 10:47:36.931   \n",
       "\n",
       "   ... age_mean disabled_worker_certification nb_female  nb_male married  \\\n",
       "0  ...     42.0                             f       0.0      1.0       f   \n",
       "1  ...     39.0                             f       0.0      1.0       f   \n",
       "2  ...     16.0                             f       0.0      1.0       f   \n",
       "3  ...     33.0                             f       1.0      0.0       f   \n",
       "4  ...     32.0                             f       2.0      1.0       f   \n",
       "\n",
       "  request_creation_date_fmt  request_creation_day request_creation_day_num  \\\n",
       "0       2019-02-11 22:30:00                   Mon                        1   \n",
       "1       2019-02-12 09:00:00                   Tue                        2   \n",
       "2       2019-02-01 21:00:00                   Fri                        5   \n",
       "3       2019-02-25 15:12:05                   Mon                        1   \n",
       "4       2019-02-20 09:59:20                   Wed                        3   \n",
       "\n",
       "  request_creation_month child_situation_red  \n",
       "0                      2                   0  \n",
       "1                      2                   0  \n",
       "2                      2                   0  \n",
       "3                      2                   0  \n",
       "4                      2                   0  \n",
       "\n",
       "[5 rows x 41 columns]"
      ]
     },
     "execution_count": 4,
     "metadata": {},
     "output_type": "execute_result"
    }
   ],
   "source": [
    "requests_train = pd.read_csv(filepath_or_buffer=PATH_REQ_TRAIN_CLEAN,\n",
    "                             sep=',',\n",
    "                             low_memory=False,\n",
    "                             error_bad_lines=False)\n",
    "\n",
    "requests_test = pd.read_csv(filepath_or_buffer=PATH_REQ_TEST_CLEAN,\n",
    "                            sep=',',\n",
    "                            low_memory=False,\n",
    "                            error_bad_lines=False)\n",
    "\n",
    "\n",
    "requests_train.head()"
   ]
  },
  {
   "cell_type": "code",
   "execution_count": 5,
   "metadata": {},
   "outputs": [
    {
     "data": {
      "text/plain": [
       "(238191, 41)"
      ]
     },
     "execution_count": 5,
     "metadata": {},
     "output_type": "execute_result"
    }
   ],
   "source": [
    "requests_train.shape"
   ]
  },
  {
   "cell_type": "code",
   "execution_count": 6,
   "metadata": {},
   "outputs": [
    {
     "data": {
      "text/plain": [
       "(59548, 41)"
      ]
     },
     "execution_count": 6,
     "metadata": {},
     "output_type": "execute_result"
    }
   ],
   "source": [
    "requests_test.shape"
   ]
  },
  {
   "cell_type": "code",
   "execution_count": 7,
   "metadata": {},
   "outputs": [],
   "source": [
    "requests_train_raw = pd.read_csv(filepath_or_buffer='data/requests_train.csv',\n",
    "                             sep=',',\n",
    "                             low_memory=False,\n",
    "                             error_bad_lines=False)\n",
    "\n",
    "requests_test_raw = pd.read_csv(filepath_or_buffer='data/requests_test.csv',\n",
    "                            sep=',',\n",
    "                            low_memory=False,\n",
    "                            error_bad_lines=False)"
   ]
  },
  {
   "cell_type": "code",
   "execution_count": 8,
   "metadata": {},
   "outputs": [
    {
     "data": {
      "text/plain": [
       "(238191, 24)"
      ]
     },
     "execution_count": 8,
     "metadata": {},
     "output_type": "execute_result"
    }
   ],
   "source": [
    "requests_train_raw.shape"
   ]
  },
  {
   "cell_type": "code",
   "execution_count": 9,
   "metadata": {},
   "outputs": [
    {
     "data": {
      "text/plain": [
       "(59548, 24)"
      ]
     },
     "execution_count": 9,
     "metadata": {},
     "output_type": "execute_result"
    }
   ],
   "source": [
    "requests_test_raw.shape"
   ]
  },
  {
   "cell_type": "markdown",
   "metadata": {},
   "source": [
    "## Features selection"
   ]
  },
  {
   "cell_type": "markdown",
   "metadata": {},
   "source": [
    "### FS1"
   ]
  },
  {
   "cell_type": "markdown",
   "metadata": {},
   "source": [
    "Only one Features selection have been done to reach the score.\n",
    "\n",
    "Can be improve be reducing dimension by reduce number of classes for some categorical features\n",
    "\n",
    "It is possible also to use PCA decomposition (not done here)"
   ]
  },
  {
   "cell_type": "markdown",
   "metadata": {},
   "source": [
    "Take all possible features : "
   ]
  },
  {
   "cell_type": "code",
   "execution_count": 10,
   "metadata": {},
   "outputs": [
    {
     "data": {
      "text/plain": [
       "['request_id',\n",
       " 'animal_presence',\n",
       " 'answer_creation_date',\n",
       " 'child_situation',\n",
       " 'child_to_come',\n",
       " 'district',\n",
       " 'granted_number_of_nights',\n",
       " 'group_composition_id',\n",
       " 'group_composition_label',\n",
       " 'group_creation_date',\n",
       " 'group_id',\n",
       " 'group_main_requester_id',\n",
       " 'group_type',\n",
       " 'housing_situation_id',\n",
       " 'housing_situation_label',\n",
       " 'long_term_housing_request',\n",
       " 'number_of_underage',\n",
       " 'request_backoffice_creator_id',\n",
       " 'request_creation_date',\n",
       " 'requester_type',\n",
       " 'social_situation_id',\n",
       " 'town',\n",
       " 'victim_of_violence',\n",
       " 'victim_of_violence_type',\n",
       " 'housing_situation_2_label',\n",
       " 'pregnancy',\n",
       " 'region',\n",
       " 'childcare_center_supervision',\n",
       " 'nb_underage_red',\n",
       " 'age_max',\n",
       " 'age_min',\n",
       " 'age_mean',\n",
       " 'disabled_worker_certification',\n",
       " 'nb_female',\n",
       " 'nb_male',\n",
       " 'married',\n",
       " 'request_creation_date_fmt',\n",
       " 'request_creation_day',\n",
       " 'request_creation_day_num',\n",
       " 'request_creation_month',\n",
       " 'child_situation_red']"
      ]
     },
     "execution_count": 10,
     "metadata": {},
     "output_type": "execute_result"
    }
   ],
   "source": [
    "requests_train.columns.tolist()"
   ]
  },
  {
   "cell_type": "markdown",
   "metadata": {},
   "source": [
    "We need to one hot encode all categorical features, execept ordinal cat, bol, int"
   ]
  },
  {
   "cell_type": "code",
   "execution_count": 11,
   "metadata": {},
   "outputs": [],
   "source": [
    "list_filter_raw = ['granted_number_of_nights', # int\n",
    "                'animal_presence', # bol\n",
    "                'group_composition_label', # cat \n",
    "                'housing_situation_label', # cat (#)\n",
    "                'long_term_housing_request', # cat (3)\n",
    "                'requester_type', # cat (3)\n",
    "                'victim_of_violence_type', # cat\n",
    "                'pregnancy', # bol\n",
    "                'region', # cat\n",
    "                'childcare_center_supervision', # bol\n",
    "                'nb_underage_red', # int\n",
    "                'age_min', # int\n",
    "                'age_max', # int\n",
    "                'disabled_worker_certification', # bol\n",
    "                'nb_female', # int\n",
    "                'nb_male', # int\n",
    "                'married', # bol\n",
    "                'request_creation_day_num', # ordinal cat int\n",
    "                'request_creation_month',  # ordinal cat int\n",
    "                'child_situation_red'] # bol \n",
    "\n",
    "# feature ready \n",
    "list_feat = ['nb_underage_red', \n",
    "             'age_min', \n",
    "             'age_max', \n",
    "             'nb_female',\n",
    "             'nb_male',\n",
    "             'request_creation_day_num',\n",
    "             'request_creation_month',\n",
    "             'child_situation_red']"
   ]
  },
  {
   "cell_type": "code",
   "execution_count": 12,
   "metadata": {},
   "outputs": [
    {
     "data": {
      "text/html": [
       "<div>\n",
       "<style scoped>\n",
       "    .dataframe tbody tr th:only-of-type {\n",
       "        vertical-align: middle;\n",
       "    }\n",
       "\n",
       "    .dataframe tbody tr th {\n",
       "        vertical-align: top;\n",
       "    }\n",
       "\n",
       "    .dataframe thead th {\n",
       "        text-align: right;\n",
       "    }\n",
       "</style>\n",
       "<table border=\"1\" class=\"dataframe\">\n",
       "  <thead>\n",
       "    <tr style=\"text-align: right;\">\n",
       "      <th></th>\n",
       "      <th>granted_number_of_nights</th>\n",
       "      <th>animal_presence</th>\n",
       "      <th>group_composition_label</th>\n",
       "      <th>housing_situation_label</th>\n",
       "      <th>long_term_housing_request</th>\n",
       "      <th>requester_type</th>\n",
       "      <th>victim_of_violence_type</th>\n",
       "      <th>pregnancy</th>\n",
       "      <th>region</th>\n",
       "      <th>childcare_center_supervision</th>\n",
       "      <th>nb_underage_red</th>\n",
       "      <th>age_min</th>\n",
       "      <th>age_max</th>\n",
       "      <th>disabled_worker_certification</th>\n",
       "      <th>nb_female</th>\n",
       "      <th>nb_male</th>\n",
       "      <th>married</th>\n",
       "      <th>request_creation_day_num</th>\n",
       "      <th>request_creation_month</th>\n",
       "      <th>child_situation_red</th>\n",
       "    </tr>\n",
       "  </thead>\n",
       "  <tbody>\n",
       "    <tr>\n",
       "      <th>0</th>\n",
       "      <td>1</td>\n",
       "      <td>f</td>\n",
       "      <td>man alone</td>\n",
       "      <td>street</td>\n",
       "      <td>unknown</td>\n",
       "      <td>third party</td>\n",
       "      <td>f</td>\n",
       "      <td>f</td>\n",
       "      <td>Provence-Alpes-Côte d'Azur</td>\n",
       "      <td>f</td>\n",
       "      <td>0</td>\n",
       "      <td>42.0</td>\n",
       "      <td>42.0</td>\n",
       "      <td>f</td>\n",
       "      <td>0.0</td>\n",
       "      <td>1.0</td>\n",
       "      <td>f</td>\n",
       "      <td>1</td>\n",
       "      <td>2</td>\n",
       "      <td>0</td>\n",
       "    </tr>\n",
       "    <tr>\n",
       "      <th>1</th>\n",
       "      <td>1</td>\n",
       "      <td>f</td>\n",
       "      <td>man alone</td>\n",
       "      <td>street</td>\n",
       "      <td>unknown</td>\n",
       "      <td>user</td>\n",
       "      <td>f</td>\n",
       "      <td>f</td>\n",
       "      <td>Provence-Alpes-Côte d'Azur</td>\n",
       "      <td>f</td>\n",
       "      <td>0</td>\n",
       "      <td>39.0</td>\n",
       "      <td>39.0</td>\n",
       "      <td>f</td>\n",
       "      <td>0.0</td>\n",
       "      <td>1.0</td>\n",
       "      <td>f</td>\n",
       "      <td>2</td>\n",
       "      <td>2</td>\n",
       "      <td>0</td>\n",
       "    </tr>\n",
       "    <tr>\n",
       "      <th>2</th>\n",
       "      <td>1</td>\n",
       "      <td>f</td>\n",
       "      <td>isolated child/underage</td>\n",
       "      <td>street</td>\n",
       "      <td>unknown</td>\n",
       "      <td>user</td>\n",
       "      <td>f</td>\n",
       "      <td>f</td>\n",
       "      <td>Grand Est</td>\n",
       "      <td>f</td>\n",
       "      <td>0</td>\n",
       "      <td>16.0</td>\n",
       "      <td>16.0</td>\n",
       "      <td>f</td>\n",
       "      <td>0.0</td>\n",
       "      <td>1.0</td>\n",
       "      <td>f</td>\n",
       "      <td>5</td>\n",
       "      <td>2</td>\n",
       "      <td>0</td>\n",
       "    </tr>\n",
       "    <tr>\n",
       "      <th>3</th>\n",
       "      <td>2</td>\n",
       "      <td>f</td>\n",
       "      <td>woman alone</td>\n",
       "      <td>street</td>\n",
       "      <td>unknown</td>\n",
       "      <td>user</td>\n",
       "      <td>woman</td>\n",
       "      <td>f</td>\n",
       "      <td>Bretagne</td>\n",
       "      <td>f</td>\n",
       "      <td>0</td>\n",
       "      <td>33.0</td>\n",
       "      <td>33.0</td>\n",
       "      <td>f</td>\n",
       "      <td>1.0</td>\n",
       "      <td>0.0</td>\n",
       "      <td>f</td>\n",
       "      <td>1</td>\n",
       "      <td>2</td>\n",
       "      <td>0</td>\n",
       "    </tr>\n",
       "    <tr>\n",
       "      <th>4</th>\n",
       "      <td>2</td>\n",
       "      <td>f</td>\n",
       "      <td>group with child(ren)</td>\n",
       "      <td>hotel paid by the emergency centre</td>\n",
       "      <td>unknown</td>\n",
       "      <td>user</td>\n",
       "      <td>f</td>\n",
       "      <td>f</td>\n",
       "      <td>Île-de-France</td>\n",
       "      <td>f</td>\n",
       "      <td>0</td>\n",
       "      <td>17.0</td>\n",
       "      <td>40.0</td>\n",
       "      <td>f</td>\n",
       "      <td>2.0</td>\n",
       "      <td>1.0</td>\n",
       "      <td>f</td>\n",
       "      <td>3</td>\n",
       "      <td>2</td>\n",
       "      <td>0</td>\n",
       "    </tr>\n",
       "  </tbody>\n",
       "</table>\n",
       "</div>"
      ],
      "text/plain": [
       "   granted_number_of_nights animal_presence  group_composition_label  \\\n",
       "0                         1               f                man alone   \n",
       "1                         1               f                man alone   \n",
       "2                         1               f  isolated child/underage   \n",
       "3                         2               f              woman alone   \n",
       "4                         2               f    group with child(ren)   \n",
       "\n",
       "              housing_situation_label long_term_housing_request  \\\n",
       "0                              street                   unknown   \n",
       "1                              street                   unknown   \n",
       "2                              street                   unknown   \n",
       "3                              street                   unknown   \n",
       "4  hotel paid by the emergency centre                   unknown   \n",
       "\n",
       "  requester_type victim_of_violence_type pregnancy  \\\n",
       "0    third party                       f         f   \n",
       "1           user                       f         f   \n",
       "2           user                       f         f   \n",
       "3           user                   woman         f   \n",
       "4           user                       f         f   \n",
       "\n",
       "                       region childcare_center_supervision  nb_underage_red  \\\n",
       "0  Provence-Alpes-Côte d'Azur                            f                0   \n",
       "1  Provence-Alpes-Côte d'Azur                            f                0   \n",
       "2                   Grand Est                            f                0   \n",
       "3                    Bretagne                            f                0   \n",
       "4               Île-de-France                            f                0   \n",
       "\n",
       "   age_min  age_max disabled_worker_certification  nb_female  nb_male married  \\\n",
       "0     42.0     42.0                             f        0.0      1.0       f   \n",
       "1     39.0     39.0                             f        0.0      1.0       f   \n",
       "2     16.0     16.0                             f        0.0      1.0       f   \n",
       "3     33.0     33.0                             f        1.0      0.0       f   \n",
       "4     17.0     40.0                             f        2.0      1.0       f   \n",
       "\n",
       "   request_creation_day_num  request_creation_month  child_situation_red  \n",
       "0                         1                       2                    0  \n",
       "1                         2                       2                    0  \n",
       "2                         5                       2                    0  \n",
       "3                         1                       2                    0  \n",
       "4                         3                       2                    0  "
      ]
     },
     "execution_count": 12,
     "metadata": {},
     "output_type": "execute_result"
    }
   ],
   "source": [
    "df_train = requests_train.filter(items=list_filter_raw)\n",
    "df_test = requests_test.filter(items=list_filter_raw)\n",
    "df_train.head()"
   ]
  },
  {
   "cell_type": "markdown",
   "metadata": {},
   "source": [
    "#### animal_presence : str -> bol"
   ]
  },
  {
   "cell_type": "code",
   "execution_count": 13,
   "metadata": {},
   "outputs": [],
   "source": [
    "def fun_str_to_bol(str_in):\n",
    "    if str_in == 't':\n",
    "        return 1\n",
    "    else:\n",
    "        return 0\n",
    "\n",
    "\n",
    "df_train['animal_presence_bol'] = \\\n",
    "    df_train['animal_presence'].apply(fun_str_to_bol)\n",
    "df_test['animal_presence_bol'] = \\\n",
    "    df_test['animal_presence'].apply(fun_str_to_bol)\n",
    "\n",
    "list_feat.append('animal_presence_bol')"
   ]
  },
  {
   "cell_type": "markdown",
   "metadata": {},
   "source": [
    "#### group_composition_label : one hot encoding"
   ]
  },
  {
   "cell_type": "code",
   "execution_count": 14,
   "metadata": {},
   "outputs": [],
   "source": [
    "df_add = pd.get_dummies(df_train[\"group_composition_label\"], \n",
    "               prefix='gcl', drop_first=True)\n",
    "list_feat = list_feat +  df_add.columns.tolist()"
   ]
  },
  {
   "cell_type": "code",
   "execution_count": 15,
   "metadata": {},
   "outputs": [],
   "source": [
    "df_tmp = pd.concat([df_train, df_add], axis=1)"
   ]
  },
  {
   "cell_type": "code",
   "execution_count": 16,
   "metadata": {},
   "outputs": [
    {
     "data": {
      "text/plain": [
       "(238191, 21)"
      ]
     },
     "execution_count": 16,
     "metadata": {},
     "output_type": "execute_result"
    }
   ],
   "source": [
    "df_train.shape"
   ]
  },
  {
   "cell_type": "code",
   "execution_count": 17,
   "metadata": {},
   "outputs": [
    {
     "data": {
      "text/plain": [
       "(238191, 32)"
      ]
     },
     "execution_count": 17,
     "metadata": {},
     "output_type": "execute_result"
    }
   ],
   "source": [
    "df_tmp.shape"
   ]
  },
  {
   "cell_type": "code",
   "execution_count": 18,
   "metadata": {},
   "outputs": [],
   "source": [
    "df_train = df_tmp.copy()"
   ]
  },
  {
   "cell_type": "code",
   "execution_count": 19,
   "metadata": {},
   "outputs": [
    {
     "data": {
      "text/html": [
       "<div>\n",
       "<style scoped>\n",
       "    .dataframe tbody tr th:only-of-type {\n",
       "        vertical-align: middle;\n",
       "    }\n",
       "\n",
       "    .dataframe tbody tr th {\n",
       "        vertical-align: top;\n",
       "    }\n",
       "\n",
       "    .dataframe thead th {\n",
       "        text-align: right;\n",
       "    }\n",
       "</style>\n",
       "<table border=\"1\" class=\"dataframe\">\n",
       "  <thead>\n",
       "    <tr style=\"text-align: right;\">\n",
       "      <th></th>\n",
       "      <th>granted_number_of_nights</th>\n",
       "      <th>animal_presence</th>\n",
       "      <th>group_composition_label</th>\n",
       "      <th>housing_situation_label</th>\n",
       "      <th>long_term_housing_request</th>\n",
       "      <th>requester_type</th>\n",
       "      <th>victim_of_violence_type</th>\n",
       "      <th>pregnancy</th>\n",
       "      <th>region</th>\n",
       "      <th>childcare_center_supervision</th>\n",
       "      <th>...</th>\n",
       "      <th>gcl_couple with child(ren)</th>\n",
       "      <th>gcl_couple without whildren</th>\n",
       "      <th>gcl_group of adults</th>\n",
       "      <th>gcl_group with child(ren)</th>\n",
       "      <th>gcl_isolated child/underage</th>\n",
       "      <th>gcl_man alone</th>\n",
       "      <th>gcl_single father with child(ren)</th>\n",
       "      <th>gcl_single mother with child(ren)</th>\n",
       "      <th>gcl_woman alone</th>\n",
       "      <th>gcl_women victim of violence</th>\n",
       "    </tr>\n",
       "  </thead>\n",
       "  <tbody>\n",
       "    <tr>\n",
       "      <th>0</th>\n",
       "      <td>1</td>\n",
       "      <td>f</td>\n",
       "      <td>man alone</td>\n",
       "      <td>street</td>\n",
       "      <td>unknown</td>\n",
       "      <td>third party</td>\n",
       "      <td>f</td>\n",
       "      <td>f</td>\n",
       "      <td>Provence-Alpes-Côte d'Azur</td>\n",
       "      <td>f</td>\n",
       "      <td>...</td>\n",
       "      <td>0</td>\n",
       "      <td>0</td>\n",
       "      <td>0</td>\n",
       "      <td>0</td>\n",
       "      <td>0</td>\n",
       "      <td>1</td>\n",
       "      <td>0</td>\n",
       "      <td>0</td>\n",
       "      <td>0</td>\n",
       "      <td>0</td>\n",
       "    </tr>\n",
       "    <tr>\n",
       "      <th>1</th>\n",
       "      <td>1</td>\n",
       "      <td>f</td>\n",
       "      <td>man alone</td>\n",
       "      <td>street</td>\n",
       "      <td>unknown</td>\n",
       "      <td>user</td>\n",
       "      <td>f</td>\n",
       "      <td>f</td>\n",
       "      <td>Provence-Alpes-Côte d'Azur</td>\n",
       "      <td>f</td>\n",
       "      <td>...</td>\n",
       "      <td>0</td>\n",
       "      <td>0</td>\n",
       "      <td>0</td>\n",
       "      <td>0</td>\n",
       "      <td>0</td>\n",
       "      <td>1</td>\n",
       "      <td>0</td>\n",
       "      <td>0</td>\n",
       "      <td>0</td>\n",
       "      <td>0</td>\n",
       "    </tr>\n",
       "    <tr>\n",
       "      <th>2</th>\n",
       "      <td>1</td>\n",
       "      <td>f</td>\n",
       "      <td>isolated child/underage</td>\n",
       "      <td>street</td>\n",
       "      <td>unknown</td>\n",
       "      <td>user</td>\n",
       "      <td>f</td>\n",
       "      <td>f</td>\n",
       "      <td>Grand Est</td>\n",
       "      <td>f</td>\n",
       "      <td>...</td>\n",
       "      <td>0</td>\n",
       "      <td>0</td>\n",
       "      <td>0</td>\n",
       "      <td>0</td>\n",
       "      <td>1</td>\n",
       "      <td>0</td>\n",
       "      <td>0</td>\n",
       "      <td>0</td>\n",
       "      <td>0</td>\n",
       "      <td>0</td>\n",
       "    </tr>\n",
       "    <tr>\n",
       "      <th>3</th>\n",
       "      <td>2</td>\n",
       "      <td>f</td>\n",
       "      <td>woman alone</td>\n",
       "      <td>street</td>\n",
       "      <td>unknown</td>\n",
       "      <td>user</td>\n",
       "      <td>woman</td>\n",
       "      <td>f</td>\n",
       "      <td>Bretagne</td>\n",
       "      <td>f</td>\n",
       "      <td>...</td>\n",
       "      <td>0</td>\n",
       "      <td>0</td>\n",
       "      <td>0</td>\n",
       "      <td>0</td>\n",
       "      <td>0</td>\n",
       "      <td>0</td>\n",
       "      <td>0</td>\n",
       "      <td>0</td>\n",
       "      <td>1</td>\n",
       "      <td>0</td>\n",
       "    </tr>\n",
       "    <tr>\n",
       "      <th>4</th>\n",
       "      <td>2</td>\n",
       "      <td>f</td>\n",
       "      <td>group with child(ren)</td>\n",
       "      <td>hotel paid by the emergency centre</td>\n",
       "      <td>unknown</td>\n",
       "      <td>user</td>\n",
       "      <td>f</td>\n",
       "      <td>f</td>\n",
       "      <td>Île-de-France</td>\n",
       "      <td>f</td>\n",
       "      <td>...</td>\n",
       "      <td>0</td>\n",
       "      <td>0</td>\n",
       "      <td>0</td>\n",
       "      <td>1</td>\n",
       "      <td>0</td>\n",
       "      <td>0</td>\n",
       "      <td>0</td>\n",
       "      <td>0</td>\n",
       "      <td>0</td>\n",
       "      <td>0</td>\n",
       "    </tr>\n",
       "  </tbody>\n",
       "</table>\n",
       "<p>5 rows × 32 columns</p>\n",
       "</div>"
      ],
      "text/plain": [
       "   granted_number_of_nights animal_presence  group_composition_label  \\\n",
       "0                         1               f                man alone   \n",
       "1                         1               f                man alone   \n",
       "2                         1               f  isolated child/underage   \n",
       "3                         2               f              woman alone   \n",
       "4                         2               f    group with child(ren)   \n",
       "\n",
       "              housing_situation_label long_term_housing_request  \\\n",
       "0                              street                   unknown   \n",
       "1                              street                   unknown   \n",
       "2                              street                   unknown   \n",
       "3                              street                   unknown   \n",
       "4  hotel paid by the emergency centre                   unknown   \n",
       "\n",
       "  requester_type victim_of_violence_type pregnancy  \\\n",
       "0    third party                       f         f   \n",
       "1           user                       f         f   \n",
       "2           user                       f         f   \n",
       "3           user                   woman         f   \n",
       "4           user                       f         f   \n",
       "\n",
       "                       region childcare_center_supervision  ...  \\\n",
       "0  Provence-Alpes-Côte d'Azur                            f  ...   \n",
       "1  Provence-Alpes-Côte d'Azur                            f  ...   \n",
       "2                   Grand Est                            f  ...   \n",
       "3                    Bretagne                            f  ...   \n",
       "4               Île-de-France                            f  ...   \n",
       "\n",
       "   gcl_couple with child(ren)  gcl_couple without whildren  \\\n",
       "0                           0                            0   \n",
       "1                           0                            0   \n",
       "2                           0                            0   \n",
       "3                           0                            0   \n",
       "4                           0                            0   \n",
       "\n",
       "   gcl_group of adults gcl_group with child(ren)  gcl_isolated child/underage  \\\n",
       "0                    0                         0                            0   \n",
       "1                    0                         0                            0   \n",
       "2                    0                         0                            1   \n",
       "3                    0                         0                            0   \n",
       "4                    0                         1                            0   \n",
       "\n",
       "   gcl_man alone gcl_single father with child(ren)  \\\n",
       "0              1                                 0   \n",
       "1              1                                 0   \n",
       "2              0                                 0   \n",
       "3              0                                 0   \n",
       "4              0                                 0   \n",
       "\n",
       "   gcl_single mother with child(ren)  gcl_woman alone  \\\n",
       "0                                  0                0   \n",
       "1                                  0                0   \n",
       "2                                  0                0   \n",
       "3                                  0                1   \n",
       "4                                  0                0   \n",
       "\n",
       "   gcl_women victim of violence  \n",
       "0                             0  \n",
       "1                             0  \n",
       "2                             0  \n",
       "3                             0  \n",
       "4                             0  \n",
       "\n",
       "[5 rows x 32 columns]"
      ]
     },
     "execution_count": 19,
     "metadata": {},
     "output_type": "execute_result"
    }
   ],
   "source": [
    "df_train.head()"
   ]
  },
  {
   "cell_type": "code",
   "execution_count": 20,
   "metadata": {},
   "outputs": [],
   "source": [
    "df_test = pd.concat([df_test, \n",
    "          pd.get_dummies(df_test[\"group_composition_label\"], \n",
    "               prefix='gcl', drop_first=True)], axis=1)"
   ]
  },
  {
   "cell_type": "code",
   "execution_count": 21,
   "metadata": {},
   "outputs": [
    {
     "data": {
      "text/plain": [
       "(59548, 32)"
      ]
     },
     "execution_count": 21,
     "metadata": {},
     "output_type": "execute_result"
    }
   ],
   "source": [
    "df_test.shape"
   ]
  },
  {
   "cell_type": "markdown",
   "metadata": {},
   "source": [
    "#### housing_situation_label : one hot encoding"
   ]
  },
  {
   "cell_type": "code",
   "execution_count": 22,
   "metadata": {},
   "outputs": [],
   "source": [
    "df_add = pd.get_dummies(df_train[\"housing_situation_label\"], \n",
    "               prefix='hs', drop_first=True)\n",
    "list_feat = list_feat +  df_add.columns.tolist()"
   ]
  },
  {
   "cell_type": "code",
   "execution_count": 23,
   "metadata": {},
   "outputs": [
    {
     "data": {
      "text/html": [
       "<div>\n",
       "<style scoped>\n",
       "    .dataframe tbody tr th:only-of-type {\n",
       "        vertical-align: middle;\n",
       "    }\n",
       "\n",
       "    .dataframe tbody tr th {\n",
       "        vertical-align: top;\n",
       "    }\n",
       "\n",
       "    .dataframe thead th {\n",
       "        text-align: right;\n",
       "    }\n",
       "</style>\n",
       "<table border=\"1\" class=\"dataframe\">\n",
       "  <thead>\n",
       "    <tr style=\"text-align: right;\">\n",
       "      <th></th>\n",
       "      <th>hs_detoxification center</th>\n",
       "      <th>hs_emergency structure</th>\n",
       "      <th>hs_hotel paid by an association</th>\n",
       "      <th>hs_hotel paid by the emergency centre</th>\n",
       "      <th>hs_hotel paid by the household</th>\n",
       "      <th>hs_hotel paid by the regional administration</th>\n",
       "      <th>hs_inclusion structure</th>\n",
       "      <th>hs_mobile or makeshift shelter</th>\n",
       "      <th>hs_other</th>\n",
       "      <th>hs_parental home</th>\n",
       "      <th>hs_personal or marital home</th>\n",
       "      <th>hs_police station</th>\n",
       "      <th>hs_prison</th>\n",
       "      <th>hs_psychiatric hospital</th>\n",
       "      <th>hs_public hospital</th>\n",
       "      <th>hs_refused to answer</th>\n",
       "      <th>hs_religious place (church, mosque, synogogue)</th>\n",
       "      <th>hs_shelters</th>\n",
       "      <th>hs_stabilisation structure</th>\n",
       "      <th>hs_street</th>\n",
       "    </tr>\n",
       "  </thead>\n",
       "  <tbody>\n",
       "    <tr>\n",
       "      <th>0</th>\n",
       "      <td>0</td>\n",
       "      <td>0</td>\n",
       "      <td>0</td>\n",
       "      <td>0</td>\n",
       "      <td>0</td>\n",
       "      <td>0</td>\n",
       "      <td>0</td>\n",
       "      <td>0</td>\n",
       "      <td>0</td>\n",
       "      <td>0</td>\n",
       "      <td>0</td>\n",
       "      <td>0</td>\n",
       "      <td>0</td>\n",
       "      <td>0</td>\n",
       "      <td>0</td>\n",
       "      <td>0</td>\n",
       "      <td>0</td>\n",
       "      <td>0</td>\n",
       "      <td>0</td>\n",
       "      <td>1</td>\n",
       "    </tr>\n",
       "    <tr>\n",
       "      <th>1</th>\n",
       "      <td>0</td>\n",
       "      <td>0</td>\n",
       "      <td>0</td>\n",
       "      <td>0</td>\n",
       "      <td>0</td>\n",
       "      <td>0</td>\n",
       "      <td>0</td>\n",
       "      <td>0</td>\n",
       "      <td>0</td>\n",
       "      <td>0</td>\n",
       "      <td>0</td>\n",
       "      <td>0</td>\n",
       "      <td>0</td>\n",
       "      <td>0</td>\n",
       "      <td>0</td>\n",
       "      <td>0</td>\n",
       "      <td>0</td>\n",
       "      <td>0</td>\n",
       "      <td>0</td>\n",
       "      <td>1</td>\n",
       "    </tr>\n",
       "    <tr>\n",
       "      <th>2</th>\n",
       "      <td>0</td>\n",
       "      <td>0</td>\n",
       "      <td>0</td>\n",
       "      <td>0</td>\n",
       "      <td>0</td>\n",
       "      <td>0</td>\n",
       "      <td>0</td>\n",
       "      <td>0</td>\n",
       "      <td>0</td>\n",
       "      <td>0</td>\n",
       "      <td>0</td>\n",
       "      <td>0</td>\n",
       "      <td>0</td>\n",
       "      <td>0</td>\n",
       "      <td>0</td>\n",
       "      <td>0</td>\n",
       "      <td>0</td>\n",
       "      <td>0</td>\n",
       "      <td>0</td>\n",
       "      <td>1</td>\n",
       "    </tr>\n",
       "    <tr>\n",
       "      <th>3</th>\n",
       "      <td>0</td>\n",
       "      <td>0</td>\n",
       "      <td>0</td>\n",
       "      <td>0</td>\n",
       "      <td>0</td>\n",
       "      <td>0</td>\n",
       "      <td>0</td>\n",
       "      <td>0</td>\n",
       "      <td>0</td>\n",
       "      <td>0</td>\n",
       "      <td>0</td>\n",
       "      <td>0</td>\n",
       "      <td>0</td>\n",
       "      <td>0</td>\n",
       "      <td>0</td>\n",
       "      <td>0</td>\n",
       "      <td>0</td>\n",
       "      <td>0</td>\n",
       "      <td>0</td>\n",
       "      <td>1</td>\n",
       "    </tr>\n",
       "    <tr>\n",
       "      <th>4</th>\n",
       "      <td>0</td>\n",
       "      <td>0</td>\n",
       "      <td>0</td>\n",
       "      <td>1</td>\n",
       "      <td>0</td>\n",
       "      <td>0</td>\n",
       "      <td>0</td>\n",
       "      <td>0</td>\n",
       "      <td>0</td>\n",
       "      <td>0</td>\n",
       "      <td>0</td>\n",
       "      <td>0</td>\n",
       "      <td>0</td>\n",
       "      <td>0</td>\n",
       "      <td>0</td>\n",
       "      <td>0</td>\n",
       "      <td>0</td>\n",
       "      <td>0</td>\n",
       "      <td>0</td>\n",
       "      <td>0</td>\n",
       "    </tr>\n",
       "    <tr>\n",
       "      <th>...</th>\n",
       "      <td>...</td>\n",
       "      <td>...</td>\n",
       "      <td>...</td>\n",
       "      <td>...</td>\n",
       "      <td>...</td>\n",
       "      <td>...</td>\n",
       "      <td>...</td>\n",
       "      <td>...</td>\n",
       "      <td>...</td>\n",
       "      <td>...</td>\n",
       "      <td>...</td>\n",
       "      <td>...</td>\n",
       "      <td>...</td>\n",
       "      <td>...</td>\n",
       "      <td>...</td>\n",
       "      <td>...</td>\n",
       "      <td>...</td>\n",
       "      <td>...</td>\n",
       "      <td>...</td>\n",
       "      <td>...</td>\n",
       "    </tr>\n",
       "    <tr>\n",
       "      <th>238186</th>\n",
       "      <td>0</td>\n",
       "      <td>0</td>\n",
       "      <td>0</td>\n",
       "      <td>0</td>\n",
       "      <td>0</td>\n",
       "      <td>0</td>\n",
       "      <td>0</td>\n",
       "      <td>0</td>\n",
       "      <td>0</td>\n",
       "      <td>0</td>\n",
       "      <td>0</td>\n",
       "      <td>0</td>\n",
       "      <td>0</td>\n",
       "      <td>0</td>\n",
       "      <td>0</td>\n",
       "      <td>0</td>\n",
       "      <td>0</td>\n",
       "      <td>0</td>\n",
       "      <td>0</td>\n",
       "      <td>1</td>\n",
       "    </tr>\n",
       "    <tr>\n",
       "      <th>238187</th>\n",
       "      <td>0</td>\n",
       "      <td>0</td>\n",
       "      <td>0</td>\n",
       "      <td>0</td>\n",
       "      <td>0</td>\n",
       "      <td>0</td>\n",
       "      <td>0</td>\n",
       "      <td>0</td>\n",
       "      <td>0</td>\n",
       "      <td>0</td>\n",
       "      <td>0</td>\n",
       "      <td>0</td>\n",
       "      <td>0</td>\n",
       "      <td>0</td>\n",
       "      <td>0</td>\n",
       "      <td>0</td>\n",
       "      <td>0</td>\n",
       "      <td>0</td>\n",
       "      <td>0</td>\n",
       "      <td>1</td>\n",
       "    </tr>\n",
       "    <tr>\n",
       "      <th>238188</th>\n",
       "      <td>0</td>\n",
       "      <td>0</td>\n",
       "      <td>0</td>\n",
       "      <td>1</td>\n",
       "      <td>0</td>\n",
       "      <td>0</td>\n",
       "      <td>0</td>\n",
       "      <td>0</td>\n",
       "      <td>0</td>\n",
       "      <td>0</td>\n",
       "      <td>0</td>\n",
       "      <td>0</td>\n",
       "      <td>0</td>\n",
       "      <td>0</td>\n",
       "      <td>0</td>\n",
       "      <td>0</td>\n",
       "      <td>0</td>\n",
       "      <td>0</td>\n",
       "      <td>0</td>\n",
       "      <td>0</td>\n",
       "    </tr>\n",
       "    <tr>\n",
       "      <th>238189</th>\n",
       "      <td>0</td>\n",
       "      <td>0</td>\n",
       "      <td>0</td>\n",
       "      <td>1</td>\n",
       "      <td>0</td>\n",
       "      <td>0</td>\n",
       "      <td>0</td>\n",
       "      <td>0</td>\n",
       "      <td>0</td>\n",
       "      <td>0</td>\n",
       "      <td>0</td>\n",
       "      <td>0</td>\n",
       "      <td>0</td>\n",
       "      <td>0</td>\n",
       "      <td>0</td>\n",
       "      <td>0</td>\n",
       "      <td>0</td>\n",
       "      <td>0</td>\n",
       "      <td>0</td>\n",
       "      <td>0</td>\n",
       "    </tr>\n",
       "    <tr>\n",
       "      <th>238190</th>\n",
       "      <td>0</td>\n",
       "      <td>0</td>\n",
       "      <td>0</td>\n",
       "      <td>0</td>\n",
       "      <td>0</td>\n",
       "      <td>0</td>\n",
       "      <td>0</td>\n",
       "      <td>0</td>\n",
       "      <td>0</td>\n",
       "      <td>0</td>\n",
       "      <td>0</td>\n",
       "      <td>0</td>\n",
       "      <td>0</td>\n",
       "      <td>0</td>\n",
       "      <td>0</td>\n",
       "      <td>0</td>\n",
       "      <td>0</td>\n",
       "      <td>0</td>\n",
       "      <td>0</td>\n",
       "      <td>1</td>\n",
       "    </tr>\n",
       "  </tbody>\n",
       "</table>\n",
       "<p>238191 rows × 20 columns</p>\n",
       "</div>"
      ],
      "text/plain": [
       "        hs_detoxification center  hs_emergency structure  \\\n",
       "0                              0                       0   \n",
       "1                              0                       0   \n",
       "2                              0                       0   \n",
       "3                              0                       0   \n",
       "4                              0                       0   \n",
       "...                          ...                     ...   \n",
       "238186                         0                       0   \n",
       "238187                         0                       0   \n",
       "238188                         0                       0   \n",
       "238189                         0                       0   \n",
       "238190                         0                       0   \n",
       "\n",
       "        hs_hotel paid by an association  \\\n",
       "0                                     0   \n",
       "1                                     0   \n",
       "2                                     0   \n",
       "3                                     0   \n",
       "4                                     0   \n",
       "...                                 ...   \n",
       "238186                                0   \n",
       "238187                                0   \n",
       "238188                                0   \n",
       "238189                                0   \n",
       "238190                                0   \n",
       "\n",
       "        hs_hotel paid by the emergency centre  hs_hotel paid by the household  \\\n",
       "0                                           0                               0   \n",
       "1                                           0                               0   \n",
       "2                                           0                               0   \n",
       "3                                           0                               0   \n",
       "4                                           1                               0   \n",
       "...                                       ...                             ...   \n",
       "238186                                      0                               0   \n",
       "238187                                      0                               0   \n",
       "238188                                      1                               0   \n",
       "238189                                      1                               0   \n",
       "238190                                      0                               0   \n",
       "\n",
       "        hs_hotel paid by the regional administration  hs_inclusion structure  \\\n",
       "0                                                  0                       0   \n",
       "1                                                  0                       0   \n",
       "2                                                  0                       0   \n",
       "3                                                  0                       0   \n",
       "4                                                  0                       0   \n",
       "...                                              ...                     ...   \n",
       "238186                                             0                       0   \n",
       "238187                                             0                       0   \n",
       "238188                                             0                       0   \n",
       "238189                                             0                       0   \n",
       "238190                                             0                       0   \n",
       "\n",
       "        hs_mobile or makeshift shelter  hs_other  hs_parental home  \\\n",
       "0                                    0         0                 0   \n",
       "1                                    0         0                 0   \n",
       "2                                    0         0                 0   \n",
       "3                                    0         0                 0   \n",
       "4                                    0         0                 0   \n",
       "...                                ...       ...               ...   \n",
       "238186                               0         0                 0   \n",
       "238187                               0         0                 0   \n",
       "238188                               0         0                 0   \n",
       "238189                               0         0                 0   \n",
       "238190                               0         0                 0   \n",
       "\n",
       "        hs_personal or marital home  hs_police station  hs_prison  \\\n",
       "0                                 0                  0          0   \n",
       "1                                 0                  0          0   \n",
       "2                                 0                  0          0   \n",
       "3                                 0                  0          0   \n",
       "4                                 0                  0          0   \n",
       "...                             ...                ...        ...   \n",
       "238186                            0                  0          0   \n",
       "238187                            0                  0          0   \n",
       "238188                            0                  0          0   \n",
       "238189                            0                  0          0   \n",
       "238190                            0                  0          0   \n",
       "\n",
       "        hs_psychiatric hospital  hs_public hospital  hs_refused to answer  \\\n",
       "0                             0                   0                     0   \n",
       "1                             0                   0                     0   \n",
       "2                             0                   0                     0   \n",
       "3                             0                   0                     0   \n",
       "4                             0                   0                     0   \n",
       "...                         ...                 ...                   ...   \n",
       "238186                        0                   0                     0   \n",
       "238187                        0                   0                     0   \n",
       "238188                        0                   0                     0   \n",
       "238189                        0                   0                     0   \n",
       "238190                        0                   0                     0   \n",
       "\n",
       "        hs_religious place (church, mosque, synogogue)  hs_shelters  \\\n",
       "0                                                    0            0   \n",
       "1                                                    0            0   \n",
       "2                                                    0            0   \n",
       "3                                                    0            0   \n",
       "4                                                    0            0   \n",
       "...                                                ...          ...   \n",
       "238186                                               0            0   \n",
       "238187                                               0            0   \n",
       "238188                                               0            0   \n",
       "238189                                               0            0   \n",
       "238190                                               0            0   \n",
       "\n",
       "        hs_stabilisation structure  hs_street  \n",
       "0                                0          1  \n",
       "1                                0          1  \n",
       "2                                0          1  \n",
       "3                                0          1  \n",
       "4                                0          0  \n",
       "...                            ...        ...  \n",
       "238186                           0          1  \n",
       "238187                           0          1  \n",
       "238188                           0          0  \n",
       "238189                           0          0  \n",
       "238190                           0          1  \n",
       "\n",
       "[238191 rows x 20 columns]"
      ]
     },
     "execution_count": 23,
     "metadata": {},
     "output_type": "execute_result"
    }
   ],
   "source": [
    "df_add"
   ]
  },
  {
   "cell_type": "code",
   "execution_count": 24,
   "metadata": {},
   "outputs": [],
   "source": [
    "df_tmp = pd.concat([df_train, df_add], axis=1)"
   ]
  },
  {
   "cell_type": "code",
   "execution_count": 25,
   "metadata": {},
   "outputs": [
    {
     "data": {
      "text/plain": [
       "(238191, 32)"
      ]
     },
     "execution_count": 25,
     "metadata": {},
     "output_type": "execute_result"
    }
   ],
   "source": [
    "df_train.shape"
   ]
  },
  {
   "cell_type": "code",
   "execution_count": 26,
   "metadata": {},
   "outputs": [
    {
     "data": {
      "text/plain": [
       "(238191, 52)"
      ]
     },
     "execution_count": 26,
     "metadata": {},
     "output_type": "execute_result"
    }
   ],
   "source": [
    "df_tmp.shape"
   ]
  },
  {
   "cell_type": "code",
   "execution_count": 27,
   "metadata": {},
   "outputs": [],
   "source": [
    "df_train = df_tmp.copy()"
   ]
  },
  {
   "cell_type": "code",
   "execution_count": 28,
   "metadata": {},
   "outputs": [
    {
     "data": {
      "text/plain": [
       "21"
      ]
     },
     "execution_count": 28,
     "metadata": {},
     "output_type": "execute_result"
    }
   ],
   "source": [
    "df_train[\"housing_situation_label\"].nunique()"
   ]
  },
  {
   "cell_type": "code",
   "execution_count": 29,
   "metadata": {},
   "outputs": [
    {
     "data": {
      "text/plain": [
       "21"
      ]
     },
     "execution_count": 29,
     "metadata": {},
     "output_type": "execute_result"
    }
   ],
   "source": [
    "df_test[\"housing_situation_label\"].nunique()"
   ]
  },
  {
   "cell_type": "code",
   "execution_count": 30,
   "metadata": {},
   "outputs": [],
   "source": [
    "df_test = pd.concat([df_test, \n",
    "          pd.get_dummies(df_test[\"housing_situation_label\"], \n",
    "               prefix='hs', drop_first=True)], axis=1)"
   ]
  },
  {
   "cell_type": "code",
   "execution_count": 31,
   "metadata": {},
   "outputs": [
    {
     "data": {
      "text/plain": [
       "(59548, 52)"
      ]
     },
     "execution_count": 31,
     "metadata": {},
     "output_type": "execute_result"
    }
   ],
   "source": [
    "df_test.shape"
   ]
  },
  {
   "cell_type": "markdown",
   "metadata": {},
   "source": [
    "#### long_term_housing_request : one hot encoding\n",
    "\n",
    "We replace unknown by NaN"
   ]
  },
  {
   "cell_type": "code",
   "execution_count": 32,
   "metadata": {},
   "outputs": [
    {
     "data": {
      "text/plain": [
       "unknown    165556\n",
       "f           60386\n",
       "t           12249\n",
       "Name: long_term_housing_request, dtype: int64"
      ]
     },
     "execution_count": 32,
     "metadata": {},
     "output_type": "execute_result"
    }
   ],
   "source": [
    "df_train[\"long_term_housing_request\"].value_counts()"
   ]
  },
  {
   "cell_type": "code",
   "execution_count": 33,
   "metadata": {},
   "outputs": [],
   "source": [
    "df_train.loc[df_train[\"long_term_housing_request\"] == \"unknown\", \n",
    "   \"long_term_housing_request\"] = np.nan"
   ]
  },
  {
   "cell_type": "code",
   "execution_count": 34,
   "metadata": {},
   "outputs": [
    {
     "data": {
      "text/plain": [
       "NaN    165556\n",
       "f       60386\n",
       "t       12249\n",
       "Name: long_term_housing_request, dtype: int64"
      ]
     },
     "execution_count": 34,
     "metadata": {},
     "output_type": "execute_result"
    }
   ],
   "source": [
    "df_train[\"long_term_housing_request\"].value_counts(dropna=False)"
   ]
  },
  {
   "cell_type": "code",
   "execution_count": 35,
   "metadata": {},
   "outputs": [
    {
     "data": {
      "text/html": [
       "<div>\n",
       "<style scoped>\n",
       "    .dataframe tbody tr th:only-of-type {\n",
       "        vertical-align: middle;\n",
       "    }\n",
       "\n",
       "    .dataframe tbody tr th {\n",
       "        vertical-align: top;\n",
       "    }\n",
       "\n",
       "    .dataframe thead th {\n",
       "        text-align: right;\n",
       "    }\n",
       "</style>\n",
       "<table border=\"1\" class=\"dataframe\">\n",
       "  <thead>\n",
       "    <tr style=\"text-align: right;\">\n",
       "      <th></th>\n",
       "      <th>lts_req_f</th>\n",
       "      <th>lts_req_t</th>\n",
       "    </tr>\n",
       "  </thead>\n",
       "  <tbody>\n",
       "    <tr>\n",
       "      <th>0</th>\n",
       "      <td>0</td>\n",
       "      <td>0</td>\n",
       "    </tr>\n",
       "    <tr>\n",
       "      <th>1</th>\n",
       "      <td>0</td>\n",
       "      <td>0</td>\n",
       "    </tr>\n",
       "    <tr>\n",
       "      <th>2</th>\n",
       "      <td>0</td>\n",
       "      <td>0</td>\n",
       "    </tr>\n",
       "    <tr>\n",
       "      <th>3</th>\n",
       "      <td>0</td>\n",
       "      <td>0</td>\n",
       "    </tr>\n",
       "    <tr>\n",
       "      <th>4</th>\n",
       "      <td>0</td>\n",
       "      <td>0</td>\n",
       "    </tr>\n",
       "    <tr>\n",
       "      <th>...</th>\n",
       "      <td>...</td>\n",
       "      <td>...</td>\n",
       "    </tr>\n",
       "    <tr>\n",
       "      <th>238186</th>\n",
       "      <td>1</td>\n",
       "      <td>0</td>\n",
       "    </tr>\n",
       "    <tr>\n",
       "      <th>238187</th>\n",
       "      <td>0</td>\n",
       "      <td>0</td>\n",
       "    </tr>\n",
       "    <tr>\n",
       "      <th>238188</th>\n",
       "      <td>0</td>\n",
       "      <td>0</td>\n",
       "    </tr>\n",
       "    <tr>\n",
       "      <th>238189</th>\n",
       "      <td>1</td>\n",
       "      <td>0</td>\n",
       "    </tr>\n",
       "    <tr>\n",
       "      <th>238190</th>\n",
       "      <td>1</td>\n",
       "      <td>0</td>\n",
       "    </tr>\n",
       "  </tbody>\n",
       "</table>\n",
       "<p>238191 rows × 2 columns</p>\n",
       "</div>"
      ],
      "text/plain": [
       "        lts_req_f  lts_req_t\n",
       "0               0          0\n",
       "1               0          0\n",
       "2               0          0\n",
       "3               0          0\n",
       "4               0          0\n",
       "...           ...        ...\n",
       "238186          1          0\n",
       "238187          0          0\n",
       "238188          0          0\n",
       "238189          1          0\n",
       "238190          1          0\n",
       "\n",
       "[238191 rows x 2 columns]"
      ]
     },
     "execution_count": 35,
     "metadata": {},
     "output_type": "execute_result"
    }
   ],
   "source": [
    "df_add = pd.get_dummies(df_train[\"long_term_housing_request\"], \n",
    "               prefix='lts_req')\n",
    "df_add"
   ]
  },
  {
   "cell_type": "code",
   "execution_count": 36,
   "metadata": {},
   "outputs": [],
   "source": [
    "list_feat = list_feat +  df_add.columns.tolist()"
   ]
  },
  {
   "cell_type": "code",
   "execution_count": 37,
   "metadata": {},
   "outputs": [],
   "source": [
    "df_tmp = pd.concat([df_train, df_add], axis=1)"
   ]
  },
  {
   "cell_type": "code",
   "execution_count": 38,
   "metadata": {},
   "outputs": [
    {
     "data": {
      "text/plain": [
       "(238191, 52)"
      ]
     },
     "execution_count": 38,
     "metadata": {},
     "output_type": "execute_result"
    }
   ],
   "source": [
    "df_train.shape"
   ]
  },
  {
   "cell_type": "code",
   "execution_count": 39,
   "metadata": {},
   "outputs": [
    {
     "data": {
      "text/plain": [
       "(238191, 54)"
      ]
     },
     "execution_count": 39,
     "metadata": {},
     "output_type": "execute_result"
    }
   ],
   "source": [
    "df_tmp.shape"
   ]
  },
  {
   "cell_type": "code",
   "execution_count": 40,
   "metadata": {},
   "outputs": [],
   "source": [
    "df_train = df_tmp.copy()"
   ]
  },
  {
   "cell_type": "code",
   "execution_count": 41,
   "metadata": {},
   "outputs": [
    {
     "data": {
      "text/html": [
       "<div>\n",
       "<style scoped>\n",
       "    .dataframe tbody tr th:only-of-type {\n",
       "        vertical-align: middle;\n",
       "    }\n",
       "\n",
       "    .dataframe tbody tr th {\n",
       "        vertical-align: top;\n",
       "    }\n",
       "\n",
       "    .dataframe thead th {\n",
       "        text-align: right;\n",
       "    }\n",
       "</style>\n",
       "<table border=\"1\" class=\"dataframe\">\n",
       "  <thead>\n",
       "    <tr style=\"text-align: right;\">\n",
       "      <th></th>\n",
       "      <th>granted_number_of_nights</th>\n",
       "      <th>animal_presence</th>\n",
       "      <th>group_composition_label</th>\n",
       "      <th>housing_situation_label</th>\n",
       "      <th>long_term_housing_request</th>\n",
       "      <th>requester_type</th>\n",
       "      <th>victim_of_violence_type</th>\n",
       "      <th>pregnancy</th>\n",
       "      <th>region</th>\n",
       "      <th>childcare_center_supervision</th>\n",
       "      <th>...</th>\n",
       "      <th>hs_prison</th>\n",
       "      <th>hs_psychiatric hospital</th>\n",
       "      <th>hs_public hospital</th>\n",
       "      <th>hs_refused to answer</th>\n",
       "      <th>hs_religious place (church, mosque, synogogue)</th>\n",
       "      <th>hs_shelters</th>\n",
       "      <th>hs_stabilisation structure</th>\n",
       "      <th>hs_street</th>\n",
       "      <th>lts_req_f</th>\n",
       "      <th>lts_req_t</th>\n",
       "    </tr>\n",
       "  </thead>\n",
       "  <tbody>\n",
       "    <tr>\n",
       "      <th>45046</th>\n",
       "      <td>0</td>\n",
       "      <td>f</td>\n",
       "      <td>man alone</td>\n",
       "      <td>street</td>\n",
       "      <td>f</td>\n",
       "      <td>user</td>\n",
       "      <td>f</td>\n",
       "      <td>f</td>\n",
       "      <td>Hauts-de-France</td>\n",
       "      <td>f</td>\n",
       "      <td>...</td>\n",
       "      <td>0</td>\n",
       "      <td>0</td>\n",
       "      <td>0</td>\n",
       "      <td>0</td>\n",
       "      <td>0</td>\n",
       "      <td>0</td>\n",
       "      <td>0</td>\n",
       "      <td>1</td>\n",
       "      <td>1</td>\n",
       "      <td>0</td>\n",
       "    </tr>\n",
       "    <tr>\n",
       "      <th>79973</th>\n",
       "      <td>2</td>\n",
       "      <td>f</td>\n",
       "      <td>woman alone</td>\n",
       "      <td>accomodation by a third party</td>\n",
       "      <td>NaN</td>\n",
       "      <td>user</td>\n",
       "      <td>f</td>\n",
       "      <td>f</td>\n",
       "      <td>Hauts-de-France</td>\n",
       "      <td>f</td>\n",
       "      <td>...</td>\n",
       "      <td>0</td>\n",
       "      <td>0</td>\n",
       "      <td>0</td>\n",
       "      <td>0</td>\n",
       "      <td>0</td>\n",
       "      <td>0</td>\n",
       "      <td>0</td>\n",
       "      <td>0</td>\n",
       "      <td>0</td>\n",
       "      <td>0</td>\n",
       "    </tr>\n",
       "    <tr>\n",
       "      <th>200132</th>\n",
       "      <td>2</td>\n",
       "      <td>f</td>\n",
       "      <td>group of adults</td>\n",
       "      <td>street</td>\n",
       "      <td>t</td>\n",
       "      <td>user</td>\n",
       "      <td>f</td>\n",
       "      <td>f</td>\n",
       "      <td>Île-de-France</td>\n",
       "      <td>f</td>\n",
       "      <td>...</td>\n",
       "      <td>0</td>\n",
       "      <td>0</td>\n",
       "      <td>0</td>\n",
       "      <td>0</td>\n",
       "      <td>0</td>\n",
       "      <td>0</td>\n",
       "      <td>0</td>\n",
       "      <td>1</td>\n",
       "      <td>0</td>\n",
       "      <td>1</td>\n",
       "    </tr>\n",
       "    <tr>\n",
       "      <th>39414</th>\n",
       "      <td>1</td>\n",
       "      <td>f</td>\n",
       "      <td>man alone</td>\n",
       "      <td>emergency structure</td>\n",
       "      <td>f</td>\n",
       "      <td>user</td>\n",
       "      <td>f</td>\n",
       "      <td>f</td>\n",
       "      <td>Auvergne-Rhône-Alpes</td>\n",
       "      <td>f</td>\n",
       "      <td>...</td>\n",
       "      <td>0</td>\n",
       "      <td>0</td>\n",
       "      <td>0</td>\n",
       "      <td>0</td>\n",
       "      <td>0</td>\n",
       "      <td>0</td>\n",
       "      <td>0</td>\n",
       "      <td>0</td>\n",
       "      <td>1</td>\n",
       "      <td>0</td>\n",
       "    </tr>\n",
       "    <tr>\n",
       "      <th>15860</th>\n",
       "      <td>1</td>\n",
       "      <td>f</td>\n",
       "      <td>couple without whildren</td>\n",
       "      <td>accomodation by a third party</td>\n",
       "      <td>NaN</td>\n",
       "      <td>user</td>\n",
       "      <td>unknown</td>\n",
       "      <td>f</td>\n",
       "      <td>Centre-Val de Loire</td>\n",
       "      <td>f</td>\n",
       "      <td>...</td>\n",
       "      <td>0</td>\n",
       "      <td>0</td>\n",
       "      <td>0</td>\n",
       "      <td>0</td>\n",
       "      <td>0</td>\n",
       "      <td>0</td>\n",
       "      <td>0</td>\n",
       "      <td>0</td>\n",
       "      <td>0</td>\n",
       "      <td>0</td>\n",
       "    </tr>\n",
       "  </tbody>\n",
       "</table>\n",
       "<p>5 rows × 54 columns</p>\n",
       "</div>"
      ],
      "text/plain": [
       "        granted_number_of_nights animal_presence  group_composition_label  \\\n",
       "45046                          0               f                man alone   \n",
       "79973                          2               f              woman alone   \n",
       "200132                         2               f          group of adults   \n",
       "39414                          1               f                man alone   \n",
       "15860                          1               f  couple without whildren   \n",
       "\n",
       "              housing_situation_label long_term_housing_request  \\\n",
       "45046                          street                         f   \n",
       "79973   accomodation by a third party                       NaN   \n",
       "200132                         street                         t   \n",
       "39414             emergency structure                         f   \n",
       "15860   accomodation by a third party                       NaN   \n",
       "\n",
       "       requester_type victim_of_violence_type pregnancy                region  \\\n",
       "45046            user                       f         f       Hauts-de-France   \n",
       "79973            user                       f         f       Hauts-de-France   \n",
       "200132           user                       f         f         Île-de-France   \n",
       "39414            user                       f         f  Auvergne-Rhône-Alpes   \n",
       "15860            user                 unknown         f   Centre-Val de Loire   \n",
       "\n",
       "       childcare_center_supervision  ...  hs_prison  hs_psychiatric hospital  \\\n",
       "45046                             f  ...          0                        0   \n",
       "79973                             f  ...          0                        0   \n",
       "200132                            f  ...          0                        0   \n",
       "39414                             f  ...          0                        0   \n",
       "15860                             f  ...          0                        0   \n",
       "\n",
       "        hs_public hospital hs_refused to answer  \\\n",
       "45046                    0                    0   \n",
       "79973                    0                    0   \n",
       "200132                   0                    0   \n",
       "39414                    0                    0   \n",
       "15860                    0                    0   \n",
       "\n",
       "        hs_religious place (church, mosque, synogogue)  hs_shelters  \\\n",
       "45046                                                0            0   \n",
       "79973                                                0            0   \n",
       "200132                                               0            0   \n",
       "39414                                                0            0   \n",
       "15860                                                0            0   \n",
       "\n",
       "       hs_stabilisation structure  hs_street  lts_req_f  lts_req_t  \n",
       "45046                           0          1          1          0  \n",
       "79973                           0          0          0          0  \n",
       "200132                          0          1          0          1  \n",
       "39414                           0          0          1          0  \n",
       "15860                           0          0          0          0  \n",
       "\n",
       "[5 rows x 54 columns]"
      ]
     },
     "execution_count": 41,
     "metadata": {},
     "output_type": "execute_result"
    }
   ],
   "source": [
    "df_train.sample(5)"
   ]
  },
  {
   "cell_type": "code",
   "execution_count": 42,
   "metadata": {},
   "outputs": [],
   "source": [
    "df_test.loc[df_test[\"long_term_housing_request\"] == \"unknown\", \n",
    "   \"long_term_housing_request\"] = np.nan"
   ]
  },
  {
   "cell_type": "code",
   "execution_count": 43,
   "metadata": {},
   "outputs": [],
   "source": [
    "df_test = pd.concat([df_test, \n",
    "          pd.get_dummies(df_test[\"long_term_housing_request\"], \n",
    "               prefix='lts_req')], axis=1)"
   ]
  },
  {
   "cell_type": "code",
   "execution_count": 44,
   "metadata": {},
   "outputs": [
    {
     "data": {
      "text/html": [
       "<div>\n",
       "<style scoped>\n",
       "    .dataframe tbody tr th:only-of-type {\n",
       "        vertical-align: middle;\n",
       "    }\n",
       "\n",
       "    .dataframe tbody tr th {\n",
       "        vertical-align: top;\n",
       "    }\n",
       "\n",
       "    .dataframe thead th {\n",
       "        text-align: right;\n",
       "    }\n",
       "</style>\n",
       "<table border=\"1\" class=\"dataframe\">\n",
       "  <thead>\n",
       "    <tr style=\"text-align: right;\">\n",
       "      <th></th>\n",
       "      <th>granted_number_of_nights</th>\n",
       "      <th>animal_presence</th>\n",
       "      <th>group_composition_label</th>\n",
       "      <th>housing_situation_label</th>\n",
       "      <th>long_term_housing_request</th>\n",
       "      <th>requester_type</th>\n",
       "      <th>victim_of_violence_type</th>\n",
       "      <th>pregnancy</th>\n",
       "      <th>region</th>\n",
       "      <th>childcare_center_supervision</th>\n",
       "      <th>...</th>\n",
       "      <th>hs_prison</th>\n",
       "      <th>hs_psychiatric hospital</th>\n",
       "      <th>hs_public hospital</th>\n",
       "      <th>hs_refused to answer</th>\n",
       "      <th>hs_religious place (church, mosque, synogogue)</th>\n",
       "      <th>hs_shelters</th>\n",
       "      <th>hs_stabilisation structure</th>\n",
       "      <th>hs_street</th>\n",
       "      <th>lts_req_f</th>\n",
       "      <th>lts_req_t</th>\n",
       "    </tr>\n",
       "  </thead>\n",
       "  <tbody>\n",
       "    <tr>\n",
       "      <th>0</th>\n",
       "      <td>0</td>\n",
       "      <td>f</td>\n",
       "      <td>single mother with child(ren)</td>\n",
       "      <td>street</td>\n",
       "      <td>NaN</td>\n",
       "      <td>user</td>\n",
       "      <td>f</td>\n",
       "      <td>f</td>\n",
       "      <td>Hauts-de-France</td>\n",
       "      <td>f</td>\n",
       "      <td>...</td>\n",
       "      <td>0</td>\n",
       "      <td>0</td>\n",
       "      <td>0</td>\n",
       "      <td>0</td>\n",
       "      <td>0</td>\n",
       "      <td>0</td>\n",
       "      <td>0</td>\n",
       "      <td>1</td>\n",
       "      <td>0</td>\n",
       "      <td>0</td>\n",
       "    </tr>\n",
       "    <tr>\n",
       "      <th>1</th>\n",
       "      <td>0</td>\n",
       "      <td>f</td>\n",
       "      <td>man alone</td>\n",
       "      <td>street</td>\n",
       "      <td>NaN</td>\n",
       "      <td>user</td>\n",
       "      <td>f</td>\n",
       "      <td>f</td>\n",
       "      <td>Auvergne-Rhône-Alpes</td>\n",
       "      <td>f</td>\n",
       "      <td>...</td>\n",
       "      <td>0</td>\n",
       "      <td>0</td>\n",
       "      <td>0</td>\n",
       "      <td>0</td>\n",
       "      <td>0</td>\n",
       "      <td>0</td>\n",
       "      <td>0</td>\n",
       "      <td>1</td>\n",
       "      <td>0</td>\n",
       "      <td>0</td>\n",
       "    </tr>\n",
       "    <tr>\n",
       "      <th>2</th>\n",
       "      <td>0</td>\n",
       "      <td>f</td>\n",
       "      <td>woman alone</td>\n",
       "      <td>public hospital</td>\n",
       "      <td>f</td>\n",
       "      <td>user</td>\n",
       "      <td>f</td>\n",
       "      <td>f</td>\n",
       "      <td>Occitanie</td>\n",
       "      <td>f</td>\n",
       "      <td>...</td>\n",
       "      <td>0</td>\n",
       "      <td>0</td>\n",
       "      <td>1</td>\n",
       "      <td>0</td>\n",
       "      <td>0</td>\n",
       "      <td>0</td>\n",
       "      <td>0</td>\n",
       "      <td>0</td>\n",
       "      <td>1</td>\n",
       "      <td>0</td>\n",
       "    </tr>\n",
       "    <tr>\n",
       "      <th>3</th>\n",
       "      <td>0</td>\n",
       "      <td>f</td>\n",
       "      <td>man alone</td>\n",
       "      <td>street</td>\n",
       "      <td>NaN</td>\n",
       "      <td>user</td>\n",
       "      <td>f</td>\n",
       "      <td>f</td>\n",
       "      <td>Île-de-France</td>\n",
       "      <td>f</td>\n",
       "      <td>...</td>\n",
       "      <td>0</td>\n",
       "      <td>0</td>\n",
       "      <td>0</td>\n",
       "      <td>0</td>\n",
       "      <td>0</td>\n",
       "      <td>0</td>\n",
       "      <td>0</td>\n",
       "      <td>1</td>\n",
       "      <td>0</td>\n",
       "      <td>0</td>\n",
       "    </tr>\n",
       "    <tr>\n",
       "      <th>4</th>\n",
       "      <td>0</td>\n",
       "      <td>f</td>\n",
       "      <td>man alone</td>\n",
       "      <td>street</td>\n",
       "      <td>NaN</td>\n",
       "      <td>user</td>\n",
       "      <td>f</td>\n",
       "      <td>f</td>\n",
       "      <td>Provence-Alpes-Côte d'Azur</td>\n",
       "      <td>f</td>\n",
       "      <td>...</td>\n",
       "      <td>0</td>\n",
       "      <td>0</td>\n",
       "      <td>0</td>\n",
       "      <td>0</td>\n",
       "      <td>0</td>\n",
       "      <td>0</td>\n",
       "      <td>0</td>\n",
       "      <td>1</td>\n",
       "      <td>0</td>\n",
       "      <td>0</td>\n",
       "    </tr>\n",
       "    <tr>\n",
       "      <th>...</th>\n",
       "      <td>...</td>\n",
       "      <td>...</td>\n",
       "      <td>...</td>\n",
       "      <td>...</td>\n",
       "      <td>...</td>\n",
       "      <td>...</td>\n",
       "      <td>...</td>\n",
       "      <td>...</td>\n",
       "      <td>...</td>\n",
       "      <td>...</td>\n",
       "      <td>...</td>\n",
       "      <td>...</td>\n",
       "      <td>...</td>\n",
       "      <td>...</td>\n",
       "      <td>...</td>\n",
       "      <td>...</td>\n",
       "      <td>...</td>\n",
       "      <td>...</td>\n",
       "      <td>...</td>\n",
       "      <td>...</td>\n",
       "      <td>...</td>\n",
       "    </tr>\n",
       "    <tr>\n",
       "      <th>59543</th>\n",
       "      <td>1</td>\n",
       "      <td>f</td>\n",
       "      <td>couple with child(ren)</td>\n",
       "      <td>emergency structure</td>\n",
       "      <td>NaN</td>\n",
       "      <td>user</td>\n",
       "      <td>f</td>\n",
       "      <td>f</td>\n",
       "      <td>Nouvelle-Aquitaine</td>\n",
       "      <td>f</td>\n",
       "      <td>...</td>\n",
       "      <td>0</td>\n",
       "      <td>0</td>\n",
       "      <td>0</td>\n",
       "      <td>0</td>\n",
       "      <td>0</td>\n",
       "      <td>0</td>\n",
       "      <td>0</td>\n",
       "      <td>0</td>\n",
       "      <td>0</td>\n",
       "      <td>0</td>\n",
       "    </tr>\n",
       "    <tr>\n",
       "      <th>59544</th>\n",
       "      <td>1</td>\n",
       "      <td>f</td>\n",
       "      <td>single mother with child(ren)</td>\n",
       "      <td>emergency structure</td>\n",
       "      <td>NaN</td>\n",
       "      <td>user</td>\n",
       "      <td>f</td>\n",
       "      <td>f</td>\n",
       "      <td>Pays de la Loire</td>\n",
       "      <td>f</td>\n",
       "      <td>...</td>\n",
       "      <td>0</td>\n",
       "      <td>0</td>\n",
       "      <td>0</td>\n",
       "      <td>0</td>\n",
       "      <td>0</td>\n",
       "      <td>0</td>\n",
       "      <td>0</td>\n",
       "      <td>0</td>\n",
       "      <td>0</td>\n",
       "      <td>0</td>\n",
       "    </tr>\n",
       "    <tr>\n",
       "      <th>59545</th>\n",
       "      <td>2</td>\n",
       "      <td>f</td>\n",
       "      <td>man alone</td>\n",
       "      <td>emergency structure</td>\n",
       "      <td>NaN</td>\n",
       "      <td>user</td>\n",
       "      <td>f</td>\n",
       "      <td>f</td>\n",
       "      <td>Île-de-France</td>\n",
       "      <td>f</td>\n",
       "      <td>...</td>\n",
       "      <td>0</td>\n",
       "      <td>0</td>\n",
       "      <td>0</td>\n",
       "      <td>0</td>\n",
       "      <td>0</td>\n",
       "      <td>0</td>\n",
       "      <td>0</td>\n",
       "      <td>0</td>\n",
       "      <td>0</td>\n",
       "      <td>0</td>\n",
       "    </tr>\n",
       "    <tr>\n",
       "      <th>59546</th>\n",
       "      <td>1</td>\n",
       "      <td>f</td>\n",
       "      <td>single mother with child(ren)</td>\n",
       "      <td>accomodation by a third party</td>\n",
       "      <td>NaN</td>\n",
       "      <td>user</td>\n",
       "      <td>f</td>\n",
       "      <td>f</td>\n",
       "      <td>Île-de-France</td>\n",
       "      <td>f</td>\n",
       "      <td>...</td>\n",
       "      <td>0</td>\n",
       "      <td>0</td>\n",
       "      <td>0</td>\n",
       "      <td>0</td>\n",
       "      <td>0</td>\n",
       "      <td>0</td>\n",
       "      <td>0</td>\n",
       "      <td>0</td>\n",
       "      <td>0</td>\n",
       "      <td>0</td>\n",
       "    </tr>\n",
       "    <tr>\n",
       "      <th>59547</th>\n",
       "      <td>0</td>\n",
       "      <td>f</td>\n",
       "      <td>single mother with child(ren)</td>\n",
       "      <td>public hospital</td>\n",
       "      <td>NaN</td>\n",
       "      <td>user</td>\n",
       "      <td>f</td>\n",
       "      <td>f</td>\n",
       "      <td>Occitanie</td>\n",
       "      <td>f</td>\n",
       "      <td>...</td>\n",
       "      <td>0</td>\n",
       "      <td>0</td>\n",
       "      <td>1</td>\n",
       "      <td>0</td>\n",
       "      <td>0</td>\n",
       "      <td>0</td>\n",
       "      <td>0</td>\n",
       "      <td>0</td>\n",
       "      <td>0</td>\n",
       "      <td>0</td>\n",
       "    </tr>\n",
       "  </tbody>\n",
       "</table>\n",
       "<p>59548 rows × 54 columns</p>\n",
       "</div>"
      ],
      "text/plain": [
       "       granted_number_of_nights animal_presence  \\\n",
       "0                             0               f   \n",
       "1                             0               f   \n",
       "2                             0               f   \n",
       "3                             0               f   \n",
       "4                             0               f   \n",
       "...                         ...             ...   \n",
       "59543                         1               f   \n",
       "59544                         1               f   \n",
       "59545                         2               f   \n",
       "59546                         1               f   \n",
       "59547                         0               f   \n",
       "\n",
       "             group_composition_label        housing_situation_label  \\\n",
       "0      single mother with child(ren)                         street   \n",
       "1                          man alone                         street   \n",
       "2                        woman alone                public hospital   \n",
       "3                          man alone                         street   \n",
       "4                          man alone                         street   \n",
       "...                              ...                            ...   \n",
       "59543         couple with child(ren)            emergency structure   \n",
       "59544  single mother with child(ren)            emergency structure   \n",
       "59545                      man alone            emergency structure   \n",
       "59546  single mother with child(ren)  accomodation by a third party   \n",
       "59547  single mother with child(ren)                public hospital   \n",
       "\n",
       "      long_term_housing_request requester_type victim_of_violence_type  \\\n",
       "0                           NaN           user                       f   \n",
       "1                           NaN           user                       f   \n",
       "2                             f           user                       f   \n",
       "3                           NaN           user                       f   \n",
       "4                           NaN           user                       f   \n",
       "...                         ...            ...                     ...   \n",
       "59543                       NaN           user                       f   \n",
       "59544                       NaN           user                       f   \n",
       "59545                       NaN           user                       f   \n",
       "59546                       NaN           user                       f   \n",
       "59547                       NaN           user                       f   \n",
       "\n",
       "      pregnancy                      region childcare_center_supervision  ...  \\\n",
       "0             f             Hauts-de-France                            f  ...   \n",
       "1             f        Auvergne-Rhône-Alpes                            f  ...   \n",
       "2             f                   Occitanie                            f  ...   \n",
       "3             f               Île-de-France                            f  ...   \n",
       "4             f  Provence-Alpes-Côte d'Azur                            f  ...   \n",
       "...         ...                         ...                          ...  ...   \n",
       "59543         f          Nouvelle-Aquitaine                            f  ...   \n",
       "59544         f            Pays de la Loire                            f  ...   \n",
       "59545         f               Île-de-France                            f  ...   \n",
       "59546         f               Île-de-France                            f  ...   \n",
       "59547         f                   Occitanie                            f  ...   \n",
       "\n",
       "       hs_prison  hs_psychiatric hospital  hs_public hospital  \\\n",
       "0              0                        0                   0   \n",
       "1              0                        0                   0   \n",
       "2              0                        0                   1   \n",
       "3              0                        0                   0   \n",
       "4              0                        0                   0   \n",
       "...          ...                      ...                 ...   \n",
       "59543          0                        0                   0   \n",
       "59544          0                        0                   0   \n",
       "59545          0                        0                   0   \n",
       "59546          0                        0                   0   \n",
       "59547          0                        0                   1   \n",
       "\n",
       "      hs_refused to answer  hs_religious place (church, mosque, synogogue)  \\\n",
       "0                        0                                               0   \n",
       "1                        0                                               0   \n",
       "2                        0                                               0   \n",
       "3                        0                                               0   \n",
       "4                        0                                               0   \n",
       "...                    ...                                             ...   \n",
       "59543                    0                                               0   \n",
       "59544                    0                                               0   \n",
       "59545                    0                                               0   \n",
       "59546                    0                                               0   \n",
       "59547                    0                                               0   \n",
       "\n",
       "       hs_shelters hs_stabilisation structure  hs_street  lts_req_f  lts_req_t  \n",
       "0                0                          0          1          0          0  \n",
       "1                0                          0          1          0          0  \n",
       "2                0                          0          0          1          0  \n",
       "3                0                          0          1          0          0  \n",
       "4                0                          0          1          0          0  \n",
       "...            ...                        ...        ...        ...        ...  \n",
       "59543            0                          0          0          0          0  \n",
       "59544            0                          0          0          0          0  \n",
       "59545            0                          0          0          0          0  \n",
       "59546            0                          0          0          0          0  \n",
       "59547            0                          0          0          0          0  \n",
       "\n",
       "[59548 rows x 54 columns]"
      ]
     },
     "execution_count": 44,
     "metadata": {},
     "output_type": "execute_result"
    }
   ],
   "source": [
    "df_test"
   ]
  },
  {
   "cell_type": "code",
   "execution_count": 45,
   "metadata": {},
   "outputs": [
    {
     "data": {
      "text/plain": [
       "(59548, 54)"
      ]
     },
     "execution_count": 45,
     "metadata": {},
     "output_type": "execute_result"
    }
   ],
   "source": [
    "df_test.shape"
   ]
  },
  {
   "cell_type": "markdown",
   "metadata": {},
   "source": [
    "#### requester_type : one hot encoding"
   ]
  },
  {
   "cell_type": "code",
   "execution_count": 46,
   "metadata": {},
   "outputs": [],
   "source": [
    "df_add = pd.get_dummies(df_train[\"requester_type\"], \n",
    "               prefix='rt', drop_first=True)\n",
    "list_feat = list_feat +  df_add.columns.tolist()"
   ]
  },
  {
   "cell_type": "code",
   "execution_count": 47,
   "metadata": {},
   "outputs": [
    {
     "data": {
      "text/html": [
       "<div>\n",
       "<style scoped>\n",
       "    .dataframe tbody tr th:only-of-type {\n",
       "        vertical-align: middle;\n",
       "    }\n",
       "\n",
       "    .dataframe tbody tr th {\n",
       "        vertical-align: top;\n",
       "    }\n",
       "\n",
       "    .dataframe thead th {\n",
       "        text-align: right;\n",
       "    }\n",
       "</style>\n",
       "<table border=\"1\" class=\"dataframe\">\n",
       "  <thead>\n",
       "    <tr style=\"text-align: right;\">\n",
       "      <th></th>\n",
       "      <th>rt_third party</th>\n",
       "      <th>rt_user</th>\n",
       "    </tr>\n",
       "  </thead>\n",
       "  <tbody>\n",
       "    <tr>\n",
       "      <th>0</th>\n",
       "      <td>1</td>\n",
       "      <td>0</td>\n",
       "    </tr>\n",
       "    <tr>\n",
       "      <th>1</th>\n",
       "      <td>0</td>\n",
       "      <td>1</td>\n",
       "    </tr>\n",
       "    <tr>\n",
       "      <th>2</th>\n",
       "      <td>0</td>\n",
       "      <td>1</td>\n",
       "    </tr>\n",
       "    <tr>\n",
       "      <th>3</th>\n",
       "      <td>0</td>\n",
       "      <td>1</td>\n",
       "    </tr>\n",
       "    <tr>\n",
       "      <th>4</th>\n",
       "      <td>0</td>\n",
       "      <td>1</td>\n",
       "    </tr>\n",
       "    <tr>\n",
       "      <th>...</th>\n",
       "      <td>...</td>\n",
       "      <td>...</td>\n",
       "    </tr>\n",
       "    <tr>\n",
       "      <th>238186</th>\n",
       "      <td>0</td>\n",
       "      <td>1</td>\n",
       "    </tr>\n",
       "    <tr>\n",
       "      <th>238187</th>\n",
       "      <td>0</td>\n",
       "      <td>1</td>\n",
       "    </tr>\n",
       "    <tr>\n",
       "      <th>238188</th>\n",
       "      <td>0</td>\n",
       "      <td>1</td>\n",
       "    </tr>\n",
       "    <tr>\n",
       "      <th>238189</th>\n",
       "      <td>0</td>\n",
       "      <td>1</td>\n",
       "    </tr>\n",
       "    <tr>\n",
       "      <th>238190</th>\n",
       "      <td>0</td>\n",
       "      <td>1</td>\n",
       "    </tr>\n",
       "  </tbody>\n",
       "</table>\n",
       "<p>238191 rows × 2 columns</p>\n",
       "</div>"
      ],
      "text/plain": [
       "        rt_third party  rt_user\n",
       "0                    1        0\n",
       "1                    0        1\n",
       "2                    0        1\n",
       "3                    0        1\n",
       "4                    0        1\n",
       "...                ...      ...\n",
       "238186               0        1\n",
       "238187               0        1\n",
       "238188               0        1\n",
       "238189               0        1\n",
       "238190               0        1\n",
       "\n",
       "[238191 rows x 2 columns]"
      ]
     },
     "execution_count": 47,
     "metadata": {},
     "output_type": "execute_result"
    }
   ],
   "source": [
    "df_add"
   ]
  },
  {
   "cell_type": "code",
   "execution_count": 48,
   "metadata": {},
   "outputs": [],
   "source": [
    "df_tmp = pd.concat([df_train, df_add], axis=1)"
   ]
  },
  {
   "cell_type": "code",
   "execution_count": 49,
   "metadata": {},
   "outputs": [
    {
     "data": {
      "text/plain": [
       "(238191, 54)"
      ]
     },
     "execution_count": 49,
     "metadata": {},
     "output_type": "execute_result"
    }
   ],
   "source": [
    "df_train.shape"
   ]
  },
  {
   "cell_type": "code",
   "execution_count": 50,
   "metadata": {},
   "outputs": [
    {
     "data": {
      "text/plain": [
       "(238191, 56)"
      ]
     },
     "execution_count": 50,
     "metadata": {},
     "output_type": "execute_result"
    }
   ],
   "source": [
    "df_tmp.shape"
   ]
  },
  {
   "cell_type": "code",
   "execution_count": 51,
   "metadata": {},
   "outputs": [],
   "source": [
    "df_train = df_tmp.copy()"
   ]
  },
  {
   "cell_type": "code",
   "execution_count": 52,
   "metadata": {},
   "outputs": [
    {
     "data": {
      "text/html": [
       "<div>\n",
       "<style scoped>\n",
       "    .dataframe tbody tr th:only-of-type {\n",
       "        vertical-align: middle;\n",
       "    }\n",
       "\n",
       "    .dataframe tbody tr th {\n",
       "        vertical-align: top;\n",
       "    }\n",
       "\n",
       "    .dataframe thead th {\n",
       "        text-align: right;\n",
       "    }\n",
       "</style>\n",
       "<table border=\"1\" class=\"dataframe\">\n",
       "  <thead>\n",
       "    <tr style=\"text-align: right;\">\n",
       "      <th></th>\n",
       "      <th>granted_number_of_nights</th>\n",
       "      <th>animal_presence</th>\n",
       "      <th>group_composition_label</th>\n",
       "      <th>housing_situation_label</th>\n",
       "      <th>long_term_housing_request</th>\n",
       "      <th>requester_type</th>\n",
       "      <th>victim_of_violence_type</th>\n",
       "      <th>pregnancy</th>\n",
       "      <th>region</th>\n",
       "      <th>childcare_center_supervision</th>\n",
       "      <th>...</th>\n",
       "      <th>hs_public hospital</th>\n",
       "      <th>hs_refused to answer</th>\n",
       "      <th>hs_religious place (church, mosque, synogogue)</th>\n",
       "      <th>hs_shelters</th>\n",
       "      <th>hs_stabilisation structure</th>\n",
       "      <th>hs_street</th>\n",
       "      <th>lts_req_f</th>\n",
       "      <th>lts_req_t</th>\n",
       "      <th>rt_third party</th>\n",
       "      <th>rt_user</th>\n",
       "    </tr>\n",
       "  </thead>\n",
       "  <tbody>\n",
       "    <tr>\n",
       "      <th>0</th>\n",
       "      <td>1</td>\n",
       "      <td>f</td>\n",
       "      <td>man alone</td>\n",
       "      <td>street</td>\n",
       "      <td>NaN</td>\n",
       "      <td>third party</td>\n",
       "      <td>f</td>\n",
       "      <td>f</td>\n",
       "      <td>Provence-Alpes-Côte d'Azur</td>\n",
       "      <td>f</td>\n",
       "      <td>...</td>\n",
       "      <td>0</td>\n",
       "      <td>0</td>\n",
       "      <td>0</td>\n",
       "      <td>0</td>\n",
       "      <td>0</td>\n",
       "      <td>1</td>\n",
       "      <td>0</td>\n",
       "      <td>0</td>\n",
       "      <td>1</td>\n",
       "      <td>0</td>\n",
       "    </tr>\n",
       "    <tr>\n",
       "      <th>1</th>\n",
       "      <td>1</td>\n",
       "      <td>f</td>\n",
       "      <td>man alone</td>\n",
       "      <td>street</td>\n",
       "      <td>NaN</td>\n",
       "      <td>user</td>\n",
       "      <td>f</td>\n",
       "      <td>f</td>\n",
       "      <td>Provence-Alpes-Côte d'Azur</td>\n",
       "      <td>f</td>\n",
       "      <td>...</td>\n",
       "      <td>0</td>\n",
       "      <td>0</td>\n",
       "      <td>0</td>\n",
       "      <td>0</td>\n",
       "      <td>0</td>\n",
       "      <td>1</td>\n",
       "      <td>0</td>\n",
       "      <td>0</td>\n",
       "      <td>0</td>\n",
       "      <td>1</td>\n",
       "    </tr>\n",
       "    <tr>\n",
       "      <th>2</th>\n",
       "      <td>1</td>\n",
       "      <td>f</td>\n",
       "      <td>isolated child/underage</td>\n",
       "      <td>street</td>\n",
       "      <td>NaN</td>\n",
       "      <td>user</td>\n",
       "      <td>f</td>\n",
       "      <td>f</td>\n",
       "      <td>Grand Est</td>\n",
       "      <td>f</td>\n",
       "      <td>...</td>\n",
       "      <td>0</td>\n",
       "      <td>0</td>\n",
       "      <td>0</td>\n",
       "      <td>0</td>\n",
       "      <td>0</td>\n",
       "      <td>1</td>\n",
       "      <td>0</td>\n",
       "      <td>0</td>\n",
       "      <td>0</td>\n",
       "      <td>1</td>\n",
       "    </tr>\n",
       "    <tr>\n",
       "      <th>3</th>\n",
       "      <td>2</td>\n",
       "      <td>f</td>\n",
       "      <td>woman alone</td>\n",
       "      <td>street</td>\n",
       "      <td>NaN</td>\n",
       "      <td>user</td>\n",
       "      <td>woman</td>\n",
       "      <td>f</td>\n",
       "      <td>Bretagne</td>\n",
       "      <td>f</td>\n",
       "      <td>...</td>\n",
       "      <td>0</td>\n",
       "      <td>0</td>\n",
       "      <td>0</td>\n",
       "      <td>0</td>\n",
       "      <td>0</td>\n",
       "      <td>1</td>\n",
       "      <td>0</td>\n",
       "      <td>0</td>\n",
       "      <td>0</td>\n",
       "      <td>1</td>\n",
       "    </tr>\n",
       "    <tr>\n",
       "      <th>4</th>\n",
       "      <td>2</td>\n",
       "      <td>f</td>\n",
       "      <td>group with child(ren)</td>\n",
       "      <td>hotel paid by the emergency centre</td>\n",
       "      <td>NaN</td>\n",
       "      <td>user</td>\n",
       "      <td>f</td>\n",
       "      <td>f</td>\n",
       "      <td>Île-de-France</td>\n",
       "      <td>f</td>\n",
       "      <td>...</td>\n",
       "      <td>0</td>\n",
       "      <td>0</td>\n",
       "      <td>0</td>\n",
       "      <td>0</td>\n",
       "      <td>0</td>\n",
       "      <td>0</td>\n",
       "      <td>0</td>\n",
       "      <td>0</td>\n",
       "      <td>0</td>\n",
       "      <td>1</td>\n",
       "    </tr>\n",
       "  </tbody>\n",
       "</table>\n",
       "<p>5 rows × 56 columns</p>\n",
       "</div>"
      ],
      "text/plain": [
       "   granted_number_of_nights animal_presence  group_composition_label  \\\n",
       "0                         1               f                man alone   \n",
       "1                         1               f                man alone   \n",
       "2                         1               f  isolated child/underage   \n",
       "3                         2               f              woman alone   \n",
       "4                         2               f    group with child(ren)   \n",
       "\n",
       "              housing_situation_label long_term_housing_request  \\\n",
       "0                              street                       NaN   \n",
       "1                              street                       NaN   \n",
       "2                              street                       NaN   \n",
       "3                              street                       NaN   \n",
       "4  hotel paid by the emergency centre                       NaN   \n",
       "\n",
       "  requester_type victim_of_violence_type pregnancy  \\\n",
       "0    third party                       f         f   \n",
       "1           user                       f         f   \n",
       "2           user                       f         f   \n",
       "3           user                   woman         f   \n",
       "4           user                       f         f   \n",
       "\n",
       "                       region childcare_center_supervision  ...  \\\n",
       "0  Provence-Alpes-Côte d'Azur                            f  ...   \n",
       "1  Provence-Alpes-Côte d'Azur                            f  ...   \n",
       "2                   Grand Est                            f  ...   \n",
       "3                    Bretagne                            f  ...   \n",
       "4               Île-de-France                            f  ...   \n",
       "\n",
       "   hs_public hospital  hs_refused to answer  \\\n",
       "0                   0                     0   \n",
       "1                   0                     0   \n",
       "2                   0                     0   \n",
       "3                   0                     0   \n",
       "4                   0                     0   \n",
       "\n",
       "   hs_religious place (church, mosque, synogogue) hs_shelters  \\\n",
       "0                                               0           0   \n",
       "1                                               0           0   \n",
       "2                                               0           0   \n",
       "3                                               0           0   \n",
       "4                                               0           0   \n",
       "\n",
       "   hs_stabilisation structure  hs_street lts_req_f  lts_req_t  rt_third party  \\\n",
       "0                           0          1         0          0               1   \n",
       "1                           0          1         0          0               0   \n",
       "2                           0          1         0          0               0   \n",
       "3                           0          1         0          0               0   \n",
       "4                           0          0         0          0               0   \n",
       "\n",
       "   rt_user  \n",
       "0        0  \n",
       "1        1  \n",
       "2        1  \n",
       "3        1  \n",
       "4        1  \n",
       "\n",
       "[5 rows x 56 columns]"
      ]
     },
     "execution_count": 52,
     "metadata": {},
     "output_type": "execute_result"
    }
   ],
   "source": [
    "df_train.head()"
   ]
  },
  {
   "cell_type": "code",
   "execution_count": 53,
   "metadata": {},
   "outputs": [],
   "source": [
    "df_test = pd.concat([df_test, \n",
    "          pd.get_dummies(df_test[\"requester_type\"], \n",
    "               prefix='rt', drop_first=True)], axis=1)"
   ]
  },
  {
   "cell_type": "code",
   "execution_count": 54,
   "metadata": {},
   "outputs": [
    {
     "data": {
      "text/plain": [
       "(59548, 56)"
      ]
     },
     "execution_count": 54,
     "metadata": {},
     "output_type": "execute_result"
    }
   ],
   "source": [
    "df_test.shape"
   ]
  },
  {
   "cell_type": "markdown",
   "metadata": {},
   "source": [
    "#### victim_of_violence_type"
   ]
  },
  {
   "cell_type": "code",
   "execution_count": 55,
   "metadata": {},
   "outputs": [],
   "source": [
    "df_train.loc[df_train[\"victim_of_violence_type\"] == \"f\", \n",
    "   \"victim_of_violence_type\"] = np.nan"
   ]
  },
  {
   "cell_type": "code",
   "execution_count": 56,
   "metadata": {},
   "outputs": [
    {
     "data": {
      "text/plain": [
       "7"
      ]
     },
     "execution_count": 56,
     "metadata": {},
     "output_type": "execute_result"
    }
   ],
   "source": [
    "df_train[\"victim_of_violence_type\"].nunique()"
   ]
  },
  {
   "cell_type": "code",
   "execution_count": 57,
   "metadata": {},
   "outputs": [],
   "source": [
    "df_test.loc[df_test[\"victim_of_violence_type\"] == \"f\", \n",
    "   \"victim_of_violence_type\"] = np.nan"
   ]
  },
  {
   "cell_type": "code",
   "execution_count": 58,
   "metadata": {},
   "outputs": [
    {
     "data": {
      "text/plain": [
       "7"
      ]
     },
     "execution_count": 58,
     "metadata": {},
     "output_type": "execute_result"
    }
   ],
   "source": [
    "df_test[\"victim_of_violence_type\"].nunique()"
   ]
  },
  {
   "cell_type": "code",
   "execution_count": 59,
   "metadata": {},
   "outputs": [
    {
     "data": {
      "text/html": [
       "<div>\n",
       "<style scoped>\n",
       "    .dataframe tbody tr th:only-of-type {\n",
       "        vertical-align: middle;\n",
       "    }\n",
       "\n",
       "    .dataframe tbody tr th {\n",
       "        vertical-align: top;\n",
       "    }\n",
       "\n",
       "    .dataframe thead th {\n",
       "        text-align: right;\n",
       "    }\n",
       "</style>\n",
       "<table border=\"1\" class=\"dataframe\">\n",
       "  <thead>\n",
       "    <tr style=\"text-align: right;\">\n",
       "      <th></th>\n",
       "      <th>vvt_child</th>\n",
       "      <th>vvt_family</th>\n",
       "      <th>vvt_man</th>\n",
       "      <th>vvt_man victim of domestic violence</th>\n",
       "      <th>vvt_unknown</th>\n",
       "      <th>vvt_woman</th>\n",
       "      <th>vvt_woman victim of domestic violence</th>\n",
       "    </tr>\n",
       "  </thead>\n",
       "  <tbody>\n",
       "    <tr>\n",
       "      <th>0</th>\n",
       "      <td>0</td>\n",
       "      <td>0</td>\n",
       "      <td>0</td>\n",
       "      <td>0</td>\n",
       "      <td>0</td>\n",
       "      <td>0</td>\n",
       "      <td>0</td>\n",
       "    </tr>\n",
       "    <tr>\n",
       "      <th>1</th>\n",
       "      <td>0</td>\n",
       "      <td>0</td>\n",
       "      <td>0</td>\n",
       "      <td>0</td>\n",
       "      <td>0</td>\n",
       "      <td>0</td>\n",
       "      <td>0</td>\n",
       "    </tr>\n",
       "    <tr>\n",
       "      <th>2</th>\n",
       "      <td>0</td>\n",
       "      <td>0</td>\n",
       "      <td>0</td>\n",
       "      <td>0</td>\n",
       "      <td>0</td>\n",
       "      <td>0</td>\n",
       "      <td>0</td>\n",
       "    </tr>\n",
       "    <tr>\n",
       "      <th>3</th>\n",
       "      <td>0</td>\n",
       "      <td>0</td>\n",
       "      <td>0</td>\n",
       "      <td>0</td>\n",
       "      <td>0</td>\n",
       "      <td>1</td>\n",
       "      <td>0</td>\n",
       "    </tr>\n",
       "    <tr>\n",
       "      <th>4</th>\n",
       "      <td>0</td>\n",
       "      <td>0</td>\n",
       "      <td>0</td>\n",
       "      <td>0</td>\n",
       "      <td>0</td>\n",
       "      <td>0</td>\n",
       "      <td>0</td>\n",
       "    </tr>\n",
       "    <tr>\n",
       "      <th>...</th>\n",
       "      <td>...</td>\n",
       "      <td>...</td>\n",
       "      <td>...</td>\n",
       "      <td>...</td>\n",
       "      <td>...</td>\n",
       "      <td>...</td>\n",
       "      <td>...</td>\n",
       "    </tr>\n",
       "    <tr>\n",
       "      <th>238186</th>\n",
       "      <td>0</td>\n",
       "      <td>0</td>\n",
       "      <td>0</td>\n",
       "      <td>0</td>\n",
       "      <td>0</td>\n",
       "      <td>0</td>\n",
       "      <td>0</td>\n",
       "    </tr>\n",
       "    <tr>\n",
       "      <th>238187</th>\n",
       "      <td>0</td>\n",
       "      <td>0</td>\n",
       "      <td>0</td>\n",
       "      <td>0</td>\n",
       "      <td>0</td>\n",
       "      <td>0</td>\n",
       "      <td>0</td>\n",
       "    </tr>\n",
       "    <tr>\n",
       "      <th>238188</th>\n",
       "      <td>0</td>\n",
       "      <td>0</td>\n",
       "      <td>0</td>\n",
       "      <td>0</td>\n",
       "      <td>0</td>\n",
       "      <td>0</td>\n",
       "      <td>0</td>\n",
       "    </tr>\n",
       "    <tr>\n",
       "      <th>238189</th>\n",
       "      <td>0</td>\n",
       "      <td>0</td>\n",
       "      <td>0</td>\n",
       "      <td>0</td>\n",
       "      <td>0</td>\n",
       "      <td>0</td>\n",
       "      <td>0</td>\n",
       "    </tr>\n",
       "    <tr>\n",
       "      <th>238190</th>\n",
       "      <td>0</td>\n",
       "      <td>0</td>\n",
       "      <td>0</td>\n",
       "      <td>0</td>\n",
       "      <td>0</td>\n",
       "      <td>0</td>\n",
       "      <td>0</td>\n",
       "    </tr>\n",
       "  </tbody>\n",
       "</table>\n",
       "<p>238191 rows × 7 columns</p>\n",
       "</div>"
      ],
      "text/plain": [
       "        vvt_child  vvt_family  vvt_man  vvt_man victim of domestic violence  \\\n",
       "0               0           0        0                                    0   \n",
       "1               0           0        0                                    0   \n",
       "2               0           0        0                                    0   \n",
       "3               0           0        0                                    0   \n",
       "4               0           0        0                                    0   \n",
       "...           ...         ...      ...                                  ...   \n",
       "238186          0           0        0                                    0   \n",
       "238187          0           0        0                                    0   \n",
       "238188          0           0        0                                    0   \n",
       "238189          0           0        0                                    0   \n",
       "238190          0           0        0                                    0   \n",
       "\n",
       "        vvt_unknown  vvt_woman  vvt_woman victim of domestic violence  \n",
       "0                 0          0                                      0  \n",
       "1                 0          0                                      0  \n",
       "2                 0          0                                      0  \n",
       "3                 0          1                                      0  \n",
       "4                 0          0                                      0  \n",
       "...             ...        ...                                    ...  \n",
       "238186            0          0                                      0  \n",
       "238187            0          0                                      0  \n",
       "238188            0          0                                      0  \n",
       "238189            0          0                                      0  \n",
       "238190            0          0                                      0  \n",
       "\n",
       "[238191 rows x 7 columns]"
      ]
     },
     "execution_count": 59,
     "metadata": {},
     "output_type": "execute_result"
    }
   ],
   "source": [
    "df_add = pd.get_dummies(df_train[\"victim_of_violence_type\"], \n",
    "               prefix='vvt')\n",
    "df_add"
   ]
  },
  {
   "cell_type": "code",
   "execution_count": 60,
   "metadata": {},
   "outputs": [],
   "source": [
    "list_feat = list_feat +  df_add.columns.tolist()"
   ]
  },
  {
   "cell_type": "code",
   "execution_count": 61,
   "metadata": {},
   "outputs": [],
   "source": [
    "df_tmp = pd.concat([df_train, df_add], axis=1)"
   ]
  },
  {
   "cell_type": "code",
   "execution_count": 62,
   "metadata": {},
   "outputs": [
    {
     "data": {
      "text/plain": [
       "(238191, 56)"
      ]
     },
     "execution_count": 62,
     "metadata": {},
     "output_type": "execute_result"
    }
   ],
   "source": [
    "df_train.shape"
   ]
  },
  {
   "cell_type": "code",
   "execution_count": 63,
   "metadata": {},
   "outputs": [
    {
     "data": {
      "text/plain": [
       "(238191, 63)"
      ]
     },
     "execution_count": 63,
     "metadata": {},
     "output_type": "execute_result"
    }
   ],
   "source": [
    "df_tmp.shape"
   ]
  },
  {
   "cell_type": "code",
   "execution_count": 64,
   "metadata": {},
   "outputs": [],
   "source": [
    "df_train = df_tmp.copy()"
   ]
  },
  {
   "cell_type": "code",
   "execution_count": 65,
   "metadata": {},
   "outputs": [],
   "source": [
    "df_test = pd.concat([df_test, \n",
    "          pd.get_dummies(df_test[\"victim_of_violence_type\"], \n",
    "               prefix='vvt')], axis=1)"
   ]
  },
  {
   "cell_type": "code",
   "execution_count": 66,
   "metadata": {},
   "outputs": [
    {
     "data": {
      "text/plain": [
       "(59548, 63)"
      ]
     },
     "execution_count": 66,
     "metadata": {},
     "output_type": "execute_result"
    }
   ],
   "source": [
    "df_test.shape"
   ]
  },
  {
   "cell_type": "markdown",
   "metadata": {},
   "source": [
    "#### pregnancy"
   ]
  },
  {
   "cell_type": "code",
   "execution_count": 67,
   "metadata": {},
   "outputs": [],
   "source": [
    "df_train['pregnancy_bol'] = \\\n",
    "    df_train['pregnancy'].apply(fun_str_to_bol)\n",
    "df_test['pregnancy_bol'] = \\\n",
    "    df_test['pregnancy'].apply(fun_str_to_bol)\n",
    "\n",
    "list_feat.append('pregnancy_bol')"
   ]
  },
  {
   "cell_type": "code",
   "execution_count": 68,
   "metadata": {},
   "outputs": [
    {
     "data": {
      "text/plain": [
       "(238191, 64)"
      ]
     },
     "execution_count": 68,
     "metadata": {},
     "output_type": "execute_result"
    }
   ],
   "source": [
    "df_train.shape"
   ]
  },
  {
   "cell_type": "code",
   "execution_count": 69,
   "metadata": {},
   "outputs": [
    {
     "data": {
      "text/plain": [
       "(59548, 64)"
      ]
     },
     "execution_count": 69,
     "metadata": {},
     "output_type": "execute_result"
    }
   ],
   "source": [
    "df_test.shape"
   ]
  },
  {
   "cell_type": "markdown",
   "metadata": {},
   "source": [
    "#### region : one hot encoding"
   ]
  },
  {
   "cell_type": "code",
   "execution_count": 70,
   "metadata": {},
   "outputs": [],
   "source": [
    "df_train.loc[df_train[\"region\"] == \"unknown\", \"region\"] = np.nan"
   ]
  },
  {
   "cell_type": "code",
   "execution_count": 71,
   "metadata": {},
   "outputs": [],
   "source": [
    "df_test.loc[df_test[\"region\"] == \"unknown\", \"region\"] = np.nan"
   ]
  },
  {
   "cell_type": "code",
   "execution_count": 72,
   "metadata": {},
   "outputs": [
    {
     "data": {
      "text/plain": [
       "16"
      ]
     },
     "execution_count": 72,
     "metadata": {},
     "output_type": "execute_result"
    }
   ],
   "source": [
    "df_train[\"region\"].nunique()"
   ]
  },
  {
   "cell_type": "code",
   "execution_count": 73,
   "metadata": {},
   "outputs": [
    {
     "data": {
      "text/plain": [
       "14"
      ]
     },
     "execution_count": 73,
     "metadata": {},
     "output_type": "execute_result"
    }
   ],
   "source": [
    "df_test[\"region\"].nunique()"
   ]
  },
  {
   "cell_type": "code",
   "execution_count": 74,
   "metadata": {},
   "outputs": [
    {
     "data": {
      "text/html": [
       "<div>\n",
       "<style scoped>\n",
       "    .dataframe tbody tr th:only-of-type {\n",
       "        vertical-align: middle;\n",
       "    }\n",
       "\n",
       "    .dataframe tbody tr th {\n",
       "        vertical-align: top;\n",
       "    }\n",
       "\n",
       "    .dataframe thead th {\n",
       "        text-align: right;\n",
       "    }\n",
       "</style>\n",
       "<table border=\"1\" class=\"dataframe\">\n",
       "  <thead>\n",
       "    <tr style=\"text-align: right;\">\n",
       "      <th></th>\n",
       "      <th>reg_Auvergne-Rhône-Alpes</th>\n",
       "      <th>reg_Bourgogne-Franche-Comté</th>\n",
       "      <th>reg_Bretagne</th>\n",
       "      <th>reg_Centre-Val de Loire</th>\n",
       "      <th>reg_Corse</th>\n",
       "      <th>reg_Grand Est</th>\n",
       "      <th>reg_Guadeloupe</th>\n",
       "      <th>reg_Guyane</th>\n",
       "      <th>reg_Hauts-de-France</th>\n",
       "      <th>reg_Martinique</th>\n",
       "      <th>reg_Normandie</th>\n",
       "      <th>reg_Nouvelle-Aquitaine</th>\n",
       "      <th>reg_Occitanie</th>\n",
       "      <th>reg_Pays de la Loire</th>\n",
       "      <th>reg_Provence-Alpes-Côte d'Azur</th>\n",
       "      <th>reg_Île-de-France</th>\n",
       "    </tr>\n",
       "  </thead>\n",
       "  <tbody>\n",
       "    <tr>\n",
       "      <th>0</th>\n",
       "      <td>0</td>\n",
       "      <td>0</td>\n",
       "      <td>0</td>\n",
       "      <td>0</td>\n",
       "      <td>0</td>\n",
       "      <td>0</td>\n",
       "      <td>0</td>\n",
       "      <td>0</td>\n",
       "      <td>0</td>\n",
       "      <td>0</td>\n",
       "      <td>0</td>\n",
       "      <td>0</td>\n",
       "      <td>0</td>\n",
       "      <td>0</td>\n",
       "      <td>1</td>\n",
       "      <td>0</td>\n",
       "    </tr>\n",
       "    <tr>\n",
       "      <th>1</th>\n",
       "      <td>0</td>\n",
       "      <td>0</td>\n",
       "      <td>0</td>\n",
       "      <td>0</td>\n",
       "      <td>0</td>\n",
       "      <td>0</td>\n",
       "      <td>0</td>\n",
       "      <td>0</td>\n",
       "      <td>0</td>\n",
       "      <td>0</td>\n",
       "      <td>0</td>\n",
       "      <td>0</td>\n",
       "      <td>0</td>\n",
       "      <td>0</td>\n",
       "      <td>1</td>\n",
       "      <td>0</td>\n",
       "    </tr>\n",
       "    <tr>\n",
       "      <th>2</th>\n",
       "      <td>0</td>\n",
       "      <td>0</td>\n",
       "      <td>0</td>\n",
       "      <td>0</td>\n",
       "      <td>0</td>\n",
       "      <td>1</td>\n",
       "      <td>0</td>\n",
       "      <td>0</td>\n",
       "      <td>0</td>\n",
       "      <td>0</td>\n",
       "      <td>0</td>\n",
       "      <td>0</td>\n",
       "      <td>0</td>\n",
       "      <td>0</td>\n",
       "      <td>0</td>\n",
       "      <td>0</td>\n",
       "    </tr>\n",
       "    <tr>\n",
       "      <th>3</th>\n",
       "      <td>0</td>\n",
       "      <td>0</td>\n",
       "      <td>1</td>\n",
       "      <td>0</td>\n",
       "      <td>0</td>\n",
       "      <td>0</td>\n",
       "      <td>0</td>\n",
       "      <td>0</td>\n",
       "      <td>0</td>\n",
       "      <td>0</td>\n",
       "      <td>0</td>\n",
       "      <td>0</td>\n",
       "      <td>0</td>\n",
       "      <td>0</td>\n",
       "      <td>0</td>\n",
       "      <td>0</td>\n",
       "    </tr>\n",
       "    <tr>\n",
       "      <th>4</th>\n",
       "      <td>0</td>\n",
       "      <td>0</td>\n",
       "      <td>0</td>\n",
       "      <td>0</td>\n",
       "      <td>0</td>\n",
       "      <td>0</td>\n",
       "      <td>0</td>\n",
       "      <td>0</td>\n",
       "      <td>0</td>\n",
       "      <td>0</td>\n",
       "      <td>0</td>\n",
       "      <td>0</td>\n",
       "      <td>0</td>\n",
       "      <td>0</td>\n",
       "      <td>0</td>\n",
       "      <td>1</td>\n",
       "    </tr>\n",
       "    <tr>\n",
       "      <th>...</th>\n",
       "      <td>...</td>\n",
       "      <td>...</td>\n",
       "      <td>...</td>\n",
       "      <td>...</td>\n",
       "      <td>...</td>\n",
       "      <td>...</td>\n",
       "      <td>...</td>\n",
       "      <td>...</td>\n",
       "      <td>...</td>\n",
       "      <td>...</td>\n",
       "      <td>...</td>\n",
       "      <td>...</td>\n",
       "      <td>...</td>\n",
       "      <td>...</td>\n",
       "      <td>...</td>\n",
       "      <td>...</td>\n",
       "    </tr>\n",
       "    <tr>\n",
       "      <th>238186</th>\n",
       "      <td>0</td>\n",
       "      <td>0</td>\n",
       "      <td>0</td>\n",
       "      <td>0</td>\n",
       "      <td>0</td>\n",
       "      <td>0</td>\n",
       "      <td>0</td>\n",
       "      <td>0</td>\n",
       "      <td>0</td>\n",
       "      <td>0</td>\n",
       "      <td>0</td>\n",
       "      <td>0</td>\n",
       "      <td>0</td>\n",
       "      <td>1</td>\n",
       "      <td>0</td>\n",
       "      <td>0</td>\n",
       "    </tr>\n",
       "    <tr>\n",
       "      <th>238187</th>\n",
       "      <td>0</td>\n",
       "      <td>0</td>\n",
       "      <td>0</td>\n",
       "      <td>1</td>\n",
       "      <td>0</td>\n",
       "      <td>0</td>\n",
       "      <td>0</td>\n",
       "      <td>0</td>\n",
       "      <td>0</td>\n",
       "      <td>0</td>\n",
       "      <td>0</td>\n",
       "      <td>0</td>\n",
       "      <td>0</td>\n",
       "      <td>0</td>\n",
       "      <td>0</td>\n",
       "      <td>0</td>\n",
       "    </tr>\n",
       "    <tr>\n",
       "      <th>238188</th>\n",
       "      <td>0</td>\n",
       "      <td>0</td>\n",
       "      <td>0</td>\n",
       "      <td>0</td>\n",
       "      <td>0</td>\n",
       "      <td>0</td>\n",
       "      <td>0</td>\n",
       "      <td>0</td>\n",
       "      <td>0</td>\n",
       "      <td>0</td>\n",
       "      <td>0</td>\n",
       "      <td>0</td>\n",
       "      <td>0</td>\n",
       "      <td>0</td>\n",
       "      <td>0</td>\n",
       "      <td>1</td>\n",
       "    </tr>\n",
       "    <tr>\n",
       "      <th>238189</th>\n",
       "      <td>0</td>\n",
       "      <td>1</td>\n",
       "      <td>0</td>\n",
       "      <td>0</td>\n",
       "      <td>0</td>\n",
       "      <td>0</td>\n",
       "      <td>0</td>\n",
       "      <td>0</td>\n",
       "      <td>0</td>\n",
       "      <td>0</td>\n",
       "      <td>0</td>\n",
       "      <td>0</td>\n",
       "      <td>0</td>\n",
       "      <td>0</td>\n",
       "      <td>0</td>\n",
       "      <td>0</td>\n",
       "    </tr>\n",
       "    <tr>\n",
       "      <th>238190</th>\n",
       "      <td>0</td>\n",
       "      <td>0</td>\n",
       "      <td>0</td>\n",
       "      <td>0</td>\n",
       "      <td>0</td>\n",
       "      <td>0</td>\n",
       "      <td>0</td>\n",
       "      <td>0</td>\n",
       "      <td>0</td>\n",
       "      <td>0</td>\n",
       "      <td>0</td>\n",
       "      <td>0</td>\n",
       "      <td>1</td>\n",
       "      <td>0</td>\n",
       "      <td>0</td>\n",
       "      <td>0</td>\n",
       "    </tr>\n",
       "  </tbody>\n",
       "</table>\n",
       "<p>238191 rows × 16 columns</p>\n",
       "</div>"
      ],
      "text/plain": [
       "        reg_Auvergne-Rhône-Alpes  reg_Bourgogne-Franche-Comté  reg_Bretagne  \\\n",
       "0                              0                            0             0   \n",
       "1                              0                            0             0   \n",
       "2                              0                            0             0   \n",
       "3                              0                            0             1   \n",
       "4                              0                            0             0   \n",
       "...                          ...                          ...           ...   \n",
       "238186                         0                            0             0   \n",
       "238187                         0                            0             0   \n",
       "238188                         0                            0             0   \n",
       "238189                         0                            1             0   \n",
       "238190                         0                            0             0   \n",
       "\n",
       "        reg_Centre-Val de Loire  reg_Corse  reg_Grand Est  reg_Guadeloupe  \\\n",
       "0                             0          0              0               0   \n",
       "1                             0          0              0               0   \n",
       "2                             0          0              1               0   \n",
       "3                             0          0              0               0   \n",
       "4                             0          0              0               0   \n",
       "...                         ...        ...            ...             ...   \n",
       "238186                        0          0              0               0   \n",
       "238187                        1          0              0               0   \n",
       "238188                        0          0              0               0   \n",
       "238189                        0          0              0               0   \n",
       "238190                        0          0              0               0   \n",
       "\n",
       "        reg_Guyane  reg_Hauts-de-France  reg_Martinique  reg_Normandie  \\\n",
       "0                0                    0               0              0   \n",
       "1                0                    0               0              0   \n",
       "2                0                    0               0              0   \n",
       "3                0                    0               0              0   \n",
       "4                0                    0               0              0   \n",
       "...            ...                  ...             ...            ...   \n",
       "238186           0                    0               0              0   \n",
       "238187           0                    0               0              0   \n",
       "238188           0                    0               0              0   \n",
       "238189           0                    0               0              0   \n",
       "238190           0                    0               0              0   \n",
       "\n",
       "        reg_Nouvelle-Aquitaine  reg_Occitanie  reg_Pays de la Loire  \\\n",
       "0                            0              0                     0   \n",
       "1                            0              0                     0   \n",
       "2                            0              0                     0   \n",
       "3                            0              0                     0   \n",
       "4                            0              0                     0   \n",
       "...                        ...            ...                   ...   \n",
       "238186                       0              0                     1   \n",
       "238187                       0              0                     0   \n",
       "238188                       0              0                     0   \n",
       "238189                       0              0                     0   \n",
       "238190                       0              1                     0   \n",
       "\n",
       "        reg_Provence-Alpes-Côte d'Azur  reg_Île-de-France  \n",
       "0                                    1                  0  \n",
       "1                                    1                  0  \n",
       "2                                    0                  0  \n",
       "3                                    0                  0  \n",
       "4                                    0                  1  \n",
       "...                                ...                ...  \n",
       "238186                               0                  0  \n",
       "238187                               0                  0  \n",
       "238188                               0                  1  \n",
       "238189                               0                  0  \n",
       "238190                               0                  0  \n",
       "\n",
       "[238191 rows x 16 columns]"
      ]
     },
     "execution_count": 74,
     "metadata": {},
     "output_type": "execute_result"
    }
   ],
   "source": [
    "df_add = pd.get_dummies(df_train[\"region\"], \n",
    "               prefix='reg')\n",
    "df_add"
   ]
  },
  {
   "cell_type": "code",
   "execution_count": 75,
   "metadata": {},
   "outputs": [],
   "source": [
    "list_region = df_add.columns.tolist()\n",
    "list_feat = list_feat +  list_region"
   ]
  },
  {
   "cell_type": "code",
   "execution_count": 76,
   "metadata": {},
   "outputs": [],
   "source": [
    "df_tmp = pd.concat([df_train, df_add], axis=1)"
   ]
  },
  {
   "cell_type": "code",
   "execution_count": 77,
   "metadata": {},
   "outputs": [
    {
     "data": {
      "text/plain": [
       "(238191, 64)"
      ]
     },
     "execution_count": 77,
     "metadata": {},
     "output_type": "execute_result"
    }
   ],
   "source": [
    "df_train.shape"
   ]
  },
  {
   "cell_type": "code",
   "execution_count": 78,
   "metadata": {},
   "outputs": [
    {
     "data": {
      "text/plain": [
       "(238191, 80)"
      ]
     },
     "execution_count": 78,
     "metadata": {},
     "output_type": "execute_result"
    }
   ],
   "source": [
    "df_tmp.shape"
   ]
  },
  {
   "cell_type": "code",
   "execution_count": 79,
   "metadata": {},
   "outputs": [],
   "source": [
    "df_train = df_tmp.copy()"
   ]
  },
  {
   "cell_type": "markdown",
   "metadata": {},
   "source": [
    "For test : we have to give 16 regions"
   ]
  },
  {
   "cell_type": "code",
   "execution_count": 80,
   "metadata": {},
   "outputs": [
    {
     "data": {
      "text/plain": [
       "[\"Provence-Alpes-Côte d'Azur\",\n",
       " 'Grand Est',\n",
       " 'Bretagne',\n",
       " 'Île-de-France',\n",
       " 'Pays de la Loire',\n",
       " 'Auvergne-Rhône-Alpes',\n",
       " 'Hauts-de-France',\n",
       " 'Normandie',\n",
       " 'Nouvelle-Aquitaine',\n",
       " 'Bourgogne-Franche-Comté',\n",
       " 'Occitanie',\n",
       " 'Centre-Val de Loire',\n",
       " 'Guyane',\n",
       " 'Martinique',\n",
       " 'Guadeloupe',\n",
       " 'Corse']"
      ]
     },
     "execution_count": 80,
     "metadata": {},
     "output_type": "execute_result"
    }
   ],
   "source": [
    "list_reg = df_train[\"region\"].unique().tolist()\n",
    "list_reg = [elem for elem in list_reg if elem is not np.nan]\n",
    "list_reg"
   ]
  },
  {
   "cell_type": "code",
   "execution_count": 81,
   "metadata": {},
   "outputs": [
    {
     "data": {
      "text/plain": [
       "16"
      ]
     },
     "execution_count": 81,
     "metadata": {},
     "output_type": "execute_result"
    }
   ],
   "source": [
    "len(list_reg)"
   ]
  },
  {
   "cell_type": "code",
   "execution_count": 82,
   "metadata": {},
   "outputs": [],
   "source": [
    "df_tmp = df_test.copy()\n",
    "\n",
    "df_tmp[\"region\"] = pd.Categorical(df_tmp[\"region\"],\n",
    "                                    categories=list_reg)\n",
    "df_add = pd.get_dummies(df_tmp[\"region\"], prefix='reg')"
   ]
  },
  {
   "cell_type": "code",
   "execution_count": 83,
   "metadata": {},
   "outputs": [
    {
     "data": {
      "text/html": [
       "<div>\n",
       "<style scoped>\n",
       "    .dataframe tbody tr th:only-of-type {\n",
       "        vertical-align: middle;\n",
       "    }\n",
       "\n",
       "    .dataframe tbody tr th {\n",
       "        vertical-align: top;\n",
       "    }\n",
       "\n",
       "    .dataframe thead th {\n",
       "        text-align: right;\n",
       "    }\n",
       "</style>\n",
       "<table border=\"1\" class=\"dataframe\">\n",
       "  <thead>\n",
       "    <tr style=\"text-align: right;\">\n",
       "      <th></th>\n",
       "      <th>reg_Provence-Alpes-Côte d'Azur</th>\n",
       "      <th>reg_Grand Est</th>\n",
       "      <th>reg_Bretagne</th>\n",
       "      <th>reg_Île-de-France</th>\n",
       "      <th>reg_Pays de la Loire</th>\n",
       "      <th>reg_Auvergne-Rhône-Alpes</th>\n",
       "      <th>reg_Hauts-de-France</th>\n",
       "      <th>reg_Normandie</th>\n",
       "      <th>reg_Nouvelle-Aquitaine</th>\n",
       "      <th>reg_Bourgogne-Franche-Comté</th>\n",
       "      <th>reg_Occitanie</th>\n",
       "      <th>reg_Centre-Val de Loire</th>\n",
       "      <th>reg_Guyane</th>\n",
       "      <th>reg_Martinique</th>\n",
       "      <th>reg_Guadeloupe</th>\n",
       "      <th>reg_Corse</th>\n",
       "    </tr>\n",
       "  </thead>\n",
       "  <tbody>\n",
       "    <tr>\n",
       "      <th>0</th>\n",
       "      <td>0</td>\n",
       "      <td>0</td>\n",
       "      <td>0</td>\n",
       "      <td>0</td>\n",
       "      <td>0</td>\n",
       "      <td>0</td>\n",
       "      <td>1</td>\n",
       "      <td>0</td>\n",
       "      <td>0</td>\n",
       "      <td>0</td>\n",
       "      <td>0</td>\n",
       "      <td>0</td>\n",
       "      <td>0</td>\n",
       "      <td>0</td>\n",
       "      <td>0</td>\n",
       "      <td>0</td>\n",
       "    </tr>\n",
       "    <tr>\n",
       "      <th>1</th>\n",
       "      <td>0</td>\n",
       "      <td>0</td>\n",
       "      <td>0</td>\n",
       "      <td>0</td>\n",
       "      <td>0</td>\n",
       "      <td>1</td>\n",
       "      <td>0</td>\n",
       "      <td>0</td>\n",
       "      <td>0</td>\n",
       "      <td>0</td>\n",
       "      <td>0</td>\n",
       "      <td>0</td>\n",
       "      <td>0</td>\n",
       "      <td>0</td>\n",
       "      <td>0</td>\n",
       "      <td>0</td>\n",
       "    </tr>\n",
       "    <tr>\n",
       "      <th>2</th>\n",
       "      <td>0</td>\n",
       "      <td>0</td>\n",
       "      <td>0</td>\n",
       "      <td>0</td>\n",
       "      <td>0</td>\n",
       "      <td>0</td>\n",
       "      <td>0</td>\n",
       "      <td>0</td>\n",
       "      <td>0</td>\n",
       "      <td>0</td>\n",
       "      <td>1</td>\n",
       "      <td>0</td>\n",
       "      <td>0</td>\n",
       "      <td>0</td>\n",
       "      <td>0</td>\n",
       "      <td>0</td>\n",
       "    </tr>\n",
       "    <tr>\n",
       "      <th>3</th>\n",
       "      <td>0</td>\n",
       "      <td>0</td>\n",
       "      <td>0</td>\n",
       "      <td>1</td>\n",
       "      <td>0</td>\n",
       "      <td>0</td>\n",
       "      <td>0</td>\n",
       "      <td>0</td>\n",
       "      <td>0</td>\n",
       "      <td>0</td>\n",
       "      <td>0</td>\n",
       "      <td>0</td>\n",
       "      <td>0</td>\n",
       "      <td>0</td>\n",
       "      <td>0</td>\n",
       "      <td>0</td>\n",
       "    </tr>\n",
       "    <tr>\n",
       "      <th>4</th>\n",
       "      <td>1</td>\n",
       "      <td>0</td>\n",
       "      <td>0</td>\n",
       "      <td>0</td>\n",
       "      <td>0</td>\n",
       "      <td>0</td>\n",
       "      <td>0</td>\n",
       "      <td>0</td>\n",
       "      <td>0</td>\n",
       "      <td>0</td>\n",
       "      <td>0</td>\n",
       "      <td>0</td>\n",
       "      <td>0</td>\n",
       "      <td>0</td>\n",
       "      <td>0</td>\n",
       "      <td>0</td>\n",
       "    </tr>\n",
       "    <tr>\n",
       "      <th>...</th>\n",
       "      <td>...</td>\n",
       "      <td>...</td>\n",
       "      <td>...</td>\n",
       "      <td>...</td>\n",
       "      <td>...</td>\n",
       "      <td>...</td>\n",
       "      <td>...</td>\n",
       "      <td>...</td>\n",
       "      <td>...</td>\n",
       "      <td>...</td>\n",
       "      <td>...</td>\n",
       "      <td>...</td>\n",
       "      <td>...</td>\n",
       "      <td>...</td>\n",
       "      <td>...</td>\n",
       "      <td>...</td>\n",
       "    </tr>\n",
       "    <tr>\n",
       "      <th>59543</th>\n",
       "      <td>0</td>\n",
       "      <td>0</td>\n",
       "      <td>0</td>\n",
       "      <td>0</td>\n",
       "      <td>0</td>\n",
       "      <td>0</td>\n",
       "      <td>0</td>\n",
       "      <td>0</td>\n",
       "      <td>1</td>\n",
       "      <td>0</td>\n",
       "      <td>0</td>\n",
       "      <td>0</td>\n",
       "      <td>0</td>\n",
       "      <td>0</td>\n",
       "      <td>0</td>\n",
       "      <td>0</td>\n",
       "    </tr>\n",
       "    <tr>\n",
       "      <th>59544</th>\n",
       "      <td>0</td>\n",
       "      <td>0</td>\n",
       "      <td>0</td>\n",
       "      <td>0</td>\n",
       "      <td>1</td>\n",
       "      <td>0</td>\n",
       "      <td>0</td>\n",
       "      <td>0</td>\n",
       "      <td>0</td>\n",
       "      <td>0</td>\n",
       "      <td>0</td>\n",
       "      <td>0</td>\n",
       "      <td>0</td>\n",
       "      <td>0</td>\n",
       "      <td>0</td>\n",
       "      <td>0</td>\n",
       "    </tr>\n",
       "    <tr>\n",
       "      <th>59545</th>\n",
       "      <td>0</td>\n",
       "      <td>0</td>\n",
       "      <td>0</td>\n",
       "      <td>1</td>\n",
       "      <td>0</td>\n",
       "      <td>0</td>\n",
       "      <td>0</td>\n",
       "      <td>0</td>\n",
       "      <td>0</td>\n",
       "      <td>0</td>\n",
       "      <td>0</td>\n",
       "      <td>0</td>\n",
       "      <td>0</td>\n",
       "      <td>0</td>\n",
       "      <td>0</td>\n",
       "      <td>0</td>\n",
       "    </tr>\n",
       "    <tr>\n",
       "      <th>59546</th>\n",
       "      <td>0</td>\n",
       "      <td>0</td>\n",
       "      <td>0</td>\n",
       "      <td>1</td>\n",
       "      <td>0</td>\n",
       "      <td>0</td>\n",
       "      <td>0</td>\n",
       "      <td>0</td>\n",
       "      <td>0</td>\n",
       "      <td>0</td>\n",
       "      <td>0</td>\n",
       "      <td>0</td>\n",
       "      <td>0</td>\n",
       "      <td>0</td>\n",
       "      <td>0</td>\n",
       "      <td>0</td>\n",
       "    </tr>\n",
       "    <tr>\n",
       "      <th>59547</th>\n",
       "      <td>0</td>\n",
       "      <td>0</td>\n",
       "      <td>0</td>\n",
       "      <td>0</td>\n",
       "      <td>0</td>\n",
       "      <td>0</td>\n",
       "      <td>0</td>\n",
       "      <td>0</td>\n",
       "      <td>0</td>\n",
       "      <td>0</td>\n",
       "      <td>1</td>\n",
       "      <td>0</td>\n",
       "      <td>0</td>\n",
       "      <td>0</td>\n",
       "      <td>0</td>\n",
       "      <td>0</td>\n",
       "    </tr>\n",
       "  </tbody>\n",
       "</table>\n",
       "<p>59548 rows × 16 columns</p>\n",
       "</div>"
      ],
      "text/plain": [
       "       reg_Provence-Alpes-Côte d'Azur  reg_Grand Est  reg_Bretagne  \\\n",
       "0                                   0              0             0   \n",
       "1                                   0              0             0   \n",
       "2                                   0              0             0   \n",
       "3                                   0              0             0   \n",
       "4                                   1              0             0   \n",
       "...                               ...            ...           ...   \n",
       "59543                               0              0             0   \n",
       "59544                               0              0             0   \n",
       "59545                               0              0             0   \n",
       "59546                               0              0             0   \n",
       "59547                               0              0             0   \n",
       "\n",
       "       reg_Île-de-France  reg_Pays de la Loire  reg_Auvergne-Rhône-Alpes  \\\n",
       "0                      0                     0                         0   \n",
       "1                      0                     0                         1   \n",
       "2                      0                     0                         0   \n",
       "3                      1                     0                         0   \n",
       "4                      0                     0                         0   \n",
       "...                  ...                   ...                       ...   \n",
       "59543                  0                     0                         0   \n",
       "59544                  0                     1                         0   \n",
       "59545                  1                     0                         0   \n",
       "59546                  1                     0                         0   \n",
       "59547                  0                     0                         0   \n",
       "\n",
       "       reg_Hauts-de-France  reg_Normandie  reg_Nouvelle-Aquitaine  \\\n",
       "0                        1              0                       0   \n",
       "1                        0              0                       0   \n",
       "2                        0              0                       0   \n",
       "3                        0              0                       0   \n",
       "4                        0              0                       0   \n",
       "...                    ...            ...                     ...   \n",
       "59543                    0              0                       1   \n",
       "59544                    0              0                       0   \n",
       "59545                    0              0                       0   \n",
       "59546                    0              0                       0   \n",
       "59547                    0              0                       0   \n",
       "\n",
       "       reg_Bourgogne-Franche-Comté  reg_Occitanie  reg_Centre-Val de Loire  \\\n",
       "0                                0              0                        0   \n",
       "1                                0              0                        0   \n",
       "2                                0              1                        0   \n",
       "3                                0              0                        0   \n",
       "4                                0              0                        0   \n",
       "...                            ...            ...                      ...   \n",
       "59543                            0              0                        0   \n",
       "59544                            0              0                        0   \n",
       "59545                            0              0                        0   \n",
       "59546                            0              0                        0   \n",
       "59547                            0              1                        0   \n",
       "\n",
       "       reg_Guyane  reg_Martinique  reg_Guadeloupe  reg_Corse  \n",
       "0               0               0               0          0  \n",
       "1               0               0               0          0  \n",
       "2               0               0               0          0  \n",
       "3               0               0               0          0  \n",
       "4               0               0               0          0  \n",
       "...           ...             ...             ...        ...  \n",
       "59543           0               0               0          0  \n",
       "59544           0               0               0          0  \n",
       "59545           0               0               0          0  \n",
       "59546           0               0               0          0  \n",
       "59547           0               0               0          0  \n",
       "\n",
       "[59548 rows x 16 columns]"
      ]
     },
     "execution_count": 83,
     "metadata": {},
     "output_type": "execute_result"
    }
   ],
   "source": [
    "df_add"
   ]
  },
  {
   "cell_type": "code",
   "execution_count": 84,
   "metadata": {},
   "outputs": [
    {
     "data": {
      "text/plain": [
       "(59548, 16)"
      ]
     },
     "execution_count": 84,
     "metadata": {},
     "output_type": "execute_result"
    }
   ],
   "source": [
    "df_add.shape"
   ]
  },
  {
   "cell_type": "code",
   "execution_count": 85,
   "metadata": {},
   "outputs": [],
   "source": [
    "df_tmp = pd.concat([df_test, df_add], axis=1)"
   ]
  },
  {
   "cell_type": "code",
   "execution_count": 86,
   "metadata": {},
   "outputs": [
    {
     "data": {
      "text/plain": [
       "(59548, 64)"
      ]
     },
     "execution_count": 86,
     "metadata": {},
     "output_type": "execute_result"
    }
   ],
   "source": [
    "df_test.shape"
   ]
  },
  {
   "cell_type": "code",
   "execution_count": 87,
   "metadata": {},
   "outputs": [
    {
     "data": {
      "text/plain": [
       "(59548, 80)"
      ]
     },
     "execution_count": 87,
     "metadata": {},
     "output_type": "execute_result"
    }
   ],
   "source": [
    "df_tmp.shape"
   ]
  },
  {
   "cell_type": "code",
   "execution_count": 88,
   "metadata": {},
   "outputs": [],
   "source": [
    "df_test = df_tmp.copy()"
   ]
  },
  {
   "cell_type": "markdown",
   "metadata": {},
   "source": [
    "#### childcare_center_supervision"
   ]
  },
  {
   "cell_type": "code",
   "execution_count": 89,
   "metadata": {},
   "outputs": [],
   "source": [
    "df_train['childcare_center_supervision_bol'] = \\\n",
    "    df_train['childcare_center_supervision'].apply(fun_str_to_bol)\n",
    "df_test['childcare_center_supervision_bol'] = \\\n",
    "    df_test['childcare_center_supervision'].apply(fun_str_to_bol)\n",
    "\n",
    "list_feat.append('childcare_center_supervision_bol')"
   ]
  },
  {
   "cell_type": "code",
   "execution_count": 90,
   "metadata": {},
   "outputs": [
    {
     "data": {
      "text/plain": [
       "(238191, 81)"
      ]
     },
     "execution_count": 90,
     "metadata": {},
     "output_type": "execute_result"
    }
   ],
   "source": [
    "df_train.shape"
   ]
  },
  {
   "cell_type": "code",
   "execution_count": 91,
   "metadata": {},
   "outputs": [
    {
     "data": {
      "text/plain": [
       "(59548, 81)"
      ]
     },
     "execution_count": 91,
     "metadata": {},
     "output_type": "execute_result"
    }
   ],
   "source": [
    "df_test.shape"
   ]
  },
  {
   "cell_type": "markdown",
   "metadata": {},
   "source": [
    "#### disabled_worker_certification"
   ]
  },
  {
   "cell_type": "code",
   "execution_count": 92,
   "metadata": {},
   "outputs": [],
   "source": [
    "df_train['disabled_worker_certification_bol'] = \\\n",
    "    df_train['disabled_worker_certification'].apply(fun_str_to_bol)\n",
    "df_test['disabled_worker_certification_bol'] = \\\n",
    "    df_test['disabled_worker_certification'].apply(fun_str_to_bol)\n",
    "\n",
    "list_feat.append('disabled_worker_certification_bol')"
   ]
  },
  {
   "cell_type": "code",
   "execution_count": 93,
   "metadata": {},
   "outputs": [
    {
     "data": {
      "text/plain": [
       "(238191, 82)"
      ]
     },
     "execution_count": 93,
     "metadata": {},
     "output_type": "execute_result"
    }
   ],
   "source": [
    "df_train.shape"
   ]
  },
  {
   "cell_type": "code",
   "execution_count": 94,
   "metadata": {},
   "outputs": [
    {
     "data": {
      "text/plain": [
       "(59548, 82)"
      ]
     },
     "execution_count": 94,
     "metadata": {},
     "output_type": "execute_result"
    }
   ],
   "source": [
    "df_test.shape"
   ]
  },
  {
   "cell_type": "markdown",
   "metadata": {},
   "source": [
    "#### married"
   ]
  },
  {
   "cell_type": "code",
   "execution_count": 95,
   "metadata": {},
   "outputs": [],
   "source": [
    "df_train['married_bol'] = \\\n",
    "    df_train['married'].apply(fun_str_to_bol)\n",
    "df_test['married_bol'] = \\\n",
    "    df_test['married'].apply(fun_str_to_bol)\n",
    "\n",
    "list_feat.append('married_bol')"
   ]
  },
  {
   "cell_type": "code",
   "execution_count": 96,
   "metadata": {},
   "outputs": [
    {
     "data": {
      "text/plain": [
       "(238191, 83)"
      ]
     },
     "execution_count": 96,
     "metadata": {},
     "output_type": "execute_result"
    }
   ],
   "source": [
    "df_train.shape"
   ]
  },
  {
   "cell_type": "code",
   "execution_count": 97,
   "metadata": {},
   "outputs": [
    {
     "data": {
      "text/plain": [
       "(59548, 83)"
      ]
     },
     "execution_count": 97,
     "metadata": {},
     "output_type": "execute_result"
    }
   ],
   "source": [
    "df_test.shape"
   ]
  },
  {
   "cell_type": "code",
   "execution_count": 98,
   "metadata": {},
   "outputs": [
    {
     "data": {
      "text/plain": [
       "['nb_underage_red',\n",
       " 'age_min',\n",
       " 'age_max',\n",
       " 'nb_female',\n",
       " 'nb_male',\n",
       " 'request_creation_day_num',\n",
       " 'request_creation_month',\n",
       " 'child_situation_red',\n",
       " 'animal_presence_bol',\n",
       " 'gcl_child/underage with family',\n",
       " 'gcl_couple with child(ren)',\n",
       " 'gcl_couple without whildren',\n",
       " 'gcl_group of adults',\n",
       " 'gcl_group with child(ren)',\n",
       " 'gcl_isolated child/underage',\n",
       " 'gcl_man alone',\n",
       " 'gcl_single father with child(ren)',\n",
       " 'gcl_single mother with child(ren)',\n",
       " 'gcl_woman alone',\n",
       " 'gcl_women victim of violence',\n",
       " 'hs_detoxification center',\n",
       " 'hs_emergency structure',\n",
       " 'hs_hotel paid by an association',\n",
       " 'hs_hotel paid by the emergency centre',\n",
       " 'hs_hotel paid by the household',\n",
       " 'hs_hotel paid by the regional administration',\n",
       " 'hs_inclusion structure',\n",
       " 'hs_mobile or makeshift shelter',\n",
       " 'hs_other',\n",
       " 'hs_parental home',\n",
       " 'hs_personal or marital home',\n",
       " 'hs_police station',\n",
       " 'hs_prison',\n",
       " 'hs_psychiatric hospital',\n",
       " 'hs_public hospital',\n",
       " 'hs_refused to answer',\n",
       " 'hs_religious place (church, mosque, synogogue)',\n",
       " 'hs_shelters',\n",
       " 'hs_stabilisation structure',\n",
       " 'hs_street',\n",
       " 'lts_req_f',\n",
       " 'lts_req_t',\n",
       " 'rt_third party',\n",
       " 'rt_user',\n",
       " 'vvt_child',\n",
       " 'vvt_family',\n",
       " 'vvt_man',\n",
       " 'vvt_man victim of domestic violence',\n",
       " 'vvt_unknown',\n",
       " 'vvt_woman',\n",
       " 'vvt_woman victim of domestic violence',\n",
       " 'pregnancy_bol',\n",
       " 'reg_Auvergne-Rhône-Alpes',\n",
       " 'reg_Bourgogne-Franche-Comté',\n",
       " 'reg_Bretagne',\n",
       " 'reg_Centre-Val de Loire',\n",
       " 'reg_Corse',\n",
       " 'reg_Grand Est',\n",
       " 'reg_Guadeloupe',\n",
       " 'reg_Guyane',\n",
       " 'reg_Hauts-de-France',\n",
       " 'reg_Martinique',\n",
       " 'reg_Normandie',\n",
       " 'reg_Nouvelle-Aquitaine',\n",
       " 'reg_Occitanie',\n",
       " 'reg_Pays de la Loire',\n",
       " \"reg_Provence-Alpes-Côte d'Azur\",\n",
       " 'reg_Île-de-France',\n",
       " 'childcare_center_supervision_bol',\n",
       " 'disabled_worker_certification_bol',\n",
       " 'married_bol']"
      ]
     },
     "execution_count": 98,
     "metadata": {},
     "output_type": "execute_result"
    }
   ],
   "source": [
    "list_feat"
   ]
  },
  {
   "cell_type": "code",
   "execution_count": 99,
   "metadata": {},
   "outputs": [
    {
     "data": {
      "text/plain": [
       "71"
      ]
     },
     "execution_count": 99,
     "metadata": {},
     "output_type": "execute_result"
    }
   ],
   "source": [
    "len(list_feat)"
   ]
  },
  {
   "cell_type": "code",
   "execution_count": 100,
   "metadata": {},
   "outputs": [
    {
     "data": {
      "text/plain": [
       "['granted_number_of_nights',\n",
       " 'animal_presence',\n",
       " 'group_composition_label',\n",
       " 'housing_situation_label',\n",
       " 'long_term_housing_request',\n",
       " 'requester_type',\n",
       " 'victim_of_violence_type',\n",
       " 'pregnancy',\n",
       " 'region',\n",
       " 'childcare_center_supervision',\n",
       " 'nb_underage_red',\n",
       " 'age_min',\n",
       " 'age_max',\n",
       " 'disabled_worker_certification',\n",
       " 'nb_female',\n",
       " 'nb_male',\n",
       " 'married',\n",
       " 'request_creation_day_num',\n",
       " 'request_creation_month',\n",
       " 'child_situation_red',\n",
       " 'animal_presence_bol',\n",
       " 'gcl_child/underage with family',\n",
       " 'gcl_couple with child(ren)',\n",
       " 'gcl_couple without whildren',\n",
       " 'gcl_group of adults',\n",
       " 'gcl_group with child(ren)',\n",
       " 'gcl_isolated child/underage',\n",
       " 'gcl_man alone',\n",
       " 'gcl_single father with child(ren)',\n",
       " 'gcl_single mother with child(ren)',\n",
       " 'gcl_woman alone',\n",
       " 'gcl_women victim of violence',\n",
       " 'hs_detoxification center',\n",
       " 'hs_emergency structure',\n",
       " 'hs_hotel paid by an association',\n",
       " 'hs_hotel paid by the emergency centre',\n",
       " 'hs_hotel paid by the household',\n",
       " 'hs_hotel paid by the regional administration',\n",
       " 'hs_inclusion structure',\n",
       " 'hs_mobile or makeshift shelter',\n",
       " 'hs_other',\n",
       " 'hs_parental home',\n",
       " 'hs_personal or marital home',\n",
       " 'hs_police station',\n",
       " 'hs_prison',\n",
       " 'hs_psychiatric hospital',\n",
       " 'hs_public hospital',\n",
       " 'hs_refused to answer',\n",
       " 'hs_religious place (church, mosque, synogogue)',\n",
       " 'hs_shelters',\n",
       " 'hs_stabilisation structure',\n",
       " 'hs_street',\n",
       " 'lts_req_f',\n",
       " 'lts_req_t',\n",
       " 'rt_third party',\n",
       " 'rt_user',\n",
       " 'vvt_child',\n",
       " 'vvt_family',\n",
       " 'vvt_man',\n",
       " 'vvt_man victim of domestic violence',\n",
       " 'vvt_unknown',\n",
       " 'vvt_woman',\n",
       " 'vvt_woman victim of domestic violence',\n",
       " 'pregnancy_bol',\n",
       " \"reg_Provence-Alpes-Côte d'Azur\",\n",
       " 'reg_Grand Est',\n",
       " 'reg_Bretagne',\n",
       " 'reg_Île-de-France',\n",
       " 'reg_Pays de la Loire',\n",
       " 'reg_Auvergne-Rhône-Alpes',\n",
       " 'reg_Hauts-de-France',\n",
       " 'reg_Normandie',\n",
       " 'reg_Nouvelle-Aquitaine',\n",
       " 'reg_Bourgogne-Franche-Comté',\n",
       " 'reg_Occitanie',\n",
       " 'reg_Centre-Val de Loire',\n",
       " 'reg_Guyane',\n",
       " 'reg_Martinique',\n",
       " 'reg_Guadeloupe',\n",
       " 'reg_Corse',\n",
       " 'childcare_center_supervision_bol',\n",
       " 'disabled_worker_certification_bol',\n",
       " 'married_bol']"
      ]
     },
     "execution_count": 100,
     "metadata": {},
     "output_type": "execute_result"
    }
   ],
   "source": [
    "df_test.columns.tolist()"
   ]
  },
  {
   "cell_type": "code",
   "execution_count": 101,
   "metadata": {},
   "outputs": [
    {
     "data": {
      "text/plain": [
       "['granted_number_of_nights',\n",
       " 'animal_presence',\n",
       " 'group_composition_label',\n",
       " 'housing_situation_label',\n",
       " 'long_term_housing_request',\n",
       " 'requester_type',\n",
       " 'victim_of_violence_type',\n",
       " 'pregnancy',\n",
       " 'region',\n",
       " 'childcare_center_supervision',\n",
       " 'nb_underage_red',\n",
       " 'age_min',\n",
       " 'age_max',\n",
       " 'disabled_worker_certification',\n",
       " 'nb_female',\n",
       " 'nb_male',\n",
       " 'married',\n",
       " 'request_creation_day_num',\n",
       " 'request_creation_month',\n",
       " 'child_situation_red',\n",
       " 'animal_presence_bol',\n",
       " 'gcl_child/underage with family',\n",
       " 'gcl_couple with child(ren)',\n",
       " 'gcl_couple without whildren',\n",
       " 'gcl_group of adults',\n",
       " 'gcl_group with child(ren)',\n",
       " 'gcl_isolated child/underage',\n",
       " 'gcl_man alone',\n",
       " 'gcl_single father with child(ren)',\n",
       " 'gcl_single mother with child(ren)',\n",
       " 'gcl_woman alone',\n",
       " 'gcl_women victim of violence',\n",
       " 'hs_detoxification center',\n",
       " 'hs_emergency structure',\n",
       " 'hs_hotel paid by an association',\n",
       " 'hs_hotel paid by the emergency centre',\n",
       " 'hs_hotel paid by the household',\n",
       " 'hs_hotel paid by the regional administration',\n",
       " 'hs_inclusion structure',\n",
       " 'hs_mobile or makeshift shelter',\n",
       " 'hs_other',\n",
       " 'hs_parental home',\n",
       " 'hs_personal or marital home',\n",
       " 'hs_police station',\n",
       " 'hs_prison',\n",
       " 'hs_psychiatric hospital',\n",
       " 'hs_public hospital',\n",
       " 'hs_refused to answer',\n",
       " 'hs_religious place (church, mosque, synogogue)',\n",
       " 'hs_shelters',\n",
       " 'hs_stabilisation structure',\n",
       " 'hs_street',\n",
       " 'lts_req_f',\n",
       " 'lts_req_t',\n",
       " 'rt_third party',\n",
       " 'rt_user',\n",
       " 'vvt_child',\n",
       " 'vvt_family',\n",
       " 'vvt_man',\n",
       " 'vvt_man victim of domestic violence',\n",
       " 'vvt_unknown',\n",
       " 'vvt_woman',\n",
       " 'vvt_woman victim of domestic violence',\n",
       " 'pregnancy_bol',\n",
       " 'reg_Auvergne-Rhône-Alpes',\n",
       " 'reg_Bourgogne-Franche-Comté',\n",
       " 'reg_Bretagne',\n",
       " 'reg_Centre-Val de Loire',\n",
       " 'reg_Corse',\n",
       " 'reg_Grand Est',\n",
       " 'reg_Guadeloupe',\n",
       " 'reg_Guyane',\n",
       " 'reg_Hauts-de-France',\n",
       " 'reg_Martinique',\n",
       " 'reg_Normandie',\n",
       " 'reg_Nouvelle-Aquitaine',\n",
       " 'reg_Occitanie',\n",
       " 'reg_Pays de la Loire',\n",
       " \"reg_Provence-Alpes-Côte d'Azur\",\n",
       " 'reg_Île-de-France',\n",
       " 'childcare_center_supervision_bol',\n",
       " 'disabled_worker_certification_bol',\n",
       " 'married_bol']"
      ]
     },
     "execution_count": 101,
     "metadata": {},
     "output_type": "execute_result"
    }
   ],
   "source": [
    "df_train.columns.tolist()"
   ]
  },
  {
   "cell_type": "code",
   "execution_count": 102,
   "metadata": {},
   "outputs": [
    {
     "data": {
      "text/plain": [
       "(238191, 83)"
      ]
     },
     "execution_count": 102,
     "metadata": {},
     "output_type": "execute_result"
    }
   ],
   "source": [
    "df_train.shape"
   ]
  },
  {
   "cell_type": "code",
   "execution_count": 103,
   "metadata": {},
   "outputs": [
    {
     "data": {
      "text/plain": [
       "(59548, 83)"
      ]
     },
     "execution_count": 103,
     "metadata": {},
     "output_type": "execute_result"
    }
   ],
   "source": [
    "df_test.shape"
   ]
  },
  {
   "cell_type": "markdown",
   "metadata": {},
   "source": [
    "#### Save"
   ]
  },
  {
   "cell_type": "code",
   "execution_count": null,
   "metadata": {},
   "outputs": [],
   "source": [
    "# open output file for writing\n",
    "with open(PATH_FS1_LIST, 'w') as filehandle:\n",
    "    json.dump(list_feat, filehandle)"
   ]
  },
  {
   "cell_type": "code",
   "execution_count": 104,
   "metadata": {},
   "outputs": [],
   "source": [
    "df_train.to_csv(path_or_buf=PATH_FS1_TRAIN, index=False)"
   ]
  },
  {
   "cell_type": "code",
   "execution_count": 105,
   "metadata": {},
   "outputs": [],
   "source": [
    "df_test.to_csv(path_or_buf=PATH_FS1_TEST, index=False)"
   ]
  },
  {
   "cell_type": "markdown",
   "metadata": {},
   "source": [
    "## Models"
   ]
  },
  {
   "cell_type": "markdown",
   "metadata": {},
   "source": [
    "### class weight"
   ]
  },
  {
   "cell_type": "code",
   "execution_count": 519,
   "metadata": {},
   "outputs": [],
   "source": [
    "class_weight = {0: 10**0,\n",
    "               1: 10**1,\n",
    "               2: 10**2,\n",
    "               3: 10**3}"
   ]
  },
  {
   "cell_type": "markdown",
   "metadata": {},
   "source": [
    "### Split for cross validation"
   ]
  },
  {
   "cell_type": "markdown",
   "metadata": {},
   "source": [
    "We choose only 3 to accelerate calculation (but 5 could be better)\n",
    "\n",
    "For cross validation, we choose 30% for Test and a Stratified Split to have same proportions of classes in each splits"
   ]
  },
  {
   "cell_type": "code",
   "execution_count": 520,
   "metadata": {},
   "outputs": [],
   "source": [
    "# Split parameters\n",
    "n_splits = 3\n",
    "test_size = 0.3\n",
    "\n",
    "# preparation des splits : choix de splits aléatoires de meme taille\n",
    "cv = model_selection.StratifiedShuffleSplit(n_splits=n_splits, \n",
    "                                                 test_size=test_size, \n",
    "                                                 random_state=0)"
   ]
  },
  {
   "cell_type": "markdown",
   "metadata": {},
   "source": [
    "### Baseline : random prediction"
   ]
  },
  {
   "cell_type": "code",
   "execution_count": 194,
   "metadata": {},
   "outputs": [
    {
     "name": "stdout",
     "output_type": "stream",
     "text": [
      "test score: 1.6592860021415257\n"
     ]
    }
   ],
   "source": [
    "random_preds = np.random.uniform(size=(requests_test.shape[0], 4))\n",
    "random_score = competition_scorer(y_test, random_preds)\n",
    "print(f'test score: {random_score}')"
   ]
  },
  {
   "cell_type": "code",
   "execution_count": 195,
   "metadata": {},
   "outputs": [
    {
     "data": {
      "text/plain": [
       "0.25"
      ]
     },
     "execution_count": 195,
     "metadata": {},
     "output_type": "execute_result"
    }
   ],
   "source": [
    "y_test_pred_rp = np.argmax(random_preds, axis=1)\n",
    "accuracy_score(y_test, y_test_pred_rp)"
   ]
  },
  {
   "cell_type": "markdown",
   "metadata": {},
   "source": [
    "=> OK : mean accuracy is 25% "
   ]
  },
  {
   "cell_type": "code",
   "execution_count": 198,
   "metadata": {},
   "outputs": [
    {
     "data": {
      "text/plain": [
       "1.6592860021415257"
      ]
     },
     "execution_count": 198,
     "metadata": {},
     "output_type": "execute_result"
    }
   ],
   "source": [
    "competition_scorer(y_test, random_preds)"
   ]
  },
  {
   "cell_type": "markdown",
   "metadata": {},
   "source": [
    "=> Scores of next models must be < 1."
   ]
  },
  {
   "cell_type": "markdown",
   "metadata": {},
   "source": [
    "### FS1"
   ]
  },
  {
   "cell_type": "markdown",
   "metadata": {},
   "source": []
  },
  {
   "cell_type": "markdown",
   "metadata": {},
   "source": [
    "#### Features preparation"
   ]
  },
  {
   "cell_type": "code",
   "execution_count": 111,
   "metadata": {},
   "outputs": [],
   "source": [
    "X_train = df_train.filter(items=list_feat).values"
   ]
  },
  {
   "cell_type": "code",
   "execution_count": 112,
   "metadata": {},
   "outputs": [
    {
     "data": {
      "text/plain": [
       "(238191, 71)"
      ]
     },
     "execution_count": 112,
     "metadata": {},
     "output_type": "execute_result"
    }
   ],
   "source": [
    "X_train.shape"
   ]
  },
  {
   "cell_type": "code",
   "execution_count": 113,
   "metadata": {},
   "outputs": [],
   "source": [
    "X_test = df_test.filter(items=list_feat).values"
   ]
  },
  {
   "cell_type": "code",
   "execution_count": 114,
   "metadata": {},
   "outputs": [
    {
     "data": {
      "text/plain": [
       "(59548, 71)"
      ]
     },
     "execution_count": 114,
     "metadata": {},
     "output_type": "execute_result"
    }
   ],
   "source": [
    "X_test.shape"
   ]
  },
  {
   "cell_type": "code",
   "execution_count": 115,
   "metadata": {},
   "outputs": [],
   "source": [
    "std_scale = preprocessing.StandardScaler().fit(X_train)\n",
    "X_train_n = std_scale.transform(X_train)\n",
    "X_test_n = std_scale.transform(X_test)"
   ]
  },
  {
   "cell_type": "code",
   "execution_count": 334,
   "metadata": {},
   "outputs": [],
   "source": [
    "y_train = df_train[\"granted_number_of_nights\"].values\n",
    "y_test = df_test[\"granted_number_of_nights\"].values"
   ]
  },
  {
   "cell_type": "markdown",
   "metadata": {},
   "source": [
    "#### Ramdon Forest"
   ]
  },
  {
   "cell_type": "code",
   "execution_count": 517,
   "metadata": {},
   "outputs": [
    {
     "name": "stdout",
     "output_type": "stream",
     "text": [
      "RandomForestClassifier(bootstrap=True, ccp_alpha=0.0,\n",
      "                       class_weight={0: 1, 1: 10, 2: 100, 3: 1000},\n",
      "                       criterion='gini', max_depth=25, max_features=8,\n",
      "                       max_leaf_nodes=None, max_samples=None,\n",
      "                       min_impurity_decrease=0.0, min_impurity_split=None,\n",
      "                       min_samples_leaf=1, min_samples_split=200,\n",
      "                       min_weight_fraction_leaf=0.0, n_estimators=80, n_jobs=-1,\n",
      "                       oob_score=False, random_state=0, verbose=0,\n",
      "                       warm_start=False)\n",
      "timing total: 23.03262996673584 s\n"
     ]
    }
   ],
   "source": [
    "rfc_fs1 = RandomForestClassifier(n_estimators=100, \n",
    "                                 max_features=8,\n",
    "                                 max_depth=25,\n",
    "                                 min_samples_split=200,\n",
    "                                 random_state=0, \n",
    "                                 n_jobs=-1,\n",
    "                                 class_weight=class_weight)\n",
    "# fitting\n",
    "t_0 = time.time()\n",
    "rfc_fs1.fit(X_train_n, y_train)\n",
    "t_1 = time.time()\n",
    "print(rfc_fs1)\n",
    "print(\"timing total: {} s\".format(t_1-t_0))"
   ]
  },
  {
   "cell_type": "code",
   "execution_count": 518,
   "metadata": {},
   "outputs": [
    {
     "name": "stdout",
     "output_type": "stream",
     "text": [
      "Train acc :  0.2706735351041811\n",
      "Test acc :  0.2625277087391684\n",
      "Test score : 0.8043992080105995\n"
     ]
    }
   ],
   "source": [
    "print(\"Train acc : \", \n",
    "      rfc_fs1.score(X_train_n, y_train))\n",
    "print(\"Test acc : \",\n",
    "      rfc_fs1.score(X_test_n, y_test))\n",
    "\n",
    "prob_Y_test = rfc_fs1.predict_proba(X_test_n)\n",
    "rfc_fs1_score = competition_scorer(y_test, prob_Y_test)\n",
    "print(f'Test score : {rfc_fs1_score}')"
   ]
  },
  {
   "cell_type": "code",
   "execution_count": 505,
   "metadata": {},
   "outputs": [
    {
     "data": {
      "text/plain": [
       "1.9496487726456178"
      ]
     },
     "execution_count": 505,
     "metadata": {},
     "output_type": "execute_result"
    }
   ],
   "source": [
    "log_loss(y_test, prob_Y_test)"
   ]
  },
  {
   "cell_type": "code",
   "execution_count": 506,
   "metadata": {},
   "outputs": [
    {
     "data": {
      "text/plain": [
       "0.26382078323369385"
      ]
     },
     "execution_count": 506,
     "metadata": {},
     "output_type": "execute_result"
    }
   ],
   "source": [
    "y_test_pred = rfc_fs1.predict(X_test_n)\n",
    "df_test[\"y_test_pred_rfc_fs1\"] = y_test_pred\n",
    "accuracy_score(y_test, y_test_pred)"
   ]
  },
  {
   "cell_type": "code",
   "execution_count": 507,
   "metadata": {},
   "outputs": [],
   "source": [
    "df_test[\"ok_pred_rfc_fs1\"] = df_test[\"y_test_pred_rfc_fs1\"] \\\n",
    "    == df_test[\"granted_number_of_nights\"]"
   ]
  },
  {
   "cell_type": "code",
   "execution_count": 508,
   "metadata": {},
   "outputs": [
    {
     "data": {
      "text/html": [
       "<div>\n",
       "<style scoped>\n",
       "    .dataframe tbody tr th:only-of-type {\n",
       "        vertical-align: middle;\n",
       "    }\n",
       "\n",
       "    .dataframe tbody tr th {\n",
       "        vertical-align: top;\n",
       "    }\n",
       "\n",
       "    .dataframe thead tr th {\n",
       "        text-align: left;\n",
       "    }\n",
       "\n",
       "    .dataframe thead tr:last-of-type th {\n",
       "        text-align: right;\n",
       "    }\n",
       "</style>\n",
       "<table border=\"1\" class=\"dataframe\">\n",
       "  <thead>\n",
       "    <tr>\n",
       "      <th></th>\n",
       "      <th>count</th>\n",
       "      <th>mean</th>\n",
       "    </tr>\n",
       "    <tr>\n",
       "      <th></th>\n",
       "      <th>ok_pred_rfc_fs1</th>\n",
       "      <th>ok_pred_rfc_fs1</th>\n",
       "    </tr>\n",
       "    <tr>\n",
       "      <th>granted_number_of_nights</th>\n",
       "      <th></th>\n",
       "      <th></th>\n",
       "    </tr>\n",
       "  </thead>\n",
       "  <tbody>\n",
       "    <tr>\n",
       "      <th>0</th>\n",
       "      <td>29201</td>\n",
       "      <td>0.022739</td>\n",
       "    </tr>\n",
       "    <tr>\n",
       "      <th>1</th>\n",
       "      <td>20478</td>\n",
       "      <td>0.325960</td>\n",
       "    </tr>\n",
       "    <tr>\n",
       "      <th>2</th>\n",
       "      <td>9245</td>\n",
       "      <td>0.874310</td>\n",
       "    </tr>\n",
       "    <tr>\n",
       "      <th>3</th>\n",
       "      <td>624</td>\n",
       "      <td>0.461538</td>\n",
       "    </tr>\n",
       "  </tbody>\n",
       "</table>\n",
       "</div>"
      ],
      "text/plain": [
       "                                   count            mean\n",
       "                         ok_pred_rfc_fs1 ok_pred_rfc_fs1\n",
       "granted_number_of_nights                                \n",
       "0                                  29201        0.022739\n",
       "1                                  20478        0.325960\n",
       "2                                   9245        0.874310\n",
       "3                                    624        0.461538"
      ]
     },
     "execution_count": 508,
     "metadata": {},
     "output_type": "execute_result"
    }
   ],
   "source": [
    "#def fun_mean_ok(serie_in, nb_samples):\n",
    "\n",
    "pt_count_rfc_fs1 = pd.pivot_table(df_test, \n",
    "                              values=['ok_pred_rfc_fs1'], \n",
    "               index=['granted_number_of_nights'], aggfunc=[\"count\",\"mean\"])\n",
    "pt_count_rfc_fs1"
   ]
  },
  {
   "cell_type": "code",
   "execution_count": 605,
   "metadata": {
    "scrolled": false
   },
   "outputs": [
    {
     "data": {
      "image/png": "[encoded data removed]",
      "text/plain": [
       "<Figure size 360x360 with 1 Axes>"
      ]
     },
     "metadata": {},
     "output_type": "display_data"
    }
   ],
   "source": [
    "g = sns.catplot(x=\"granted_number_of_nights\", y=\"ok_pred_rfc_fs1\", \n",
    "                data=df_test, saturation=.5,\n",
    "                kind=\"bar\", ci=None)\n",
    "fig = plt.gcf()\n",
    "ax = plt.gca()\n",
    "ax.set_title(\"RFC : Mean accuracy\");"
   ]
  },
  {
   "cell_type": "markdown",
   "metadata": {},
   "source": [
    "##### Cross validation"
   ]
  },
  {
   "cell_type": "code",
   "execution_count": 581,
   "metadata": {},
   "outputs": [],
   "source": [
    "rfc_fs1_cv = RandomForestClassifier(random_state=0, n_jobs=-1,\n",
    "                                    class_weight=class_weight)"
   ]
  },
  {
   "cell_type": "code",
   "execution_count": 582,
   "metadata": {},
   "outputs": [
    {
     "data": {
      "text/plain": [
       "{'n_estimators': [50, 100, 200],\n",
       " 'max_features': [8],\n",
       " 'min_samples_split': [200, 250, 500],\n",
       " 'max_depth': [25]}"
      ]
     },
     "execution_count": 582,
     "metadata": {},
     "output_type": "execute_result"
    }
   ],
   "source": [
    "max_features_ideal = int(np.sqrt(X_train_n.shape[1]))\n",
    "n_estimators_range = [50, 100, 200]\n",
    "max_depth_range = [25]\n",
    "max_features_range = [max_features_ideal]\n",
    "min_samples_split_range = [200, 250, 500]\n",
    "\n",
    "score = make_scorer(competition_scorer, greater_is_better=False, \n",
    "                   needs_proba=True)\n",
    "#score = 'accuracy'\n",
    "# grille de paramètres\n",
    "param_grid = {'n_estimators': n_estimators_range, \n",
    "              'max_features': max_features_range,\n",
    "              'min_samples_split': min_samples_split_range,\n",
    "              'max_depth': max_depth_range}\n",
    "param_grid"
   ]
  },
  {
   "cell_type": "code",
   "execution_count": 583,
   "metadata": {
    "scrolled": false
   },
   "outputs": [
    {
     "name": "stdout",
     "output_type": "stream",
     "text": [
      "timing total: 822.8940482139587 s\n",
      "Meilleur(s) hyperparamètre(s) sur le jeu d'entraînement:\n",
      "{'max_depth': 25, 'max_features': 8, 'min_samples_split': 250, 'n_estimators': 200}\n"
     ]
    }
   ],
   "source": [
    "# Cross validation for hyperparameters\n",
    "# 0.966 {'max_depth': 25, 'max_features': 8, 'min_samples_split': 5, 'n_estimators': 200}\n",
    "g_rfc_fs1_cv = model_selection.GridSearchCV(rfc_fs1_cv,\n",
    "    param_grid,  \n",
    "    cv=cv,\n",
    "    scoring=score,\n",
    "    n_jobs=-1) \n",
    "\n",
    "# Optimize\n",
    "t_0 = time.time()\n",
    "g_rfc_fs1_cv.fit(X_train_n, y_train)\n",
    "t_1 = time.time()\n",
    "print(\"timing total: {} s\".format(t_1-t_0))\n",
    "# Afficher le(s) hyperparamètre(s) optimaux\n",
    "print(\"Meilleur(s) hyperparamètre(s) sur le jeu d'entraînement:\")\n",
    "print (g_rfc_fs1_cv.best_params_)"
   ]
  },
  {
   "cell_type": "code",
   "execution_count": 584,
   "metadata": {},
   "outputs": [
    {
     "data": {
      "text/html": [
       "<div>\n",
       "<style scoped>\n",
       "    .dataframe tbody tr th:only-of-type {\n",
       "        vertical-align: middle;\n",
       "    }\n",
       "\n",
       "    .dataframe tbody tr th {\n",
       "        vertical-align: top;\n",
       "    }\n",
       "\n",
       "    .dataframe thead th {\n",
       "        text-align: right;\n",
       "    }\n",
       "</style>\n",
       "<table border=\"1\" class=\"dataframe\">\n",
       "  <thead>\n",
       "    <tr style=\"text-align: right;\">\n",
       "      <th></th>\n",
       "      <th>5</th>\n",
       "      <th>4</th>\n",
       "      <th>2</th>\n",
       "      <th>3</th>\n",
       "      <th>1</th>\n",
       "      <th>8</th>\n",
       "      <th>7</th>\n",
       "      <th>6</th>\n",
       "      <th>0</th>\n",
       "    </tr>\n",
       "  </thead>\n",
       "  <tbody>\n",
       "    <tr>\n",
       "      <th>mean_fit_time</th>\n",
       "      <td>197.126</td>\n",
       "      <td>94.3023</td>\n",
       "      <td>177.49</td>\n",
       "      <td>47.7154</td>\n",
       "      <td>90.7202</td>\n",
       "      <td>138.347</td>\n",
       "      <td>94.287</td>\n",
       "      <td>52.1498</td>\n",
       "      <td>55.6249</td>\n",
       "    </tr>\n",
       "    <tr>\n",
       "      <th>std_fit_time</th>\n",
       "      <td>1.41931</td>\n",
       "      <td>0.999062</td>\n",
       "      <td>0.7624</td>\n",
       "      <td>0.68549</td>\n",
       "      <td>4.21957</td>\n",
       "      <td>13.8074</td>\n",
       "      <td>0.664705</td>\n",
       "      <td>1.4459</td>\n",
       "      <td>0.323494</td>\n",
       "    </tr>\n",
       "    <tr>\n",
       "      <th>mean_score_time</th>\n",
       "      <td>4.32952</td>\n",
       "      <td>2.39635</td>\n",
       "      <td>4.21304</td>\n",
       "      <td>0.970786</td>\n",
       "      <td>1.90837</td>\n",
       "      <td>2.059</td>\n",
       "      <td>1.84862</td>\n",
       "      <td>0.981896</td>\n",
       "      <td>0.878904</td>\n",
       "    </tr>\n",
       "    <tr>\n",
       "      <th>std_score_time</th>\n",
       "      <td>0.315133</td>\n",
       "      <td>0.453551</td>\n",
       "      <td>0.154043</td>\n",
       "      <td>0.127353</td>\n",
       "      <td>0.113792</td>\n",
       "      <td>0.69806</td>\n",
       "      <td>0.0165561</td>\n",
       "      <td>0.0964461</td>\n",
       "      <td>0.0968959</td>\n",
       "    </tr>\n",
       "    <tr>\n",
       "      <th>param_max_depth</th>\n",
       "      <td>25</td>\n",
       "      <td>25</td>\n",
       "      <td>25</td>\n",
       "      <td>25</td>\n",
       "      <td>25</td>\n",
       "      <td>25</td>\n",
       "      <td>25</td>\n",
       "      <td>25</td>\n",
       "      <td>25</td>\n",
       "    </tr>\n",
       "    <tr>\n",
       "      <th>param_max_features</th>\n",
       "      <td>8</td>\n",
       "      <td>8</td>\n",
       "      <td>8</td>\n",
       "      <td>8</td>\n",
       "      <td>8</td>\n",
       "      <td>8</td>\n",
       "      <td>8</td>\n",
       "      <td>8</td>\n",
       "      <td>8</td>\n",
       "    </tr>\n",
       "    <tr>\n",
       "      <th>param_min_samples_split</th>\n",
       "      <td>250</td>\n",
       "      <td>250</td>\n",
       "      <td>200</td>\n",
       "      <td>250</td>\n",
       "      <td>200</td>\n",
       "      <td>500</td>\n",
       "      <td>500</td>\n",
       "      <td>500</td>\n",
       "      <td>200</td>\n",
       "    </tr>\n",
       "    <tr>\n",
       "      <th>param_n_estimators</th>\n",
       "      <td>200</td>\n",
       "      <td>100</td>\n",
       "      <td>200</td>\n",
       "      <td>50</td>\n",
       "      <td>100</td>\n",
       "      <td>200</td>\n",
       "      <td>100</td>\n",
       "      <td>50</td>\n",
       "      <td>50</td>\n",
       "    </tr>\n",
       "    <tr>\n",
       "      <th>params</th>\n",
       "      <td>{'max_depth': 25, 'max_features': 8, 'min_samp...</td>\n",
       "      <td>{'max_depth': 25, 'max_features': 8, 'min_samp...</td>\n",
       "      <td>{'max_depth': 25, 'max_features': 8, 'min_samp...</td>\n",
       "      <td>{'max_depth': 25, 'max_features': 8, 'min_samp...</td>\n",
       "      <td>{'max_depth': 25, 'max_features': 8, 'min_samp...</td>\n",
       "      <td>{'max_depth': 25, 'max_features': 8, 'min_samp...</td>\n",
       "      <td>{'max_depth': 25, 'max_features': 8, 'min_samp...</td>\n",
       "      <td>{'max_depth': 25, 'max_features': 8, 'min_samp...</td>\n",
       "      <td>{'max_depth': 25, 'max_features': 8, 'min_samp...</td>\n",
       "    </tr>\n",
       "    <tr>\n",
       "      <th>split0_test_score</th>\n",
       "      <td>-0.811574</td>\n",
       "      <td>-0.812557</td>\n",
       "      <td>-0.812893</td>\n",
       "      <td>-0.815255</td>\n",
       "      <td>-0.815135</td>\n",
       "      <td>-0.814024</td>\n",
       "      <td>-0.81555</td>\n",
       "      <td>-0.819731</td>\n",
       "      <td>-0.818696</td>\n",
       "    </tr>\n",
       "    <tr>\n",
       "      <th>split1_test_score</th>\n",
       "      <td>-0.818461</td>\n",
       "      <td>-0.820743</td>\n",
       "      <td>-0.821978</td>\n",
       "      <td>-0.821295</td>\n",
       "      <td>-0.824437</td>\n",
       "      <td>-0.823609</td>\n",
       "      <td>-0.825005</td>\n",
       "      <td>-0.824529</td>\n",
       "      <td>-0.828079</td>\n",
       "    </tr>\n",
       "    <tr>\n",
       "      <th>split2_test_score</th>\n",
       "      <td>-0.811843</td>\n",
       "      <td>-0.812144</td>\n",
       "      <td>-0.812996</td>\n",
       "      <td>-0.813362</td>\n",
       "      <td>-0.814733</td>\n",
       "      <td>-0.817246</td>\n",
       "      <td>-0.818006</td>\n",
       "      <td>-0.820089</td>\n",
       "      <td>-0.819409</td>\n",
       "    </tr>\n",
       "    <tr>\n",
       "      <th>mean_test_score</th>\n",
       "      <td>-0.81396</td>\n",
       "      <td>-0.815148</td>\n",
       "      <td>-0.815956</td>\n",
       "      <td>-0.816638</td>\n",
       "      <td>-0.818102</td>\n",
       "      <td>-0.818293</td>\n",
       "      <td>-0.81952</td>\n",
       "      <td>-0.82145</td>\n",
       "      <td>-0.822062</td>\n",
       "    </tr>\n",
       "    <tr>\n",
       "      <th>std_test_score</th>\n",
       "      <td>0.00318516</td>\n",
       "      <td>0.00395985</td>\n",
       "      <td>0.00425849</td>\n",
       "      <td>0.0033829</td>\n",
       "      <td>0.0044827</td>\n",
       "      <td>0.00398232</td>\n",
       "      <td>0.0040056</td>\n",
       "      <td>0.00218236</td>\n",
       "      <td>0.00426506</td>\n",
       "    </tr>\n",
       "    <tr>\n",
       "      <th>rank_test_score</th>\n",
       "      <td>1</td>\n",
       "      <td>2</td>\n",
       "      <td>3</td>\n",
       "      <td>4</td>\n",
       "      <td>5</td>\n",
       "      <td>6</td>\n",
       "      <td>7</td>\n",
       "      <td>8</td>\n",
       "      <td>9</td>\n",
       "    </tr>\n",
       "  </tbody>\n",
       "</table>\n",
       "</div>"
      ],
      "text/plain": [
       "                                                                         5  \\\n",
       "mean_fit_time                                                      197.126   \n",
       "std_fit_time                                                       1.41931   \n",
       "mean_score_time                                                    4.32952   \n",
       "std_score_time                                                    0.315133   \n",
       "param_max_depth                                                         25   \n",
       "param_max_features                                                       8   \n",
       "param_min_samples_split                                                250   \n",
       "param_n_estimators                                                     200   \n",
       "params                   {'max_depth': 25, 'max_features': 8, 'min_samp...   \n",
       "split0_test_score                                                -0.811574   \n",
       "split1_test_score                                                -0.818461   \n",
       "split2_test_score                                                -0.811843   \n",
       "mean_test_score                                                   -0.81396   \n",
       "std_test_score                                                  0.00318516   \n",
       "rank_test_score                                                          1   \n",
       "\n",
       "                                                                         4  \\\n",
       "mean_fit_time                                                      94.3023   \n",
       "std_fit_time                                                      0.999062   \n",
       "mean_score_time                                                    2.39635   \n",
       "std_score_time                                                    0.453551   \n",
       "param_max_depth                                                         25   \n",
       "param_max_features                                                       8   \n",
       "param_min_samples_split                                                250   \n",
       "param_n_estimators                                                     100   \n",
       "params                   {'max_depth': 25, 'max_features': 8, 'min_samp...   \n",
       "split0_test_score                                                -0.812557   \n",
       "split1_test_score                                                -0.820743   \n",
       "split2_test_score                                                -0.812144   \n",
       "mean_test_score                                                  -0.815148   \n",
       "std_test_score                                                  0.00395985   \n",
       "rank_test_score                                                          2   \n",
       "\n",
       "                                                                         2  \\\n",
       "mean_fit_time                                                       177.49   \n",
       "std_fit_time                                                        0.7624   \n",
       "mean_score_time                                                    4.21304   \n",
       "std_score_time                                                    0.154043   \n",
       "param_max_depth                                                         25   \n",
       "param_max_features                                                       8   \n",
       "param_min_samples_split                                                200   \n",
       "param_n_estimators                                                     200   \n",
       "params                   {'max_depth': 25, 'max_features': 8, 'min_samp...   \n",
       "split0_test_score                                                -0.812893   \n",
       "split1_test_score                                                -0.821978   \n",
       "split2_test_score                                                -0.812996   \n",
       "mean_test_score                                                  -0.815956   \n",
       "std_test_score                                                  0.00425849   \n",
       "rank_test_score                                                          3   \n",
       "\n",
       "                                                                         3  \\\n",
       "mean_fit_time                                                      47.7154   \n",
       "std_fit_time                                                       0.68549   \n",
       "mean_score_time                                                   0.970786   \n",
       "std_score_time                                                    0.127353   \n",
       "param_max_depth                                                         25   \n",
       "param_max_features                                                       8   \n",
       "param_min_samples_split                                                250   \n",
       "param_n_estimators                                                      50   \n",
       "params                   {'max_depth': 25, 'max_features': 8, 'min_samp...   \n",
       "split0_test_score                                                -0.815255   \n",
       "split1_test_score                                                -0.821295   \n",
       "split2_test_score                                                -0.813362   \n",
       "mean_test_score                                                  -0.816638   \n",
       "std_test_score                                                   0.0033829   \n",
       "rank_test_score                                                          4   \n",
       "\n",
       "                                                                         1  \\\n",
       "mean_fit_time                                                      90.7202   \n",
       "std_fit_time                                                       4.21957   \n",
       "mean_score_time                                                    1.90837   \n",
       "std_score_time                                                    0.113792   \n",
       "param_max_depth                                                         25   \n",
       "param_max_features                                                       8   \n",
       "param_min_samples_split                                                200   \n",
       "param_n_estimators                                                     100   \n",
       "params                   {'max_depth': 25, 'max_features': 8, 'min_samp...   \n",
       "split0_test_score                                                -0.815135   \n",
       "split1_test_score                                                -0.824437   \n",
       "split2_test_score                                                -0.814733   \n",
       "mean_test_score                                                  -0.818102   \n",
       "std_test_score                                                   0.0044827   \n",
       "rank_test_score                                                          5   \n",
       "\n",
       "                                                                         8  \\\n",
       "mean_fit_time                                                      138.347   \n",
       "std_fit_time                                                       13.8074   \n",
       "mean_score_time                                                      2.059   \n",
       "std_score_time                                                     0.69806   \n",
       "param_max_depth                                                         25   \n",
       "param_max_features                                                       8   \n",
       "param_min_samples_split                                                500   \n",
       "param_n_estimators                                                     200   \n",
       "params                   {'max_depth': 25, 'max_features': 8, 'min_samp...   \n",
       "split0_test_score                                                -0.814024   \n",
       "split1_test_score                                                -0.823609   \n",
       "split2_test_score                                                -0.817246   \n",
       "mean_test_score                                                  -0.818293   \n",
       "std_test_score                                                  0.00398232   \n",
       "rank_test_score                                                          6   \n",
       "\n",
       "                                                                         7  \\\n",
       "mean_fit_time                                                       94.287   \n",
       "std_fit_time                                                      0.664705   \n",
       "mean_score_time                                                    1.84862   \n",
       "std_score_time                                                   0.0165561   \n",
       "param_max_depth                                                         25   \n",
       "param_max_features                                                       8   \n",
       "param_min_samples_split                                                500   \n",
       "param_n_estimators                                                     100   \n",
       "params                   {'max_depth': 25, 'max_features': 8, 'min_samp...   \n",
       "split0_test_score                                                 -0.81555   \n",
       "split1_test_score                                                -0.825005   \n",
       "split2_test_score                                                -0.818006   \n",
       "mean_test_score                                                   -0.81952   \n",
       "std_test_score                                                   0.0040056   \n",
       "rank_test_score                                                          7   \n",
       "\n",
       "                                                                         6  \\\n",
       "mean_fit_time                                                      52.1498   \n",
       "std_fit_time                                                        1.4459   \n",
       "mean_score_time                                                   0.981896   \n",
       "std_score_time                                                   0.0964461   \n",
       "param_max_depth                                                         25   \n",
       "param_max_features                                                       8   \n",
       "param_min_samples_split                                                500   \n",
       "param_n_estimators                                                      50   \n",
       "params                   {'max_depth': 25, 'max_features': 8, 'min_samp...   \n",
       "split0_test_score                                                -0.819731   \n",
       "split1_test_score                                                -0.824529   \n",
       "split2_test_score                                                -0.820089   \n",
       "mean_test_score                                                   -0.82145   \n",
       "std_test_score                                                  0.00218236   \n",
       "rank_test_score                                                          8   \n",
       "\n",
       "                                                                         0  \n",
       "mean_fit_time                                                      55.6249  \n",
       "std_fit_time                                                      0.323494  \n",
       "mean_score_time                                                   0.878904  \n",
       "std_score_time                                                   0.0968959  \n",
       "param_max_depth                                                         25  \n",
       "param_max_features                                                       8  \n",
       "param_min_samples_split                                                200  \n",
       "param_n_estimators                                                      50  \n",
       "params                   {'max_depth': 25, 'max_features': 8, 'min_samp...  \n",
       "split0_test_score                                                -0.818696  \n",
       "split1_test_score                                                -0.828079  \n",
       "split2_test_score                                                -0.819409  \n",
       "mean_test_score                                                  -0.822062  \n",
       "std_test_score                                                  0.00426506  \n",
       "rank_test_score                                                          9  "
      ]
     },
     "execution_count": 584,
     "metadata": {},
     "output_type": "execute_result"
    }
   ],
   "source": [
    "df_res_rfc_fs1_cv = pd.DataFrame(data=g_rfc_fs1_cv.cv_results_)\n",
    "df_res_rfc_fs1_cv.sort_values(by=\"rank_test_score\").T"
   ]
  },
  {
   "cell_type": "code",
   "execution_count": 610,
   "metadata": {},
   "outputs": [
    {
     "name": "stdout",
     "output_type": "stream",
     "text": [
      "Train accuracy : 0.2594682418731186\n",
      "Test accuracy :  0.2519648015046685\n",
      "Test score : 0.8060991421927288\n"
     ]
    }
   ],
   "source": [
    "print(\"Train accuracy :\", \n",
    "      g_rfc_fs1_cv.best_estimator_.score(X_train_n, y_train))\n",
    "print(\"Test accuracy : \",\n",
    "      g_rfc_fs1_cv.best_estimator_.score(X_test_n, y_test))\n",
    "\n",
    "prob_Y_test = g_rfc_fs1_cv.best_estimator_.predict_proba(X_test_n)\n",
    "test_score = competition_scorer(y_test, prob_Y_test)\n",
    "print(f'Test score : {test_score}')"
   ]
  },
  {
   "cell_type": "code",
   "execution_count": 586,
   "metadata": {},
   "outputs": [
    {
     "data": {
      "text/plain": [
       "1.9825570064586473"
      ]
     },
     "execution_count": 586,
     "metadata": {},
     "output_type": "execute_result"
    }
   ],
   "source": [
    "log_loss(y_test, prob_Y_test)"
   ]
  },
  {
   "cell_type": "code",
   "execution_count": 587,
   "metadata": {},
   "outputs": [
    {
     "data": {
      "text/html": [
       "<div>\n",
       "<style scoped>\n",
       "    .dataframe tbody tr th:only-of-type {\n",
       "        vertical-align: middle;\n",
       "    }\n",
       "\n",
       "    .dataframe tbody tr th {\n",
       "        vertical-align: top;\n",
       "    }\n",
       "\n",
       "    .dataframe thead tr th {\n",
       "        text-align: left;\n",
       "    }\n",
       "\n",
       "    .dataframe thead tr:last-of-type th {\n",
       "        text-align: right;\n",
       "    }\n",
       "</style>\n",
       "<table border=\"1\" class=\"dataframe\">\n",
       "  <thead>\n",
       "    <tr>\n",
       "      <th></th>\n",
       "      <th>count</th>\n",
       "      <th>mean</th>\n",
       "    </tr>\n",
       "    <tr>\n",
       "      <th></th>\n",
       "      <th>ok_pred_g_rfc_fs1</th>\n",
       "      <th>ok_pred_g_rfc_fs1</th>\n",
       "    </tr>\n",
       "    <tr>\n",
       "      <th>granted_number_of_nights</th>\n",
       "      <th></th>\n",
       "      <th></th>\n",
       "    </tr>\n",
       "  </thead>\n",
       "  <tbody>\n",
       "    <tr>\n",
       "      <th>0</th>\n",
       "      <td>29201</td>\n",
       "      <td>0.016301</td>\n",
       "    </tr>\n",
       "    <tr>\n",
       "      <th>1</th>\n",
       "      <td>20478</td>\n",
       "      <td>0.302569</td>\n",
       "    </tr>\n",
       "    <tr>\n",
       "      <th>2</th>\n",
       "      <td>9245</td>\n",
       "      <td>0.868686</td>\n",
       "    </tr>\n",
       "    <tr>\n",
       "      <th>3</th>\n",
       "      <td>624</td>\n",
       "      <td>0.482372</td>\n",
       "    </tr>\n",
       "  </tbody>\n",
       "</table>\n",
       "</div>"
      ],
      "text/plain": [
       "                                     count              mean\n",
       "                         ok_pred_g_rfc_fs1 ok_pred_g_rfc_fs1\n",
       "granted_number_of_nights                                    \n",
       "0                                    29201          0.016301\n",
       "1                                    20478          0.302569\n",
       "2                                     9245          0.868686\n",
       "3                                      624          0.482372"
      ]
     },
     "execution_count": 587,
     "metadata": {},
     "output_type": "execute_result"
    }
   ],
   "source": [
    "y_test_pred = g_rfc_fs1_cv.best_estimator_.predict(X_test_n)\n",
    "df_test[\"y_test_pred_g_rfc_fs1\"] = y_test_pred\n",
    "df_test[\"ok_pred_g_rfc_fs1\"] = df_test[\"y_test_pred_g_rfc_fs1\"] \\\n",
    "    == df_test[\"granted_number_of_nights\"]\n",
    "\n",
    "#def fun_mean_ok(serie_in, nb_samples):\n",
    "\n",
    "pt_count_g_rfc_fs1 = pd.pivot_table(df_test, \n",
    "                              values=['ok_pred_g_rfc_fs1'], \n",
    "               index=['granted_number_of_nights'], aggfunc=[\"count\",\"mean\"])\n",
    "pt_count_g_rfc_fs1"
   ]
  },
  {
   "cell_type": "code",
   "execution_count": 606,
   "metadata": {},
   "outputs": [
    {
     "data": {
      "image/png": "[encoded data removed]",
      "text/plain": [
       "<Figure size 360x360 with 1 Axes>"
      ]
     },
     "metadata": {},
     "output_type": "display_data"
    }
   ],
   "source": [
    "g = sns.catplot(x=\"granted_number_of_nights\", y=\"ok_pred_g_rfc_fs1\", \n",
    "                data=df_test, saturation=.5,\n",
    "                kind=\"bar\", ci=None)\n",
    "fig = plt.gcf()\n",
    "ax = plt.gca()\n",
    "ax.set_title(\"RFC (CV) : Mean accuracy\");"
   ]
  },
  {
   "cell_type": "code",
   "execution_count": 589,
   "metadata": {
    "scrolled": false
   },
   "outputs": [
    {
     "data": {
      "text/plain": [
       "(<matplotlib.axes._subplots.AxesSubplot at 0x1a67812bd0>,\n",
       " <Figure size 1080x612 with 1 Axes>)"
      ]
     },
     "execution_count": 589,
     "metadata": {},
     "output_type": "execute_result"
    },
    {
     "data": {
      "image/png": "[encoded data removed]",
      "text/plain": [
       "<Figure size 1080x612 with 1 Axes>"
      ]
     },
     "metadata": {},
     "output_type": "display_data"
    }
   ],
   "source": [
    "plot_res_test_split(df_res_rfc_fs1_cv, \"score\", \"param_n_estimators\", \n",
    "                    \"param_min_samples_split\",\n",
    "                    y_min=-0.8, \n",
    "                    myFixedParam=\"param_max_depth\",\n",
    "                    myFixedValue=25)"
   ]
  },
  {
   "cell_type": "markdown",
   "metadata": {},
   "source": [
    "=> OK : best score is 0.814 with error margin +/- 0.05\n",
    "\n",
    "For min_sample_split=250 and n_estimators=200\n",
    "\n",
    "We can increase n_estimators but model will be very big and slow.\n"
   ]
  },
  {
   "cell_type": "markdown",
   "metadata": {},
   "source": [
    "##### Save model"
   ]
  },
  {
   "cell_type": "code",
   "execution_count": 590,
   "metadata": {},
   "outputs": [
    {
     "data": {
      "text/plain": [
       "['rfc_fs1_cv.joblib']"
      ]
     },
     "execution_count": 590,
     "metadata": {},
     "output_type": "execute_result"
    }
   ],
   "source": [
    "dump(g_rfc_fs1_cv.best_estimator_, 'rfc_fs1_cv.joblib', compress=3) "
   ]
  },
  {
   "cell_type": "markdown",
   "metadata": {},
   "source": [
    "##### add score"
   ]
  },
  {
   "cell_type": "code",
   "execution_count": 631,
   "metadata": {},
   "outputs": [
    {
     "name": "stdout",
     "output_type": "stream",
     "text": [
      "update line\n"
     ]
    },
    {
     "data": {
      "text/html": [
       "<div>\n",
       "<style scoped>\n",
       "    .dataframe tbody tr th:only-of-type {\n",
       "        vertical-align: middle;\n",
       "    }\n",
       "\n",
       "    .dataframe tbody tr th {\n",
       "        vertical-align: top;\n",
       "    }\n",
       "\n",
       "    .dataframe thead th {\n",
       "        text-align: right;\n",
       "    }\n",
       "</style>\n",
       "<table border=\"1\" class=\"dataframe\">\n",
       "  <thead>\n",
       "    <tr style=\"text-align: right;\">\n",
       "      <th></th>\n",
       "      <th>test_score</th>\n",
       "      <th>test_mean_acc_0</th>\n",
       "      <th>test_mean_acc_1</th>\n",
       "      <th>test_mean_acc_2</th>\n",
       "      <th>test_mean_acc_3</th>\n",
       "    </tr>\n",
       "  </thead>\n",
       "  <tbody>\n",
       "    <tr>\n",
       "      <th>rfc_fs1_cv</th>\n",
       "      <td>0.806099</td>\n",
       "      <td>0.016301</td>\n",
       "      <td>0.302569</td>\n",
       "      <td>0.868686</td>\n",
       "      <td>0.482372</td>\n",
       "    </tr>\n",
       "  </tbody>\n",
       "</table>\n",
       "</div>"
      ],
      "text/plain": [
       "            test_score  test_mean_acc_0  test_mean_acc_1  test_mean_acc_2  \\\n",
       "rfc_fs1_cv    0.806099         0.016301         0.302569         0.868686   \n",
       "\n",
       "            test_mean_acc_3  \n",
       "rfc_fs1_cv         0.482372  "
      ]
     },
     "execution_count": 631,
     "metadata": {},
     "output_type": "execute_result"
    }
   ],
   "source": [
    "dict_scores = {\"test_score\": test_score,\n",
    "    \"test_mean_acc_0\": pt_count_g_rfc_fs1.loc[0, ('mean','ok_pred_g_rfc_fs1')],\n",
    "    \"test_mean_acc_1\": pt_count_g_rfc_fs1.loc[1, ('mean','ok_pred_g_rfc_fs1')],\n",
    "    \"test_mean_acc_2\": pt_count_g_rfc_fs1.loc[2, ('mean','ok_pred_g_rfc_fs1')],\n",
    "    \"test_mean_acc_3\": pt_count_g_rfc_fs1.loc[3, ('mean','ok_pred_g_rfc_fs1')],\n",
    "                }\n",
    "\n",
    "df_results = add_score(df_results, pd.Series(data = dict_scores), 'rfc_fs1_cv')\n",
    "df_results"
   ]
  },
  {
   "cell_type": "markdown",
   "metadata": {},
   "source": [
    "#### GradientBoosting"
   ]
  },
  {
   "cell_type": "code",
   "execution_count": 593,
   "metadata": {},
   "outputs": [
    {
     "name": "stdout",
     "output_type": "stream",
     "text": [
      "GradientBoostingClassifier(ccp_alpha=0.0, criterion='friedman_mse', init=None,\n",
      "                           learning_rate=0.1, loss='deviance', max_depth=10,\n",
      "                           max_features=None, max_leaf_nodes=None,\n",
      "                           min_impurity_decrease=0.0, min_impurity_split=None,\n",
      "                           min_samples_leaf=1, min_samples_split=2,\n",
      "                           min_weight_fraction_leaf=0.0, n_estimators=20,\n",
      "                           n_iter_no_change=None, presort='deprecated',\n",
      "                           random_state=0, subsample=1.0, tol=0.0001,\n",
      "                           validation_fraction=0.1, verbose=0,\n",
      "                           warm_start=False)\n",
      "timing total: 179.62508702278137 s\n"
     ]
    }
   ],
   "source": [
    "gbc_fs1 = GradientBoostingClassifier(random_state=0, n_estimators=20,\n",
    "                                    max_depth=10) # 0.814 t=144s <-OK\n",
    "# fitting\n",
    "t_0 = time.time()\n",
    "gbc_fs1.fit(X_train_n, y_train, sample_weight=10**y_train)\n",
    "t_1 = time.time()\n",
    "print(gbc_fs1)\n",
    "print(\"timing total: {} s\".format(t_1-t_0))"
   ]
  },
  {
   "cell_type": "code",
   "execution_count": 594,
   "metadata": {},
   "outputs": [
    {
     "name": "stdout",
     "output_type": "stream",
     "text": [
      "Train acc :  0.34865717008619135\n",
      "Test acc :  0.33169879760865184\n",
      "Test score : 0.814464931401777\n"
     ]
    }
   ],
   "source": [
    "print(\"Train acc : \", \n",
    "      gbc_fs1.score(X_train_n, y_train))\n",
    "print(\"Test acc : \",\n",
    "      gbc_fs1.score(X_test_n, y_test))\n",
    "\n",
    "prob_Y_test = gbc_fs1.predict_proba(X_test_n)\n",
    "gbc_fs1_score = competition_scorer(y_test, prob_Y_test)\n",
    "print(f'Test score : {gbc_fs1_score}')"
   ]
  },
  {
   "cell_type": "code",
   "execution_count": 595,
   "metadata": {},
   "outputs": [
    {
     "name": "stdout",
     "output_type": "stream",
     "text": [
      "Mean accuracy: \n"
     ]
    },
    {
     "data": {
      "text/plain": [
       "0.33169879760865184"
      ]
     },
     "execution_count": 595,
     "metadata": {},
     "output_type": "execute_result"
    }
   ],
   "source": [
    "y_test_pred = gbc_fs1.predict(X_test_n)\n",
    "print(\"Mean accuracy: \")\n",
    "accuracy_score(y_test, y_test_pred)"
   ]
  },
  {
   "cell_type": "code",
   "execution_count": 596,
   "metadata": {},
   "outputs": [
    {
     "data": {
      "text/html": [
       "<div>\n",
       "<style scoped>\n",
       "    .dataframe tbody tr th:only-of-type {\n",
       "        vertical-align: middle;\n",
       "    }\n",
       "\n",
       "    .dataframe tbody tr th {\n",
       "        vertical-align: top;\n",
       "    }\n",
       "\n",
       "    .dataframe thead tr th {\n",
       "        text-align: left;\n",
       "    }\n",
       "\n",
       "    .dataframe thead tr:last-of-type th {\n",
       "        text-align: right;\n",
       "    }\n",
       "</style>\n",
       "<table border=\"1\" class=\"dataframe\">\n",
       "  <thead>\n",
       "    <tr>\n",
       "      <th></th>\n",
       "      <th>count</th>\n",
       "      <th>mean</th>\n",
       "    </tr>\n",
       "    <tr>\n",
       "      <th></th>\n",
       "      <th>ok_pred_gbc_fs1</th>\n",
       "      <th>ok_pred_gbc_fs1</th>\n",
       "    </tr>\n",
       "    <tr>\n",
       "      <th>granted_number_of_nights</th>\n",
       "      <th></th>\n",
       "      <th></th>\n",
       "    </tr>\n",
       "  </thead>\n",
       "  <tbody>\n",
       "    <tr>\n",
       "      <th>0</th>\n",
       "      <td>29201</td>\n",
       "      <td>0.153282</td>\n",
       "    </tr>\n",
       "    <tr>\n",
       "      <th>1</th>\n",
       "      <td>20478</td>\n",
       "      <td>0.350669</td>\n",
       "    </tr>\n",
       "    <tr>\n",
       "      <th>2</th>\n",
       "      <td>9245</td>\n",
       "      <td>0.841644</td>\n",
       "    </tr>\n",
       "    <tr>\n",
       "      <th>3</th>\n",
       "      <td>624</td>\n",
       "      <td>0.503205</td>\n",
       "    </tr>\n",
       "  </tbody>\n",
       "</table>\n",
       "</div>"
      ],
      "text/plain": [
       "                                   count            mean\n",
       "                         ok_pred_gbc_fs1 ok_pred_gbc_fs1\n",
       "granted_number_of_nights                                \n",
       "0                                  29201        0.153282\n",
       "1                                  20478        0.350669\n",
       "2                                   9245        0.841644\n",
       "3                                    624        0.503205"
      ]
     },
     "execution_count": 596,
     "metadata": {},
     "output_type": "execute_result"
    }
   ],
   "source": [
    "# add prediction into database\n",
    "df_test[\"y_test_pred_gbc_fs1\"] = y_test_pred\n",
    "\n",
    "df_test[\"ok_pred_gbc_fs1\"] = df_test[\"y_test_pred_gbc_fs1\"] \\\n",
    "    == df_test[\"granted_number_of_nights\"]\n",
    "\n",
    "# pivot table to calculate mean accuracy by classes\n",
    "pt_count_gbc_fs1 = pd.pivot_table(df_test, \n",
    "                              values=['ok_pred_gbc_fs1'], \n",
    "               index=['granted_number_of_nights'], aggfunc=[\"count\", np.mean])\n",
    "pt_count_gbc_fs1"
   ]
  },
  {
   "cell_type": "code",
   "execution_count": 603,
   "metadata": {},
   "outputs": [
    {
     "data": {
      "image/png": "[encoded data removed]",
      "text/plain": [
       "<Figure size 360x360 with 1 Axes>"
      ]
     },
     "metadata": {},
     "output_type": "display_data"
    }
   ],
   "source": [
    "g = sns.catplot(x=\"granted_number_of_nights\", y=\"ok_pred_gbc_fs1\", \n",
    "                data=df_test, saturation=.5,\n",
    "                kind=\"bar\", ci=None)\n",
    "fig = plt.gcf()\n",
    "ax = plt.gca()\n",
    "ax.set_title(\"GBC : Mean accuracy\");"
   ]
  },
  {
   "cell_type": "markdown",
   "metadata": {},
   "source": [
    "##### Cross validation"
   ]
  },
  {
   "cell_type": "code",
   "execution_count": 607,
   "metadata": {},
   "outputs": [],
   "source": [
    "gbc_fs1_cv = GradientBoostingClassifier(random_state=0)"
   ]
  },
  {
   "cell_type": "code",
   "execution_count": 608,
   "metadata": {},
   "outputs": [
    {
     "data": {
      "text/plain": [
       "{'n_estimators': [10, 20, 30],\n",
       " 'min_samples_split': [1, 3, 10],\n",
       " 'max_depth': [10]}"
      ]
     },
     "execution_count": 608,
     "metadata": {},
     "output_type": "execute_result"
    }
   ],
   "source": [
    "n_estimators_range = [10, 20, 30]\n",
    "max_depth_range = [10]\n",
    "min_samples_split_range = [1, 3, 10]\n",
    "score = make_scorer(competition_scorer, greater_is_better=False, \n",
    "                   needs_proba=True)\n",
    "\n",
    "# parameter grid\n",
    "param_grid = {'n_estimators': n_estimators_range, \n",
    "              'min_samples_split': min_samples_split_range,\n",
    "              'max_depth': max_depth_range}\n",
    "param_grid"
   ]
  },
  {
   "cell_type": "code",
   "execution_count": null,
   "metadata": {},
   "outputs": [],
   "source": [
    "# Cross validation for hyperparameters\n",
    "g_gbc_fs1_cv = model_selection.GridSearchCV(gbc_fs1_cv,\n",
    "    param_grid,  \n",
    "    cv=cv,\n",
    "    scoring=score,\n",
    "    n_jobs=-1) \n",
    "\n",
    "# Optimize\n",
    "t_0 = time.time()\n",
    "g_gbc_fs1_cv.fit(X_train_n, y_train, sample_weight=10**y_train)\n",
    "t_1 = time.time()\n",
    "print(\"timing total: {} s\".format(t_1-t_0))\n",
    "# Afficher le(s) hyperparamètre(s) optimaux\n",
    "print(\"Meilleur(s) hyperparamètre(s) sur le jeu d'entraînement:\")\n",
    "print (g_gbc_fs1_cv.best_params_)"
   ]
  },
  {
   "cell_type": "code",
   "execution_count": null,
   "metadata": {},
   "outputs": [],
   "source": [
    "df_res_gbc_fs1_cv = pd.DataFrame(data=g_gbc_fs1_cv.cv_results_)\n",
    "df_res_gbc_fs1_cv.sort_values(by=\"rank_test_score\").T"
   ]
  },
  {
   "cell_type": "markdown",
   "metadata": {},
   "source": [
    "Plot of hyperparameters impacts : "
   ]
  },
  {
   "cell_type": "code",
   "execution_count": null,
   "metadata": {},
   "outputs": [],
   "source": [
    "plot_res_test_split(df_res_gbc_fs1_cv, \"score\", \"param_n_estimators\", \n",
    "                    \"param_min_samples_split\",\n",
    "                    y_min=-0.8, \n",
    "                    myFixedParam=\"param_max_depth\",\n",
    "                    myFixedValue=25)"
   ]
  },
  {
   "cell_type": "markdown",
   "metadata": {},
   "source": [
    "Scores : "
   ]
  },
  {
   "cell_type": "code",
   "execution_count": null,
   "metadata": {},
   "outputs": [],
   "source": [
    "print(\"Train mean accuracy :\", \n",
    "      g_gbc_fs1_cv.best_estimator_.score(X_train_n, y_train))\n",
    "print(\"Test mean accuracy : \",\n",
    "      g_gbc_fs1_cv.best_estimator_.score(X_test_n, y_test))\n",
    "\n",
    "prob_Y_test = g_gbc_fs1_cv.best_estimator_.predict_proba(X_test_n)\n",
    "\n",
    "test_score = competition_scorer(y_test, prob_Y_test)\n",
    "print(f'Test score : {test_score}')"
   ]
  },
  {
   "cell_type": "markdown",
   "metadata": {},
   "source": [
    "=> OK : Test score is < 1"
   ]
  },
  {
   "cell_type": "code",
   "execution_count": null,
   "metadata": {},
   "outputs": [],
   "source": [
    "# predict Test\n",
    "y_test_pred = g_gbc_fs1_cv.best_estimator_.predict(X_test_n)\n",
    "\n",
    "# add data\n",
    "df_test[\"y_test_pred_g_gbc_fs1\"] = y_test_pred\n",
    "df_test[\"ok_pred_g_gbc_fs1\"] = df_test[\"y_test_pred_g_gbc_fs1\"] \\\n",
    "    == df_test[\"granted_number_of_nights\"]\n",
    "\n",
    "# table of mean accuracy by classes\n",
    "pt_count_g_gbc_fs1 = pd.pivot_table(df_test, \n",
    "                              values=['ok_pred_g_gbc_fs1'], \n",
    "               index=['granted_number_of_nights'], aggfunc=[\"count\",\"mean\"])\n",
    "pt_count_g_gbc_fs1"
   ]
  },
  {
   "cell_type": "code",
   "execution_count": null,
   "metadata": {},
   "outputs": [],
   "source": [
    "g = sns.catplot(x=\"granted_number_of_nights\", y=\"ok_pred_g_gbc_fs1\", \n",
    "                data=df_test, saturation=.5,\n",
    "                kind=\"bar\", ci=None)\n",
    "\n",
    "fig = plt.gcf()\n",
    "ax = plt.gca()\n",
    "ax.set_title(\"GBC (CV) : Mean accuracy\");"
   ]
  },
  {
   "cell_type": "code",
   "execution_count": null,
   "metadata": {},
   "outputs": [],
   "source": [
    "dict_scores = {\"test_score\": test_score,\n",
    "    \"test_mean_acc_0\": pt_count_g_gbc_fs1.loc[0, ('mean','ok_pred_g_gbc_fs1')],\n",
    "    \"test_mean_acc_1\": pt_count_g_gbc_fs1.loc[1, ('mean','ok_pred_g_gbc_fs1')],\n",
    "    \"test_mean_acc_2\": pt_count_g_gbc_fs1.loc[2, ('mean','ok_pred_g_gbc_fs1')],\n",
    "    \"test_mean_acc_3\": pt_count_g_gbc_fs1.loc[3, ('mean','ok_pred_g_gbc_fs1')],\n",
    "                }\n",
    "\n",
    "add_score(df_results, pd.Series(data = dict_scores), 'gbc_fs1_cv')"
   ]
  },
  {
   "cell_type": "markdown",
   "metadata": {},
   "source": [
    "### Comprare & Conclusion"
   ]
  },
  {
   "cell_type": "code",
   "execution_count": 632,
   "metadata": {},
   "outputs": [
    {
     "name": "stdout",
     "output_type": "stream",
     "text": [
      "add line\n"
     ]
    },
    {
     "data": {
      "text/html": [
       "<div>\n",
       "<style scoped>\n",
       "    .dataframe tbody tr th:only-of-type {\n",
       "        vertical-align: middle;\n",
       "    }\n",
       "\n",
       "    .dataframe tbody tr th {\n",
       "        vertical-align: top;\n",
       "    }\n",
       "\n",
       "    .dataframe thead th {\n",
       "        text-align: right;\n",
       "    }\n",
       "</style>\n",
       "<table border=\"1\" class=\"dataframe\">\n",
       "  <thead>\n",
       "    <tr style=\"text-align: right;\">\n",
       "      <th></th>\n",
       "      <th>test_score</th>\n",
       "      <th>test_mean_acc_0</th>\n",
       "      <th>test_mean_acc_1</th>\n",
       "      <th>test_mean_acc_2</th>\n",
       "      <th>test_mean_acc_3</th>\n",
       "    </tr>\n",
       "  </thead>\n",
       "  <tbody>\n",
       "    <tr>\n",
       "      <th>rfc_fs1_cv</th>\n",
       "      <td>0.806099</td>\n",
       "      <td>0.016301</td>\n",
       "      <td>0.302569</td>\n",
       "      <td>0.868686</td>\n",
       "      <td>0.482372</td>\n",
       "    </tr>\n",
       "    <tr>\n",
       "      <th>gbc_fs1_cv</th>\n",
       "      <td>0.886709</td>\n",
       "      <td>0.014671</td>\n",
       "      <td>0.272312</td>\n",
       "      <td>0.781817</td>\n",
       "      <td>0.434135</td>\n",
       "    </tr>\n",
       "  </tbody>\n",
       "</table>\n",
       "</div>"
      ],
      "text/plain": [
       "            test_score  test_mean_acc_0  test_mean_acc_1  test_mean_acc_2  \\\n",
       "rfc_fs1_cv    0.806099         0.016301         0.302569         0.868686   \n",
       "gbc_fs1_cv    0.886709         0.014671         0.272312         0.781817   \n",
       "\n",
       "            test_mean_acc_3  \n",
       "rfc_fs1_cv         0.482372  \n",
       "gbc_fs1_cv         0.434135  "
      ]
     },
     "execution_count": 632,
     "metadata": {},
     "output_type": "execute_result"
    }
   ],
   "source": [
    "# test \n",
    "\n",
    "dict_scores = {\"test_score\": 1.1*test_score,\n",
    "    \"test_mean_acc_0\": 0.9*pt_count_g_rfc_fs1.loc[0, ('mean','ok_pred_g_rfc_fs1')],\n",
    "    \"test_mean_acc_1\": 0.9*pt_count_g_rfc_fs1.loc[1, ('mean','ok_pred_g_rfc_fs1')],\n",
    "    \"test_mean_acc_2\": 0.9*pt_count_g_rfc_fs1.loc[2, ('mean','ok_pred_g_rfc_fs1')],\n",
    "    \"test_mean_acc_3\": 0.9*pt_count_g_rfc_fs1.loc[3, ('mean','ok_pred_g_rfc_fs1')],\n",
    "                }\n",
    "\n",
    "df_results = add_score(df_results, pd.Series(data = dict_scores), 'gbc_fs1_cv')\n",
    "df_results"
   ]
  },
  {
   "cell_type": "code",
   "execution_count": 636,
   "metadata": {},
   "outputs": [
    {
     "data": {
      "image/png": "[encoded data removed]",
      "text/plain": [
       "<Figure size 864x288 with 1 Axes>"
      ]
     },
     "metadata": {},
     "output_type": "display_data"
    }
   ],
   "source": [
    "fig = plt.figure(figsize=(12, 4))\n",
    "plt.title(\"Test score [%]\")\n",
    "ax = sns.barplot(\n",
    "    y=df_results.index,\n",
    "    x=100*df_results[\"test_score\"], orient=\"h\")\n",
    "\n",
    "for I, index in enumerate(df_results.index):\n",
    "    plt.text(x=100*df_results.at[index,\"test_score\"]+1, y=I,\n",
    "      s= '{:.1f}'.format(100*df_results.at[index,\"test_score\"]), \n",
    "           fontsize=16)"
   ]
  },
  {
   "cell_type": "code",
   "execution_count": 638,
   "metadata": {},
   "outputs": [
    {
     "data": {
      "text/html": [
       "<div>\n",
       "<style scoped>\n",
       "    .dataframe tbody tr th:only-of-type {\n",
       "        vertical-align: middle;\n",
       "    }\n",
       "\n",
       "    .dataframe tbody tr th {\n",
       "        vertical-align: top;\n",
       "    }\n",
       "\n",
       "    .dataframe thead th {\n",
       "        text-align: right;\n",
       "    }\n",
       "</style>\n",
       "<table border=\"1\" class=\"dataframe\">\n",
       "  <thead>\n",
       "    <tr style=\"text-align: right;\">\n",
       "      <th></th>\n",
       "      <th>test_score</th>\n",
       "      <th>test_mean_acc_0</th>\n",
       "      <th>test_mean_acc_1</th>\n",
       "      <th>test_mean_acc_2</th>\n",
       "      <th>test_mean_acc_3</th>\n",
       "      <th>model</th>\n",
       "    </tr>\n",
       "  </thead>\n",
       "  <tbody>\n",
       "    <tr>\n",
       "      <th>rfc_fs1_cv</th>\n",
       "      <td>0.806099</td>\n",
       "      <td>0.016301</td>\n",
       "      <td>0.302569</td>\n",
       "      <td>0.868686</td>\n",
       "      <td>0.482372</td>\n",
       "      <td>rfc_fs1_cv</td>\n",
       "    </tr>\n",
       "    <tr>\n",
       "      <th>gbc_fs1_cv</th>\n",
       "      <td>0.886709</td>\n",
       "      <td>0.014671</td>\n",
       "      <td>0.272312</td>\n",
       "      <td>0.781817</td>\n",
       "      <td>0.434135</td>\n",
       "      <td>gbc_fs1_cv</td>\n",
       "    </tr>\n",
       "  </tbody>\n",
       "</table>\n",
       "</div>"
      ],
      "text/plain": [
       "            test_score  test_mean_acc_0  test_mean_acc_1  test_mean_acc_2  \\\n",
       "rfc_fs1_cv    0.806099         0.016301         0.302569         0.868686   \n",
       "gbc_fs1_cv    0.886709         0.014671         0.272312         0.781817   \n",
       "\n",
       "            test_mean_acc_3       model  \n",
       "rfc_fs1_cv         0.482372  rfc_fs1_cv  \n",
       "gbc_fs1_cv         0.434135  gbc_fs1_cv  "
      ]
     },
     "execution_count": 638,
     "metadata": {},
     "output_type": "execute_result"
    }
   ],
   "source": [
    "df_results"
   ]
  },
  {
   "cell_type": "code",
   "execution_count": 639,
   "metadata": {},
   "outputs": [],
   "source": [
    "df_results[\"model\"] = df_results.index\n",
    "\n",
    "df_plot = df_results.melt(id_vars=['model'], value_vars=['test_mean_acc_0', \n",
    "                                                'test_mean_acc_1', \n",
    "                                                'test_mean_acc_2', \n",
    "                                                'test_mean_acc_3'])"
   ]
  },
  {
   "cell_type": "code",
   "execution_count": 640,
   "metadata": {},
   "outputs": [
    {
     "data": {
      "text/html": [
       "<div>\n",
       "<style scoped>\n",
       "    .dataframe tbody tr th:only-of-type {\n",
       "        vertical-align: middle;\n",
       "    }\n",
       "\n",
       "    .dataframe tbody tr th {\n",
       "        vertical-align: top;\n",
       "    }\n",
       "\n",
       "    .dataframe thead th {\n",
       "        text-align: right;\n",
       "    }\n",
       "</style>\n",
       "<table border=\"1\" class=\"dataframe\">\n",
       "  <thead>\n",
       "    <tr style=\"text-align: right;\">\n",
       "      <th></th>\n",
       "      <th>model</th>\n",
       "      <th>variable</th>\n",
       "      <th>value</th>\n",
       "    </tr>\n",
       "  </thead>\n",
       "  <tbody>\n",
       "    <tr>\n",
       "      <th>0</th>\n",
       "      <td>rfc_fs1_cv</td>\n",
       "      <td>test_mean_acc_0</td>\n",
       "      <td>0.016301</td>\n",
       "    </tr>\n",
       "    <tr>\n",
       "      <th>1</th>\n",
       "      <td>gbc_fs1_cv</td>\n",
       "      <td>test_mean_acc_0</td>\n",
       "      <td>0.014671</td>\n",
       "    </tr>\n",
       "    <tr>\n",
       "      <th>2</th>\n",
       "      <td>rfc_fs1_cv</td>\n",
       "      <td>test_mean_acc_1</td>\n",
       "      <td>0.302569</td>\n",
       "    </tr>\n",
       "    <tr>\n",
       "      <th>3</th>\n",
       "      <td>gbc_fs1_cv</td>\n",
       "      <td>test_mean_acc_1</td>\n",
       "      <td>0.272312</td>\n",
       "    </tr>\n",
       "    <tr>\n",
       "      <th>4</th>\n",
       "      <td>rfc_fs1_cv</td>\n",
       "      <td>test_mean_acc_2</td>\n",
       "      <td>0.868686</td>\n",
       "    </tr>\n",
       "    <tr>\n",
       "      <th>5</th>\n",
       "      <td>gbc_fs1_cv</td>\n",
       "      <td>test_mean_acc_2</td>\n",
       "      <td>0.781817</td>\n",
       "    </tr>\n",
       "    <tr>\n",
       "      <th>6</th>\n",
       "      <td>rfc_fs1_cv</td>\n",
       "      <td>test_mean_acc_3</td>\n",
       "      <td>0.482372</td>\n",
       "    </tr>\n",
       "    <tr>\n",
       "      <th>7</th>\n",
       "      <td>gbc_fs1_cv</td>\n",
       "      <td>test_mean_acc_3</td>\n",
       "      <td>0.434135</td>\n",
       "    </tr>\n",
       "  </tbody>\n",
       "</table>\n",
       "</div>"
      ],
      "text/plain": [
       "        model         variable     value\n",
       "0  rfc_fs1_cv  test_mean_acc_0  0.016301\n",
       "1  gbc_fs1_cv  test_mean_acc_0  0.014671\n",
       "2  rfc_fs1_cv  test_mean_acc_1  0.302569\n",
       "3  gbc_fs1_cv  test_mean_acc_1  0.272312\n",
       "4  rfc_fs1_cv  test_mean_acc_2  0.868686\n",
       "5  gbc_fs1_cv  test_mean_acc_2  0.781817\n",
       "6  rfc_fs1_cv  test_mean_acc_3  0.482372\n",
       "7  gbc_fs1_cv  test_mean_acc_3  0.434135"
      ]
     },
     "execution_count": 640,
     "metadata": {},
     "output_type": "execute_result"
    }
   ],
   "source": [
    "df_plot"
   ]
  },
  {
   "cell_type": "code",
   "execution_count": null,
   "metadata": {},
   "outputs": [],
   "source": []
  },
  {
   "cell_type": "code",
   "execution_count": null,
   "metadata": {},
   "outputs": [],
   "source": [
    "fig = plt.figure(figsize=(12, 4))\n",
    "plt.title(\"Test score [%]\")\n",
    "ax = sns.barplot(\n",
    "    y=df_results.index,\n",
    "    x=100*df_results[\"test_score\"], orient=\"h\")\n",
    "\n",
    "for I, index in enumerate(df_results.index):\n",
    "    plt.text(x=100*df_results.at[index,\"test_score\"]+1, y=I,\n",
    "      s= '{:.1f}'.format(100*df_results.at[index,\"test_score\"]), \n",
    "           fontsize=16)"
   ]
  }
 ],
 "metadata": {
  "kernelspec": {
   "display_name": "Python 3",
   "language": "python",
   "name": "python3"
  },
  "language_info": {
   "codemirror_mode": {
    "name": "ipython",
    "version": 3
   },
   "file_extension": ".py",
   "mimetype": "text/x-python",
   "name": "python",
   "nbconvert_exporter": "python",
   "pygments_lexer": "ipython3",
   "version": "3.7.6"
  },
  "toc": {
   "base_numbering": 1,
   "nav_menu": {},
   "number_sections": true,
   "sideBar": true,
   "skip_h1_title": false,
   "title_cell": "Table of Contents",
   "title_sidebar": "Contents",
   "toc_cell": false,
   "toc_position": {
    "height": "calc(100% - 180px)",
    "left": "10px",
    "top": "150px",
    "width": "186px"
   },
   "toc_section_display": true,
   "toc_window_display": true
  }
 },
 "nbformat": 4,
 "nbformat_minor": 4
}
